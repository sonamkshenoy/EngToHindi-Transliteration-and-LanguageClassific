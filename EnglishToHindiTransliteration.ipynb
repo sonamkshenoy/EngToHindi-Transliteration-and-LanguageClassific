{
  "nbformat": 4,
  "nbformat_minor": 0,
  "metadata": {
    "colab": {
      "name": "EnglishToHindiTransliteration.ipynb",
      "provenance": [],
      "collapsed_sections": [
        "K1YeJz5dcitT",
        "Zqgjb2HWgIR3",
        "DpMaU2DUiNS9",
        "VNIof8hFaWra",
        "wJA7cymMhIe8"
      ],
      "toc_visible": true,
      "authorship_tag": "ABX9TyN4TYXx5zSspD66CyiR5cIr"
    },
    "kernelspec": {
      "name": "python3",
      "display_name": "Python 3"
    },
    "accelerator": "GPU"
  },
  "cells": [
    {
      "cell_type": "markdown",
      "metadata": {
        "id": "h_PqBSQ4Rpzg"
      },
      "source": [
        "# English to Hindi Transliteration"
      ]
    },
    {
      "cell_type": "code",
      "metadata": {
        "id": "GLYVFJufavdk"
      },
      "source": [
        "import torch\n",
        "import torch.nn as nn\n",
        "import torch.optim as optim\n",
        "from torch.autograd import Variable\n",
        "import torch.nn.functional as F\n",
        "import numpy as np\n",
        "\n",
        "# Instantiates the device to be used as GPU/CPU based on availability\n",
        "device_gpu = torch.device(\"cuda:0\" if torch.cuda.is_available() else \"cpu\")"
      ],
      "execution_count": 1,
      "outputs": []
    },
    {
      "cell_type": "code",
      "metadata": {
        "id": "-YpfrGmEbobB"
      },
      "source": [
        "import matplotlib.pyplot as plt\n",
        "import seaborn as sns\n",
        "from IPython.display import clear_output\n",
        "import random"
      ],
      "execution_count": 2,
      "outputs": []
    },
    {
      "cell_type": "code",
      "metadata": {
        "id": "2FbPg0qBax0H",
        "outputId": "8d0b2774-9750-4ca9-9e59-3a3bd4e83c4f",
        "colab": {
          "base_uri": "https://localhost:8080/",
          "height": 34
        }
      },
      "source": [
        "device_gpu"
      ],
      "execution_count": 48,
      "outputs": [
        {
          "output_type": "execute_result",
          "data": {
            "text/plain": [
              "device(type='cuda', index=0)"
            ]
          },
          "metadata": {
            "tags": []
          },
          "execution_count": 48
        }
      ]
    },
    {
      "cell_type": "code",
      "metadata": {
        "id": "NlBBjyU8b324"
      },
      "source": [
        ""
      ],
      "execution_count": 2,
      "outputs": []
    },
    {
      "cell_type": "markdown",
      "metadata": {
        "id": "K1YeJz5dcitT"
      },
      "source": [
        "# Prepare Data"
      ]
    },
    {
      "cell_type": "markdown",
      "metadata": {
        "id": "476ASkj-clYp"
      },
      "source": [
        "### Alphabets setup"
      ]
    },
    {
      "cell_type": "markdown",
      "metadata": {
        "id": "Ew944iDyeaxt"
      },
      "source": [
        "Convert to numerical form (Encode)"
      ]
    },
    {
      "cell_type": "markdown",
      "metadata": {
        "id": "BoKmPaCce-7r"
      },
      "source": [
        "### English"
      ]
    },
    {
      "cell_type": "code",
      "metadata": {
        "id": "Y9_wc9lAcjp7",
        "outputId": "e74eb402-3797-46c5-dd73-7afa3a44d93a",
        "colab": {
          "base_uri": "https://localhost:8080/",
          "height": 54
        }
      },
      "source": [
        "eng_alphabets = 'ABCDEFGHIJKLMNOPQRSTUVWXYZ'\n",
        "pad_char = '-PAD-'\n",
        "\n",
        "eng_alpha2index = {pad_char:0}\n",
        "for index, alpha in enumerate(eng_alphabets):\n",
        "  eng_alpha2index[alpha] = index+1\n",
        "\n",
        "print(eng_alpha2index)"
      ],
      "execution_count": 4,
      "outputs": [
        {
          "output_type": "stream",
          "text": [
            "{'-PAD-': 0, 'A': 1, 'B': 2, 'C': 3, 'D': 4, 'E': 5, 'F': 6, 'G': 7, 'H': 8, 'I': 9, 'J': 10, 'K': 11, 'L': 12, 'M': 13, 'N': 14, 'O': 15, 'P': 16, 'Q': 17, 'R': 18, 'S': 19, 'T': 20, 'U': 21, 'V': 22, 'W': 23, 'X': 24, 'Y': 25, 'Z': 26}\n"
          ],
          "name": "stdout"
        }
      ]
    },
    {
      "cell_type": "markdown",
      "metadata": {
        "id": "f4BcT4Yzez35"
      },
      "source": [
        "### Hindi"
      ]
    },
    {
      "cell_type": "code",
      "metadata": {
        "id": "uQ_ZADU-dHm0",
        "outputId": "277733bc-74e6-4734-be5d-9b079167c5df",
        "colab": {
          "base_uri": "https://localhost:8080/",
          "height": 54
        }
      },
      "source": [
        "# Hindi Unicode Hex Range is 2304:2432\n",
        "\n",
        "hindi_alphabets = [chr(alpha) for alpha in range(2304, 2432)]\n",
        "hindi_alphabet_size = len(hindi_alphabets)\n",
        "\n",
        "hindi_alpha2index = {pad_char : 0}\n",
        "for index, alpha in enumerate(hindi_alphabets):\n",
        "  hindi_alpha2index[alpha] = index + 1\n",
        "\n",
        "print(hindi_alpha2index)"
      ],
      "execution_count": 5,
      "outputs": [
        {
          "output_type": "stream",
          "text": [
            "{'-PAD-': 0, 'ऀ': 1, 'ँ': 2, 'ं': 3, 'ः': 4, 'ऄ': 5, 'अ': 6, 'आ': 7, 'इ': 8, 'ई': 9, 'उ': 10, 'ऊ': 11, 'ऋ': 12, 'ऌ': 13, 'ऍ': 14, 'ऎ': 15, 'ए': 16, 'ऐ': 17, 'ऑ': 18, 'ऒ': 19, 'ओ': 20, 'औ': 21, 'क': 22, 'ख': 23, 'ग': 24, 'घ': 25, 'ङ': 26, 'च': 27, 'छ': 28, 'ज': 29, 'झ': 30, 'ञ': 31, 'ट': 32, 'ठ': 33, 'ड': 34, 'ढ': 35, 'ण': 36, 'त': 37, 'थ': 38, 'द': 39, 'ध': 40, 'न': 41, 'ऩ': 42, 'प': 43, 'फ': 44, 'ब': 45, 'भ': 46, 'म': 47, 'य': 48, 'र': 49, 'ऱ': 50, 'ल': 51, 'ळ': 52, 'ऴ': 53, 'व': 54, 'श': 55, 'ष': 56, 'स': 57, 'ह': 58, 'ऺ': 59, 'ऻ': 60, '़': 61, 'ऽ': 62, 'ा': 63, 'ि': 64, 'ी': 65, 'ु': 66, 'ू': 67, 'ृ': 68, 'ॄ': 69, 'ॅ': 70, 'ॆ': 71, 'े': 72, 'ै': 73, 'ॉ': 74, 'ॊ': 75, 'ो': 76, 'ौ': 77, '्': 78, 'ॎ': 79, 'ॏ': 80, 'ॐ': 81, '॑': 82, '॒': 83, '॓': 84, '॔': 85, 'ॕ': 86, 'ॖ': 87, 'ॗ': 88, 'क़': 89, 'ख़': 90, 'ग़': 91, 'ज़': 92, 'ड़': 93, 'ढ़': 94, 'फ़': 95, 'य़': 96, 'ॠ': 97, 'ॡ': 98, 'ॢ': 99, 'ॣ': 100, '।': 101, '॥': 102, '०': 103, '१': 104, '२': 105, '३': 106, '४': 107, '५': 108, '६': 109, '७': 110, '८': 111, '९': 112, '॰': 113, 'ॱ': 114, 'ॲ': 115, 'ॳ': 116, 'ॴ': 117, 'ॵ': 118, 'ॶ': 119, 'ॷ': 120, 'ॸ': 121, 'ॹ': 122, 'ॺ': 123, 'ॻ': 124, 'ॼ': 125, 'ॽ': 126, 'ॾ': 127, 'ॿ': 128}\n"
          ],
          "name": "stdout"
        }
      ]
    },
    {
      "cell_type": "markdown",
      "metadata": {
        "id": "2QbBoHqqgWEy"
      },
      "source": [
        "Note: de in devanagiri in Hindi, though looks like one character (in Hindi), is actually 2 unicode characters : da and e (in hindi)"
      ]
    },
    {
      "cell_type": "code",
      "metadata": {
        "id": "ssw7bkbcgElo"
      },
      "source": [
        ""
      ],
      "execution_count": 5,
      "outputs": []
    },
    {
      "cell_type": "markdown",
      "metadata": {
        "id": "Zqgjb2HWgIR3"
      },
      "source": [
        "# Data Pre-processing helper functions"
      ]
    },
    {
      "cell_type": "code",
      "metadata": {
        "id": "001Zhv85gLgE"
      },
      "source": [
        "import re # regular expressions\n",
        "non_eng_letters_regex = re.compile('[^a-zA-Z ]')\n",
        "\n",
        "# Remove all English non-letters (alphabets and space)\n",
        "def cleanEnglishVocab(line):\n",
        "  line = line.replace('-',' ').replace(',',' ').upper() # '-' and ',' act as space\n",
        "  line = non_eng_letters_regex.sub('', line) # substitute all chars of non_eng_letters_regex present in line by nothing ('')\n",
        "  return line.split()\n",
        "\n",
        "# Remove all Hindi non-letters\n",
        "def cleanHindiVocab(line):\n",
        "  # print(line)\n",
        "  line = line.replace('-',' ').replace(',',' ')\n",
        "  cleaned_line = ''\n",
        "  for char in line:\n",
        "    if char in hindi_alpha2index or char == ' ':\n",
        "      cleaned_line += char\n",
        "  return cleaned_line.split() # mistake : gave it one indent more so always returned length 1"
      ],
      "execution_count": 6,
      "outputs": []
    },
    {
      "cell_type": "markdown",
      "metadata": {
        "id": "DpMaU2DUiNS9"
      },
      "source": [
        "# Dataset Loading"
      ]
    },
    {
      "cell_type": "markdown",
      "metadata": {
        "id": "L988Q2HJSs6b"
      },
      "source": [
        "XML Parsing"
      ]
    },
    {
      "cell_type": "code",
      "metadata": {
        "id": "8n3fovAdiI3S"
      },
      "source": [
        "from torch.utils.data import Dataset\n",
        "import xml.etree.ElementTree as ET # available in Python"
      ],
      "execution_count": 12,
      "outputs": []
    },
    {
      "cell_type": "code",
      "metadata": {
        "id": "8EBkFmfbyUlU"
      },
      "source": [
        "tree = ET.parse('NEWS2012-Ref-EnHi-1000.xml')"
      ],
      "execution_count": 13,
      "outputs": []
    },
    {
      "cell_type": "code",
      "metadata": {
        "id": "TNVUETo1z3kT",
        "outputId": "70469c33-86ca-4bc5-d79c-a2739b7fab88",
        "colab": {
          "base_uri": "https://localhost:8080/",
          "height": 34
        }
      },
      "source": [
        "root = tree.getroot()\n",
        "print(root)"
      ],
      "execution_count": 14,
      "outputs": [
        {
          "output_type": "stream",
          "text": [
            "<Element 'TransliterationCorpus' at 0x7feeef9389f8>\n"
          ],
          "name": "stdout"
        }
      ]
    },
    {
      "cell_type": "code",
      "metadata": {
        "id": "UVyqSEw_z4TG",
        "outputId": "a05af756-ceb4-4fcb-e577-e72c65221b3f",
        "colab": {
          "base_uri": "https://localhost:8080/",
          "height": 35
        }
      },
      "source": [
        "root.tag"
      ],
      "execution_count": 15,
      "outputs": [
        {
          "output_type": "execute_result",
          "data": {
            "application/vnd.google.colaboratory.intrinsic+json": {
              "type": "string"
            },
            "text/plain": [
              "'TransliterationCorpus'"
            ]
          },
          "metadata": {
            "tags": []
          },
          "execution_count": 15
        }
      ]
    },
    {
      "cell_type": "markdown",
      "metadata": {
        "id": "jfnf6WMa0gz5"
      },
      "source": [
        "The root tag is named TransliterationCorpus"
      ]
    },
    {
      "cell_type": "code",
      "metadata": {
        "id": "bCeLQPlb0a1j",
        "outputId": "5e285a64-7610-4544-a215-9969040a4756",
        "colab": {
          "base_uri": "https://localhost:8080/",
          "height": 140
        }
      },
      "source": [
        "i = 0\n",
        "for child in root:\n",
        "    print(child.tag, child.attrib)\n",
        "    if i > 5:\n",
        "      break\n",
        "    i += 1"
      ],
      "execution_count": 16,
      "outputs": [
        {
          "output_type": "stream",
          "text": [
            "Name {'ID': '1'}\n",
            "Name {'ID': '2'}\n",
            "Name {'ID': '3'}\n",
            "Name {'ID': '4'}\n",
            "Name {'ID': '5'}\n",
            "Name {'ID': '6'}\n",
            "Name {'ID': '7'}\n"
          ],
          "name": "stdout"
        }
      ]
    },
    {
      "cell_type": "markdown",
      "metadata": {
        "id": "W0ieeJwn0_-Q"
      },
      "source": [
        "The next sub level tags are \"Name\" tags with \"ID\" attribute.  \n",
        "Similar to how a HTML tag div, has an attribute \"class\" or \"id\""
      ]
    },
    {
      "cell_type": "code",
      "metadata": {
        "id": "o0j0GsW81Tpo",
        "outputId": "39b780f9-a20b-4c49-d635-a8a035e4331f",
        "colab": {
          "base_uri": "https://localhost:8080/",
          "height": 246
        }
      },
      "source": [
        "i = 0\n",
        "for elem in root.iter():\n",
        "    print(elem.tag)\n",
        "    if i > 11:\n",
        "      break\n",
        "    i += 1"
      ],
      "execution_count": 17,
      "outputs": [
        {
          "output_type": "stream",
          "text": [
            "TransliterationCorpus\n",
            "Name\n",
            "SourceName\n",
            "TargetName\n",
            "Name\n",
            "SourceName\n",
            "TargetName\n",
            "Name\n",
            "SourceName\n",
            "TargetName\n",
            "Name\n",
            "SourceName\n",
            "TargetName\n"
          ],
          "name": "stdout"
        }
      ]
    },
    {
      "cell_type": "markdown",
      "metadata": {
        "id": "viobQC0t1xOa"
      },
      "source": [
        "The above lists the inner elements.  \n",
        "The inner structure is :  \n",
        "TransliterationCorpus -> Name -> SourceName at same level as TargetName"
      ]
    },
    {
      "cell_type": "code",
      "metadata": {
        "id": "hSYQ8lzJ2SXV",
        "outputId": "cdf0d83e-b583-41bc-8a37-a44919e415af",
        "colab": {
          "base_uri": "https://localhost:8080/",
          "height": 246
        }
      },
      "source": [
        "# [(ele.tag, ele.attrib) for ele in root.iter(\"Name\")] : prints all attributes of Name tag\n",
        "# nextelem.tag or nextelem.attrib prints empty braces since this tag has no attributes\n",
        "\n",
        "i = 0\n",
        "for nextelem in root.iter(\"SourceName\"):\n",
        "  print(nextelem.text)\n",
        "  if i > 11:\n",
        "    break\n",
        "  i += 1"
      ],
      "execution_count": 18,
      "outputs": [
        {
          "output_type": "stream",
          "text": [
            "Aadhi\n",
            "Aakash\n",
            "Aap\n",
            "Aayasha\n",
            "Aayee\n",
            "Abduh\n",
            "Aberhart\n",
            "Abey\n",
            "Abou\n",
            "Abri\n",
            "Academy\n",
            "Accommodation\n",
            "Acorn\n"
          ],
          "name": "stdout"
        }
      ]
    },
    {
      "cell_type": "code",
      "metadata": {
        "id": "4E6o0BKE3kND",
        "outputId": "7e2d88fd-6111-4257-e875-6fe2d3af597b",
        "colab": {
          "base_uri": "https://localhost:8080/",
          "height": 246
        }
      },
      "source": [
        "i = 0\n",
        "for nextelem in root.iter(\"TargetName\"):\n",
        "  print(nextelem.text)\n",
        "  if i > 11:\n",
        "    break\n",
        "  i += 1"
      ],
      "execution_count": 19,
      "outputs": [
        {
          "output_type": "stream",
          "text": [
            "आधी\n",
            "आकाश\n",
            "आप\n",
            "आयशा\n",
            "आई\n",
            "अब्दुस\n",
            "एबरहर्ट\n",
            "अबेय\n",
            "अबू\n",
            "एब्री\n",
            "अकेडमी\n",
            "एकेडमी\n",
            "एकोमडेशन\n"
          ],
          "name": "stdout"
        }
      ]
    },
    {
      "cell_type": "markdown",
      "metadata": {
        "id": "6M4hyLxz3sqD"
      },
      "source": [
        "Thus extracted English and corresponding Hindi from XML."
      ]
    },
    {
      "cell_type": "code",
      "metadata": {
        "id": "7LPJlN53zvMR"
      },
      "source": [
        "class TransliterationLoader(Dataset): # extends Dataset, adding features of our own to it\n",
        "  def __init__(self, filename):\n",
        "    self.eng_words, self.hindi_words = self.readXMLDataset(filename)\n",
        "    self.shuffle_indices = list(range(len(self.eng_words)))\n",
        "    random.shuffle(self.shuffle_indices)\n",
        "    self.shuffle_start_index = 0\n",
        "\n",
        "  def __len__(self):\n",
        "    return len(self.eng_words)\n",
        "\n",
        "  def __getitem__(self, idx):\n",
        "    return self.eng_words[idx], self.hindi_words[idx]\n",
        "\n",
        "  def readXMLDataset(self, filename):\n",
        "    transliterationCorpus = ET.parse(filename).getroot()\n",
        "    English_words = []\n",
        "    Hindi_words = []\n",
        "\n",
        "    for line in transliterationCorpus:\n",
        "      wordlist1 = cleanEnglishVocab(line[0].text)\n",
        "      wordlist2 = cleanHindiVocab(line[1].text)\n",
        "      # print(wordlist1, '-', wordlist2)\n",
        "\n",
        "      # Skip noisy data i.e. where number of \"words\" (not \"characters\" in each word) is not the same in English and Hindi\n",
        "      # e.g. English: Stirling Smith Museum And Art Gallery, Hindi: स (4 words in English corresponding to one in Hindi)\n",
        "      if len(wordlist1) != len(wordlist2):\n",
        "        print(\"Skipping: \", line[0].text, '-', line[1].text)\n",
        "        continue\n",
        "\n",
        "      # Since each tag may contain more than one word such as : ['STIRLING', 'SMITH', 'MUSEUM', 'AND', 'ART', 'GALLERY'], ['DEOGAN', 'ROAD']\n",
        "      # ['देवगन', 'रोड']\n",
        "      for word in wordlist1: \n",
        "        English_words.append(word)\n",
        "\n",
        "      for word in wordlist2: \n",
        "        Hindi_words.append(word)\n",
        "\n",
        "    return English_words, Hindi_words\n",
        "\n",
        "  def get_random_sample(self):\n",
        "    return self.__getitem__(np.random.randint(self.__len__()))\n",
        "\n",
        "  # generalise for Hindi and English (array is the parameter that decides if Hindi or English)\n",
        "  def get_batch_from_array(self, batch_size, array):\n",
        "    end = self.shuffle_start_index + batch_size\n",
        "    batch = []\n",
        "    if end >= self.__len__():\n",
        "      batch = [array[i] for i in self.shuffle_indices[0:end%self.__len__()]] # mod if batch size (\"end\") > the length of eng_words in the corpus we got from the XML file\n",
        "      end = self.__len__()\n",
        "    return batch + [array[i] for i in self.shuffle_indices[self.shuffle_start_index:end]]\n",
        "\n",
        "  def get_batch(self, batch_size, postprocess = True):\n",
        "    eng_batch = self.get_batch_from_array(batch_size, self.eng_words)\n",
        "    hindi_batch = self.get_batch_from_array(batch_size, self.hindi_words)\n",
        "    self.shuffle_start_index += batch_size + 1\n",
        "  \n",
        "    # Reshuffle if 1 epoch is complete\n",
        "    if self.shuffle_start_index >= self.__len__():\n",
        "      random.shuffle(self.shuffle_indices)\n",
        "      self.shuffle_start_index = 0\n",
        "\n",
        "    return eng_batch, hindi_batch"
      ],
      "execution_count": 20,
      "outputs": []
    },
    {
      "cell_type": "code",
      "metadata": {
        "id": "zI6zsl05UQO8",
        "outputId": "46012e55-3460-4b0b-9040-132d59375b51",
        "colab": {
          "base_uri": "https://localhost:8080/",
          "height": 703
        }
      },
      "source": [
        "train_data = TransliterationLoader('NEWS2012-Training-EnHi-13937.xml')\n",
        "test_data = TransliterationLoader('NEWS2012-Ref-EnHi-1000.xml')"
      ],
      "execution_count": 21,
      "outputs": [
        {
          "output_type": "stream",
          "text": [
            "Skipping:  BARHARWA JUNCTION - बरहरवा\n",
            "Skipping:  STATE BNK TR - स्टेट बैंक ऑफ त्रावणकोर\n",
            "Skipping:  SOUTH ARLINGTON CHURCH OF CHRIST - साउथ अर्लिंग्टन\n",
            "Skipping:  KING EDWARD VII - किंग एडवर्ड\n",
            "Skipping:  DIBANG VALLEY - दिबंगवैली\n",
            "Skipping:  ORDER OF VASA - ऑडर ऑफ़ द वासा\n",
            "Skipping:  AZAMNAGAR ROAD - आज़मनगर\n",
            "Skipping:  CAPE TOWN - केपटाउन\n",
            "Skipping:  NEW ZEALAND - न्यूज़ीलैंड\n",
            "Skipping:  SEA OF THE HEBRIDES - सी ऑफ हरब्रिड्‍स\n",
            "Skipping:  RAMCOIND - राम्को इंड\n",
            "Skipping:  KELVINGROVE ART GALLERY AND MUSEUM - केल्व‍िनग्रोव आर्ट एण्ड म्युज़ियम\n",
            "Skipping:  AUSTRALIAN NATIONAL UNIVERSITY - ऑस्ट्रेलियननेशनल यूनिवर्सिटी\n",
            "Skipping:  JAHAN AARA - जहाँआरा\n",
            "Skipping:  NAVABHARAT FERRO ALLOYS - नव भारत फ़ैरो अलॉय\n",
            "Skipping:  RAMA LINGESHWARA - रामालिंगेश्वर\n",
            "Skipping:  FAKHRUN NISA - फखरुन्निसा\n",
            "Skipping:  REDIFF.COM INDIA LIMITED - रेडिफ़ डॉट कॉम इंडिया लिमिटेड\n",
            "Skipping:  OMKARNATH THAKUR - ओंकार नाथ ठाकुर\n",
            "Skipping:  OPENTV - ओपन टीवी\n",
            "Skipping:  ENVOY COMMUNICATIONS GROUP - एन्वॉय कम्युनिकेशंस\n",
            "Skipping:  WAR OF THE HOLY LEAGUE - वार ऑफ होली लीग\n",
            "Skipping:  VAPARAISO CHURCH OF CHRIST - व्हापरासिओ\n",
            "Skipping:  PARIS CHARLES DE GAULLE - पेरिस रॉसे चार्ल्स डे ग्यूले\n",
            "Skipping:  PARKWAY APOSTOLIC - पार्क वे अपोस्टोलिक\n",
            "Skipping:  MAUNA LOA - मौनालोआ\n",
            "Skipping:  MASS MUTUAL LIFE - मास म्युच्युअल लाइफ़ इंश्योरेंस\n",
            "Skipping:  STATS CHIPPAC - स्टेट्सचिपपैक\n",
            "Skipping:  NEWFOUNDLAND - न्यू फाउंडलैंड\n",
            "Skipping:  LONDONHEATHROW - लंदन हीथ्रो\n",
            "Skipping:  RETALIX - रेटालिक्स लि.\n",
            "Skipping:  SRISAILAM - श्री शैलम\n",
            "Skipping:  KARA-KUM - काराकुम\n",
            "Skipping:  WIND RIVER - विंडरिवर\n",
            "Skipping:  NETAJI SUBHASH CHANDRA BOSE - नेताजी सुभाषचंद्र बोस\n",
            "Skipping:  ROCKBROOK UNITED - रॉकब्रुक यूनाइटेड मेथोडिस्ट\n",
            "Skipping:  WALTER SCOTT - वॉल्टरस्कॉट\n",
            "Skipping:  COLOURPLUS FASHIONS - कलर प्लस फ़ैशन्स\n",
            "Skipping:  BAL KRISHNA - बालकृष्णा\n"
          ],
          "name": "stdout"
        }
      ]
    },
    {
      "cell_type": "code",
      "metadata": {
        "id": "yG5dpuiPUglk"
      },
      "source": [
        ""
      ],
      "execution_count": 21,
      "outputs": []
    },
    {
      "cell_type": "markdown",
      "metadata": {
        "id": "VNIof8hFaWra"
      },
      "source": [
        "# Data Visualisation"
      ]
    },
    {
      "cell_type": "code",
      "metadata": {
        "id": "656wQxzhaZ2C",
        "outputId": "36636fe7-6ad1-4d9b-eca3-3436dc3543e7",
        "colab": {
          "base_uri": "https://localhost:8080/",
          "height": 263
        }
      },
      "source": [
        "print(\"Train set size: \", len(train_data))\n",
        "print(\"Test set size: \", len(test_data))\n",
        "\n",
        "print(\"\\nSample data from train set:\")\n",
        "for i in range(10):\n",
        "  eng, hindi = train_data.get_random_sample()\n",
        "  print(eng + '-' + hindi)"
      ],
      "execution_count": 22,
      "outputs": [
        {
          "output_type": "stream",
          "text": [
            "Train set size:  20543\n",
            "Test set size:  1000\n",
            "\n",
            "Sample data from train set:\n",
            "AVENT-एवेंट\n",
            "RAFTO-रैफ्टो\n",
            "BLAKEY-ब्लैकी\n",
            "EXPLOR-एक्सप्लोर\n",
            "SON-सन\n",
            "ELPIDA-एल्पिडा\n",
            "PUSHKIN-पिश्किन\n",
            "KABHI-कभी\n",
            "AFTEK-एफ़्टेक\n",
            "ROCKFORD-रॉकफ़ोर्ड\n"
          ],
          "name": "stdout"
        }
      ]
    },
    {
      "cell_type": "markdown",
      "metadata": {
        "id": "IscIrKxUgB2u"
      },
      "source": [
        "(Note all english converted to upper case)"
      ]
    },
    {
      "cell_type": "code",
      "metadata": {
        "id": "MrVYdVTrauCF"
      },
      "source": [
        ""
      ],
      "execution_count": 22,
      "outputs": []
    },
    {
      "cell_type": "markdown",
      "metadata": {
        "id": "wJA7cymMhIe8"
      },
      "source": [
        "# Encoding single words"
      ]
    },
    {
      "cell_type": "code",
      "metadata": {
        "id": "QBYkNaM4hJ80"
      },
      "source": [
        "# OHE for English words (input) - convert word to number (OHE main purpose to convert to number)\n",
        "def word_rep( word, letter2index, device = 'cpu'):\n",
        "  rep = torch.zeros(len(word)+1, 1, len(letter2index)).to(device)\n",
        "  # (number of characters in word, batch in sequence problems, OHE length of each character in vocabulary i.e. 27)\n",
        "  for letter_index, letter in enumerate(word):\n",
        "    pos = letter2index[letter]\n",
        "    rep[letter_index][0][pos] = 1\n",
        "  pad_pos = letter2index[pad_char]\n",
        "  # marking the last character in the word as PAD (remember we made word size = actual word size + 1)\n",
        "  rep[letter_index+1][0][pad_pos] = 1\n",
        "  return rep\n",
        "\n",
        "\n",
        "# Just label for Hindi words (output) sice just classification task\n",
        "def gt_rep(word, letter2index, device = 'cpu'): # ground truth\n",
        "  gt_rep = torch.zeros([len(word)+1, 1], dtype = torch.long).to(device)\n",
        "  for letter_index, letter in enumerate(word):\n",
        "    pos = letter2index[letter]\n",
        "    gt_rep[letter_index][0] =  pos\n",
        "  gt_rep[letter_index + 1][0] = letter2index[pad_char]\n",
        "  return gt_rep"
      ],
      "execution_count": 23,
      "outputs": []
    },
    {
      "cell_type": "markdown",
      "metadata": {
        "id": "B3MA0GlwjzUD"
      },
      "source": [
        "Get one pair of (English word, corresponding Hindi word)"
      ]
    },
    {
      "cell_type": "code",
      "metadata": {
        "id": "JPHQTkvYjyOf"
      },
      "source": [
        "eng, hindi = train_data.get_random_sample()"
      ],
      "execution_count": 24,
      "outputs": []
    },
    {
      "cell_type": "code",
      "metadata": {
        "id": "NLsaIG8ajiJs",
        "outputId": "958f9380-5bbc-4a57-a284-c04247a0d215",
        "colab": {
          "base_uri": "https://localhost:8080/",
          "height": 334
        }
      },
      "source": [
        "eng_rep = word_rep(eng, eng_alpha2index)\n",
        "print(eng, \"\\n\", eng_rep)"
      ],
      "execution_count": 25,
      "outputs": [
        {
          "output_type": "stream",
          "text": [
            "ROYAL \n",
            " tensor([[[0., 0., 0., 0., 0., 0., 0., 0., 0., 0., 0., 0., 0., 0., 0., 0., 0.,\n",
            "          0., 1., 0., 0., 0., 0., 0., 0., 0., 0.]],\n",
            "\n",
            "        [[0., 0., 0., 0., 0., 0., 0., 0., 0., 0., 0., 0., 0., 0., 0., 1., 0.,\n",
            "          0., 0., 0., 0., 0., 0., 0., 0., 0., 0.]],\n",
            "\n",
            "        [[0., 0., 0., 0., 0., 0., 0., 0., 0., 0., 0., 0., 0., 0., 0., 0., 0.,\n",
            "          0., 0., 0., 0., 0., 0., 0., 0., 1., 0.]],\n",
            "\n",
            "        [[0., 1., 0., 0., 0., 0., 0., 0., 0., 0., 0., 0., 0., 0., 0., 0., 0.,\n",
            "          0., 0., 0., 0., 0., 0., 0., 0., 0., 0.]],\n",
            "\n",
            "        [[0., 0., 0., 0., 0., 0., 0., 0., 0., 0., 0., 0., 1., 0., 0., 0., 0.,\n",
            "          0., 0., 0., 0., 0., 0., 0., 0., 0., 0.]],\n",
            "\n",
            "        [[1., 0., 0., 0., 0., 0., 0., 0., 0., 0., 0., 0., 0., 0., 0., 0., 0.,\n",
            "          0., 0., 0., 0., 0., 0., 0., 0., 0., 0.]]])\n"
          ],
          "name": "stdout"
        }
      ]
    },
    {
      "cell_type": "markdown",
      "metadata": {
        "id": "skF7lKe8kDJ_"
      },
      "source": [
        "8 characters including PAD"
      ]
    },
    {
      "cell_type": "code",
      "metadata": {
        "id": "ci7RZZ40jtcJ",
        "outputId": "85d56322-3525-4337-d32a-08a2c5eaa3ee",
        "colab": {
          "base_uri": "https://localhost:8080/",
          "height": 122
        }
      },
      "source": [
        "hindi_gt = gt_rep(hindi, hindi_alpha2index)\n",
        "print(hindi, \"\\n\", hindi_gt)"
      ],
      "execution_count": 26,
      "outputs": [
        {
          "output_type": "stream",
          "text": [
            "रॉयल \n",
            " tensor([[49],\n",
            "        [74],\n",
            "        [48],\n",
            "        [51],\n",
            "        [ 0]])\n"
          ],
          "name": "stdout"
        }
      ]
    },
    {
      "cell_type": "markdown",
      "metadata": {
        "id": "QTkPDB8wkQcA"
      },
      "source": [
        "6 characters including PAD (kha, i, da, aa, sha, PAD)"
      ]
    },
    {
      "cell_type": "markdown",
      "metadata": {
        "id": "Y2vBNRtAkrIZ"
      },
      "source": [
        "***NOTE: Number of characters in input need not correspond to number of characters in output. That's the reason we use encoder-decoder architecture***"
      ]
    },
    {
      "cell_type": "code",
      "metadata": {
        "id": "vOHZYI0Ij9K3"
      },
      "source": [
        ""
      ],
      "execution_count": 26,
      "outputs": []
    },
    {
      "cell_type": "markdown",
      "metadata": {
        "id": "fPa5L0Z4lT0c"
      },
      "source": [
        "# Network Architecture"
      ]
    },
    {
      "cell_type": "markdown",
      "metadata": {
        "id": "aoOOHrzPlTtC"
      },
      "source": [
        "Note: 3 letters in input (KHI) correspond to two letters in output (kha, i)  \n",
        "Similarly 2 letters in input (SH) correspond to one in output (sha)"
      ]
    },
    {
      "cell_type": "markdown",
      "metadata": {
        "id": "gqHWzuDMlp-r"
      },
      "source": [
        "In such tasks, where output size != input size, need to encode entire input using the encoder part.  \n",
        "And then process it further using the decoder."
      ]
    },
    {
      "cell_type": "markdown",
      "metadata": {
        "id": "Q4y6Yf-jo43L"
      },
      "source": [
        "## Encoder-Decoder Using GRU"
      ]
    },
    {
      "cell_type": "code",
      "metadata": {
        "id": "eleXMZTYle75"
      },
      "source": [
        "MAX_OUTPUT_CHARS = 30\n",
        "class Transliteration_EncoderDecoder(nn.Module):\n",
        "\n",
        "  def __init__(self, input_size, hidden_size, output_size, verbose = False):\n",
        "    # input size is the size of each input character of the word i.e. 27 (OHE)\n",
        "    # output size is the size of each output word character i.e. 129 Hindi characters (Label)\n",
        "    # hidden_size is the number of layers (hyperparameters) of both encoder and decoder RNN cell (needn't be the same, can take 2 parameters for encoder hidden size and decoder hidden size)\n",
        "\n",
        "    super(Transliteration_EncoderDecoder, self).__init__()\n",
        "\n",
        "    self.hidden_size = hidden_size\n",
        "    self.output_size = output_size\n",
        "\n",
        "    # size of input to encoder cell is input_size\n",
        "    self.encoder_rnn_cell = nn.GRU(input_size, hidden_size)\n",
        "    # size of input to decoder cell is output_size, since the output of the previous timestamp is itself fed to the decoder cell of the current timestamp\n",
        "    self.decoder_rnn_cell = nn.GRU(output_size, hidden_size)\n",
        "\n",
        "    # fully connected\n",
        "    self.h2o = nn.Linear(hidden_size, output_size)\n",
        "    # softmax since classification\n",
        "    self.softmax = nn.LogSoftmax(dim=2)\n",
        "\n",
        "    self.verbose = verbose\n",
        "\n",
        "  def forward(self, input, max_output_chars = MAX_OUTPUT_CHARS, device = 'cpu', ground_truth = None):\n",
        "\n",
        "    # encoder\n",
        "\n",
        "    \"\"\"\n",
        "    Very important:\n",
        "    Encoder is a single GRU/LSTM cell (here, GRU). Now feeding to it (encoding) can be done in 2 ways when sequence (string) problems.\n",
        "    i) Feeding one character (vector size : 27), one at a time. And call it as many times as there are alphabets in the word. Thus input to the GRU once is (1,1,27)\n",
        "    ii) Feeding all the characters at once. In that case, input to GRU is (number of alphabets in word, 1, 27). In one go, computes output of the 6 characters. Internally it happens step wise - i.e. first cell, then output to second cell and so on.\n",
        "    This is possible, since encoding is a simple computation.\n",
        "    The dimension of the \"out\" correspondingly changes.\n",
        "    \"\"\"\n",
        "    out, hidden = self.encoder_rnn_cell(input)\n",
        "\n",
        "    if self.verbose:\n",
        "      print('Encoder input', input.shape)\n",
        "      print('Encoder ouput', out.shape)\n",
        "      print('Encoder hidden', hidden.shape)\n",
        "\n",
        "    # decoder\n",
        "    decoder_state = hidden # the first time the decoder state is set to value of last hidden layer of the encoder\n",
        "    decoder_input = torch.zeros(1, 1, self.output_size).to(device)\n",
        "    outputs = []\n",
        "\n",
        "    if self.verbose:\n",
        "      print('Decoder state', decoder_state.shape)\n",
        "      print('Decoder input', decoder_input.shape)\n",
        "\n",
        "    # unlike encoder, not going to invoke decoder in a single call, but loop through\n",
        "    for i in range(max_output_chars):\n",
        "\n",
        "      # the next time the decoder state is the hidden layer's output. Note hidden layer has two outputs. One to right that goes to hidden layer of next cell (timestamp) and the other that is the output of the cell (current character)\n",
        "      out, decoder_state = self.decoder_rnn_cell(decoder_input, decoder_state) # (input i.e. the previous Hindi char, state i.e. the output of the final hidden layer)\n",
        "\n",
        "      if self.verbose:\n",
        "        print('Decoder intermediate output', out.shape)\n",
        "\n",
        "      # Calculate final output of cell (1,1,129) from hidden output (1,1,256). h2o is defined in the init. A fully connected layer that converts 129 to 256\n",
        "      out = self.h2o(decoder_state)\n",
        "      out = self.softmax(out) # softmax\n",
        "      outputs.append(out.view(1, -1)) # the prediction of the current Hindi character appended to whole output word\n",
        "\n",
        "\n",
        "      \"\"\"\n",
        "      From here, conversion of the output of this layer to a form suitable for next layer\n",
        "      Instead of passing the softmax directly (1,1,129), we create a one hot encoding of it [ also (1,1,129) since that's the decoder input size ], where the highest softmax value is set as the index. And the rest to zero since the initial few times, we'll be sending the ground truth directly (which is in OHE), instead of the predicted output of the previous decoder cell since that leads to better training during the first few epochs till it learns a bit. After that continue training with the actual predicted output of the previous cell.\n",
        "      Allows to switch between ground truth (initially, when previous cell gives wrong prediction, at least make learning of next cell proper, else learns wrong since previous one's was wrong) and output of previous cell\n",
        "      Concept called \"Teacher Forcing\" : Accelerates training\n",
        "      \"\"\"\n",
        "\n",
        "    \n",
        "      if self.verbose:\n",
        "        print('Decoder output', out.shape)\n",
        "        self.verbose = False\n",
        "      \n",
        "      # Finding the argmax, marking that as 1, and the rest as 0\n",
        "      max_idx = torch.argmax(out, 2, keepdim = True)\n",
        "      if not ground_truth is None:\n",
        "        max_idx = ground_truth[i].reshape(1, 1, 1)\n",
        "      one_hot = torch.FloatTensor(out.shape).to(device)\n",
        "      one_hot.zero_()\n",
        "      one_hot.scatter_(2, max_idx, 1)\n",
        "\n",
        "\n",
        "      \"\"\"\n",
        "      Output of previous cell goes to input of next timestamp cell. We don't want backpropagation to happen here since becomes too complicated. Only want through hidden layers. Hence detach (don't make note)\n",
        "      \"\"\"\n",
        "\n",
        "      decoder_input = one_hot.detach()\n",
        "\n",
        "    return outputs"
      ],
      "execution_count": 28,
      "outputs": []
    },
    {
      "cell_type": "code",
      "metadata": {
        "id": "KHxGJbrzsMMX"
      },
      "source": [
        "# Chosen number of hidden layers of both encoder and decoder to be 256\n",
        "net = Transliteration_EncoderDecoder(len(eng_alpha2index), 256, len(hindi_alpha2index), verbose = True)"
      ],
      "execution_count": 29,
      "outputs": []
    },
    {
      "cell_type": "code",
      "metadata": {
        "id": "OftZusrFxO92"
      },
      "source": [
        "def infer(network, word, max_chars, device='cpu'):\n",
        "  network.eval()\n",
        "  # network = network.__init__(len(eng_alphabets)+1, 256, len(hindi_alphabets)+1)\n",
        "  word = word_rep(word, eng_alpha2index)\n",
        "  # print(word)\n",
        "\n",
        "  output = network(word, max_chars)\n",
        "  return output"
      ],
      "execution_count": 30,
      "outputs": []
    },
    {
      "cell_type": "code",
      "metadata": {
        "id": "RGA6QOhesWxK",
        "outputId": "fc372b3e-e100-46e6-a590-4769e606d2fc",
        "colab": {
          "base_uri": "https://localhost:8080/",
          "height": 140
        }
      },
      "source": [
        "out = infer(net, \"INDIA\", 30)"
      ],
      "execution_count": 31,
      "outputs": [
        {
          "output_type": "stream",
          "text": [
            "Encoder input torch.Size([6, 1, 27])\n",
            "Encoder ouput torch.Size([6, 1, 256])\n",
            "Encoder hidden torch.Size([1, 1, 256])\n",
            "Decoder state torch.Size([1, 1, 256])\n",
            "Decoder input torch.Size([1, 1, 129])\n",
            "Decoder intermediate output torch.Size([1, 1, 256])\n",
            "Decoder output torch.Size([1, 1, 129])\n"
          ],
          "name": "stdout"
        }
      ]
    },
    {
      "cell_type": "code",
      "metadata": {
        "id": "gPZ78ZhxuQs2",
        "outputId": "8f8247e5-a36d-46cb-b709-78acef69defd",
        "colab": {
          "base_uri": "https://localhost:8080/",
          "height": 562
        }
      },
      "source": [
        "print(len(out))\n",
        "for i in range(len(out)):\n",
        "  print(torch.argmax(out[i]))"
      ],
      "execution_count": 32,
      "outputs": [
        {
          "output_type": "stream",
          "text": [
            "30\n",
            "tensor(11)\n",
            "tensor(11)\n",
            "tensor(11)\n",
            "tensor(79)\n",
            "tensor(79)\n",
            "tensor(79)\n",
            "tensor(79)\n",
            "tensor(79)\n",
            "tensor(79)\n",
            "tensor(79)\n",
            "tensor(79)\n",
            "tensor(79)\n",
            "tensor(79)\n",
            "tensor(79)\n",
            "tensor(79)\n",
            "tensor(79)\n",
            "tensor(79)\n",
            "tensor(79)\n",
            "tensor(79)\n",
            "tensor(79)\n",
            "tensor(79)\n",
            "tensor(79)\n",
            "tensor(79)\n",
            "tensor(79)\n",
            "tensor(79)\n",
            "tensor(79)\n",
            "tensor(79)\n",
            "tensor(79)\n",
            "tensor(79)\n",
            "tensor(79)\n"
          ],
          "name": "stdout"
        }
      ]
    },
    {
      "cell_type": "code",
      "metadata": {
        "id": "W9eVQhK4ulK4"
      },
      "source": [
        "list(hindi_alpha2index.values())"
      ],
      "execution_count": null,
      "outputs": []
    },
    {
      "cell_type": "code",
      "metadata": {
        "id": "pWujdA1fuNhK",
        "outputId": "e39c3774-1494-42cf-8311-eca5f6920a94",
        "colab": {
          "base_uri": "https://localhost:8080/",
          "height": 562
        }
      },
      "source": [
        "print(len(out))\n",
        "for i in range(len(out)):\n",
        "  print([list(hindi_alpha2index.values()).index(torch.argmax(out[i]))])"
      ],
      "execution_count": 34,
      "outputs": [
        {
          "output_type": "stream",
          "text": [
            "30\n",
            "[11]\n",
            "[11]\n",
            "[11]\n",
            "[79]\n",
            "[79]\n",
            "[79]\n",
            "[79]\n",
            "[79]\n",
            "[79]\n",
            "[79]\n",
            "[79]\n",
            "[79]\n",
            "[79]\n",
            "[79]\n",
            "[79]\n",
            "[79]\n",
            "[79]\n",
            "[79]\n",
            "[79]\n",
            "[79]\n",
            "[79]\n",
            "[79]\n",
            "[79]\n",
            "[79]\n",
            "[79]\n",
            "[79]\n",
            "[79]\n",
            "[79]\n",
            "[79]\n",
            "[79]\n"
          ],
          "name": "stdout"
        }
      ]
    },
    {
      "cell_type": "code",
      "metadata": {
        "id": "APHsTSJP0qnh",
        "outputId": "ae86145e-6fcb-4efa-99c0-4015f0a32f72",
        "colab": {
          "base_uri": "https://localhost:8080/",
          "height": 562
        }
      },
      "source": [
        "print(len(out))\n",
        "for i in range(len(out)):\n",
        "  # basically indexing a list . The first \"list\" is the list to be indexed. The second \"list\" contains the index inside []\n",
        "  print(list(hindi_alpha2index.keys())[list(hindi_alpha2index.values()).index(torch.argmax(out[i]))])"
      ],
      "execution_count": 35,
      "outputs": [
        {
          "output_type": "stream",
          "text": [
            "30\n",
            "ऊ\n",
            "ऊ\n",
            "ऊ\n",
            "ॎ\n",
            "ॎ\n",
            "ॎ\n",
            "ॎ\n",
            "ॎ\n",
            "ॎ\n",
            "ॎ\n",
            "ॎ\n",
            "ॎ\n",
            "ॎ\n",
            "ॎ\n",
            "ॎ\n",
            "ॎ\n",
            "ॎ\n",
            "ॎ\n",
            "ॎ\n",
            "ॎ\n",
            "ॎ\n",
            "ॎ\n",
            "ॎ\n",
            "ॎ\n",
            "ॎ\n",
            "ॎ\n",
            "ॎ\n",
            "ॎ\n",
            "ॎ\n",
            "ॎ\n"
          ],
          "name": "stdout"
        }
      ]
    },
    {
      "cell_type": "code",
      "metadata": {
        "id": "ZfQVzW9XshhB",
        "outputId": "c6b276ad-c5c8-464c-c063-1692c0f93b6c",
        "colab": {
          "base_uri": "https://localhost:8080/",
          "height": 562
        }
      },
      "source": [
        "print(len(out))\n",
        "for i in range(len(out)):\n",
        "  print(out[i].shape, list(hindi_alpha2index.keys())[list(hindi_alpha2index.values()).index(torch.argmax(out[i]))])"
      ],
      "execution_count": 36,
      "outputs": [
        {
          "output_type": "stream",
          "text": [
            "30\n",
            "torch.Size([1, 129]) ऊ\n",
            "torch.Size([1, 129]) ऊ\n",
            "torch.Size([1, 129]) ऊ\n",
            "torch.Size([1, 129]) ॎ\n",
            "torch.Size([1, 129]) ॎ\n",
            "torch.Size([1, 129]) ॎ\n",
            "torch.Size([1, 129]) ॎ\n",
            "torch.Size([1, 129]) ॎ\n",
            "torch.Size([1, 129]) ॎ\n",
            "torch.Size([1, 129]) ॎ\n",
            "torch.Size([1, 129]) ॎ\n",
            "torch.Size([1, 129]) ॎ\n",
            "torch.Size([1, 129]) ॎ\n",
            "torch.Size([1, 129]) ॎ\n",
            "torch.Size([1, 129]) ॎ\n",
            "torch.Size([1, 129]) ॎ\n",
            "torch.Size([1, 129]) ॎ\n",
            "torch.Size([1, 129]) ॎ\n",
            "torch.Size([1, 129]) ॎ\n",
            "torch.Size([1, 129]) ॎ\n",
            "torch.Size([1, 129]) ॎ\n",
            "torch.Size([1, 129]) ॎ\n",
            "torch.Size([1, 129]) ॎ\n",
            "torch.Size([1, 129]) ॎ\n",
            "torch.Size([1, 129]) ॎ\n",
            "torch.Size([1, 129]) ॎ\n",
            "torch.Size([1, 129]) ॎ\n",
            "torch.Size([1, 129]) ॎ\n",
            "torch.Size([1, 129]) ॎ\n",
            "torch.Size([1, 129]) ॎ\n"
          ],
          "name": "stdout"
        }
      ]
    },
    {
      "cell_type": "markdown",
      "metadata": {
        "id": "6OdgFCFKvACD"
      },
      "source": [
        "Completely senseless. (transliteration of INDIA)"
      ]
    },
    {
      "cell_type": "code",
      "metadata": {
        "id": "w9s6y4gIu_Fc"
      },
      "source": [
        ""
      ],
      "execution_count": 36,
      "outputs": []
    },
    {
      "cell_type": "markdown",
      "metadata": {
        "id": "HqG2602RClv4"
      },
      "source": [
        "# Encoder Decoder with Attention"
      ]
    },
    {
      "cell_type": "markdown",
      "metadata": {
        "id": "iaQpJNx9CQsO"
      },
      "source": [
        "Not interested in working with the entire hidden state while predicting the first hindi character. Attention will only focus on those hidden states required for that character."
      ]
    },
    {
      "cell_type": "code",
      "metadata": {
        "id": "WyKy3LhFCgLo"
      },
      "source": [
        "class Transliteration_EncoderDecoder_Attention(nn.Module):\n",
        "\n",
        "  def __init__(self, input_size, hidden_size, output_size, verbose = False):\n",
        "    super(Transliteration_EncoderDecoder_Attention, self).__init__()\n",
        "\n",
        "    self.hidden_size = hidden_size\n",
        "    self.output_size = output_size\n",
        "\n",
        "    # Only difference below, decoder is 2*hidden since going to augment\n",
        "    self.encoder_rnn_cell = nn.GRU(input_size, hidden_size)\n",
        "    self.decoder_rnn_cell = nn.GRU(hidden_size*2, hidden_size)\n",
        "\n",
        "    self.h2o = nn.Linear(hidden_size, output_size)\n",
        "    self.softmax = nn.LogSoftmax(dim = 2)\n",
        "\n",
        "    self.U = nn.Linear(self.hidden_size, self.hidden_size) # U\n",
        "    self.W = nn.Linear(self.hidden_size, self.hidden_size) # W\n",
        "    self.attn = nn.Linear(self.hidden_size, 1) # V\n",
        "    self.out2hidden = nn.Linear(self.output_size, self.hidden_size) # Convert ouptut of decoder to hidden_size too\n",
        "\n",
        "    self.verbose = verbose\n",
        "\n",
        "  def forward(self, input, max_output_chars = MAX_OUTPUT_CHARS, device = 'cpu', ground_truth = None):\n",
        "\n",
        "    # encoder\n",
        "    \"\"\"\n",
        "    Again note difference between encoder_output and hidden:\n",
        "    Encoder_output is the one coming to the top of the hidden state i.e. the alpha (which is what is considered in the linear combination of the weighted sum)\n",
        "    While hidden is the one  coming to the right of the hidden state i.e. what goes to the next encoder state.\n",
        "    Thus output is recorded for each cell i.e. each character (since not redirected anywhere else) while hidden is recorded only once since it is redirected to the next cell each time and hence overwritten\n",
        "    \"\"\"\n",
        "    encoder_outputs, hidden = self.encoder_rnn_cell(input) # input : (#alphabets in word, 1 ,27)\n",
        "    encoder_outputs = encoder_outputs.view(-1, self.hidden_size)\n",
        "\n",
        "    if self.verbose:\n",
        "      print(\"Encoder hidden\", hidden.shape)\n",
        "      print(\"Encoder output\", encoder_outputs.shape)\n",
        "\n",
        "    # decoder\n",
        "    decoder_state = hidden\n",
        "    decoder_input = torch.zeros(1, 1, self.output_size).to(device)\n",
        "    \n",
        "    outputs = []\n",
        "\n",
        "    # U matrix: multiplying each encoder ouput (alpha). Thus contains the \"weight of each input char for each output char\".\n",
        "    # Also note, this matrix is not changed in further code.\n",
        "    U = self.U(encoder_outputs)\n",
        "\n",
        "    if self.verbose:\n",
        "      print(\"Decoder state\", decoder_state.shape)\n",
        "      print(\"Decoder intermediate input\", decoder_input.shape)\n",
        "      print(\"U * Encoder output\", U.shape)\n",
        "\n",
        "\n",
        "    # Decode one by one unlike encoder. Decoding no more as simple as passing through GRU.\n",
        "    # Find W, Find V\n",
        "    for i in range(max_output_chars):\n",
        "\n",
        "      # repeat so that shape matches (as many number of times as chars)\n",
        "      W = self.W(decoder_state.view(1, -1).repeat(encoder_outputs.shape[0],1))\n",
        "      # again linear layer (attn) to calculate Vattn.\n",
        "      V = self.attn(torch.tanh(U + W))\n",
        "      # Softmax for finding alpha\n",
        "      attn_weights = F.softmax(V.view(1, -1), dim=1)\n",
        "\n",
        "      if self.verbose:\n",
        "        print(\"W * Decoder state\", W.shape)\n",
        "        print(\"V\", V.shape)\n",
        "        print(\"Attn\", attn_weights.shape)\n",
        "\n",
        "      # once weights found, find weighted sum with encoder outputs (say only one of the alphas is 1, giving attention to only that)\n",
        "      attn_applied = torch.bmm(attn_weights.unsqueeze(0),\n",
        "                               encoder_outputs.unsqueeze(0))\n",
        "      \n",
        "      # Thus, till here, prepared all the encoder input to the decoder cell (combining encoder output and decoder previous timestamp \"hidden state\" [not \"output\"!]). This output called \"attention model outcome\"\n",
        "\n",
        "\n",
        "      # Now prepare shape of output of decoder for the next timestamp decoder cell\n",
        "      embedding = self.out2hidden(decoder_input)\n",
        "      # Apply linear between the ( previous decoder hidden state + encoder ouputs ) and ( previous decoder output ) so that both the kinds of input are appropriately represented. \n",
        "      decoder_input = torch.cat((embedding[0], attn_applied[0]), 1).unsqueeze(0)\n",
        "\n",
        "      if self.verbose:\n",
        "        print(\"Attn LC\", attn_applied.shape)\n",
        "        print(\"Decoder input\", decoder_input.shape)\n",
        "\n",
        "      out, decoder_state = self.decoder_rnn_cell(decoder_input, decoder_state)\n",
        "\n",
        "      if self.verbose:\n",
        "        print(\"Decoder intermediate output\", out.shape)\n",
        "\n",
        "      out = self.h2o(decoder_state)\n",
        "      out = self.softmax(out)\n",
        "      outputs.append(out.view(1, -1))\n",
        "\n",
        "      if self.verbose:\n",
        "        print('Decoder output', out.shape)\n",
        "        self.verbose = False\n",
        "\n",
        "      # Note in all this, U remains same, since only decoder we have to compute each time while U coming from encoder side remains the same throughout\n",
        "\n",
        "      # Forced teaching\n",
        "      max_idx = torch.argmax(out, 2, keepdim = True)\n",
        "      # i.e. if ground truth passed, use that instead of the previous decoder's output\n",
        "      if not ground_truth is None:\n",
        "        max_idx = ground_truth[i].reshape(1,1,1)\n",
        "      one_hot = torch.zeros(out.shape, device = device)\n",
        "      one_hot.scatter_(2, max_idx, 1)\n",
        "\n",
        "      # replace the above converted decoder output, to next timestamp's decoder cell input\n",
        "      # detaching since we don't want backpropagation to flow through these paths\n",
        "      decoder_input = one_hot.detach()\n",
        "\n",
        "    return outputs   \n"
      ],
      "execution_count": 37,
      "outputs": []
    },
    {
      "cell_type": "code",
      "metadata": {
        "id": "kuK5jorWOMvr"
      },
      "source": [
        "net_attn = Transliteration_EncoderDecoder_Attention(len(eng_alpha2index), 256, len(hindi_alpha2index), verbose = True)"
      ],
      "execution_count": 38,
      "outputs": []
    },
    {
      "cell_type": "code",
      "metadata": {
        "id": "onGqmLSMOdne",
        "outputId": "4b28260a-d92a-4ae7-9512-8394ed68785d",
        "colab": {
          "base_uri": "https://localhost:8080/",
          "height": 228
        }
      },
      "source": [
        "# Have to feed in the capitals, else throws error since we didn't encode lower case\n",
        "out = infer(net_attn, \"INDIA\", 30)"
      ],
      "execution_count": 39,
      "outputs": [
        {
          "output_type": "stream",
          "text": [
            "Encoder hidden torch.Size([1, 1, 256])\n",
            "Encoder output torch.Size([6, 256])\n",
            "Decoder state torch.Size([1, 1, 256])\n",
            "Decoder intermediate input torch.Size([1, 1, 129])\n",
            "U * Encoder output torch.Size([6, 256])\n",
            "W * Decoder state torch.Size([6, 256])\n",
            "V torch.Size([6, 1])\n",
            "Attn torch.Size([1, 6])\n",
            "Attn LC torch.Size([1, 1, 256])\n",
            "Decoder input torch.Size([1, 1, 512])\n",
            "Decoder intermediate output torch.Size([1, 1, 256])\n",
            "Decoder output torch.Size([1, 1, 129])\n"
          ],
          "name": "stdout"
        }
      ]
    },
    {
      "cell_type": "markdown",
      "metadata": {
        "id": "zHim9W_CPG1S"
      },
      "source": [
        "Attn is the alpha values [1, 6]"
      ]
    },
    {
      "cell_type": "code",
      "metadata": {
        "id": "ihsu9z8oOt6D"
      },
      "source": [
        ""
      ],
      "execution_count": 39,
      "outputs": []
    },
    {
      "cell_type": "markdown",
      "metadata": {
        "id": "CYBsIJtOQI8O"
      },
      "source": [
        "# Training"
      ]
    },
    {
      "cell_type": "markdown",
      "metadata": {
        "id": "uzvtv18VQK2I"
      },
      "source": [
        "## Core Trainer"
      ]
    },
    {
      "cell_type": "code",
      "metadata": {
        "id": "GHeEy-BAQJsL"
      },
      "source": [
        "def train_batch(net, opt, criterion, batch_size, device = 'cpu', teacher_force = False):\n",
        "\n",
        "  net.train().to(device)\n",
        "  opt.zero_grad() # set gradients to zero. Since the backward() function accumulates gradients, and you don’t want to mix up gradients between minibatches, you have to zero them out at the start of a new minibatch. This is exactly like how a general (additive) accumulator variable is initialized to 0 in code.\n",
        "  eng_batch, hindi_batch = train_data.get_batch(batch_size)\n",
        "\n",
        "  total_loss = 0\n",
        "\n",
        "  # Note, here not passing batches, processing encoder-decoder for one character at a time\n",
        "  # Can use batching by using \"packing\"\n",
        "  for i in range(batch_size):\n",
        "\n",
        "    input = word_rep(eng_batch[i], eng_alpha2index, device)\n",
        "    gt = gt_rep(hindi_batch[i], hindi_alpha2index, device)\n",
        "    outputs = net(input, gt.shape[0], device, ground_truth = gt if teacher_force else None)\n",
        "\n",
        "  for index, output in enumerate(outputs):\n",
        "    loss = criterion(output, gt[index]) / batch_size\n",
        "    loss.backward(retain_graph = True)\n",
        "    total_loss += loss\n",
        "\n",
        "  opt.step()\n",
        "\n",
        "  \"\"\"\n",
        "  https://discuss.pytorch.org/t/what-step-backward-and-zero-grad-do/33301\n",
        "  Hopefully, you use them in the order : opt.zero_grad(), loss.backward(), opt.step().\n",
        "\n",
        "    - zero_grad clears old gradients from the last step (otherwise you’d just accumulate the gradients from all loss.backward() calls).\n",
        "    - loss.backward() computes the derivative of the loss w.r.t. the parameters (or anything requiring gradients) using backpropagation.\n",
        "    - opt.step() causes the optimizer to take a step based on the gradients of the parameters.\n",
        "\n",
        "  \"\"\"\n",
        "\n",
        "  return total_loss/batch_size"
      ],
      "execution_count": 43,
      "outputs": []
    },
    {
      "cell_type": "markdown",
      "metadata": {
        "id": "3lc1nvJnSSyK"
      },
      "source": [
        "## Train helper"
      ]
    },
    {
      "cell_type": "code",
      "metadata": {
        "id": "_Ss1fzArRIc3"
      },
      "source": [
        "# All hyperparameters\n",
        "def train_setup(net, lr = 0.01, n_batches = 100, batch_size = 10, momentum = 0.9, display_freq=5, device = 'cpu'):\n",
        "    \n",
        "    net = net.to(device)\n",
        "    criterion = nn.NLLLoss(ignore_index = -1)\n",
        "    opt = optim.Adam(net.parameters(), lr=lr)\n",
        "\n",
        "    # Forcing ground truth till only one-third the batches. After that, take from previous cell's predicted\n",
        "    teacher_force_upto = n_batches//3\n",
        "    \n",
        "    loss_arr = np.zeros(n_batches + 1)\n",
        "    \n",
        "    for i in range(n_batches):\n",
        "        # Teacher force only if i<teacher_force_upto\n",
        "        loss_arr[i+1] = (loss_arr[i]*i + train_batch(net, opt, criterion, batch_size, device = device, teacher_force = i<teacher_force_upto ))/(i + 1)\n",
        "        \n",
        "        if i%display_freq == display_freq-1:\n",
        "            clear_output(wait=True)\n",
        "            \n",
        "            print('Iteration', i, 'Loss', loss_arr[i])\n",
        "            plt.figure()\n",
        "            plt.plot(loss_arr[1:i], '-*')\n",
        "            plt.xlabel('Iteration')\n",
        "            plt.ylabel('Loss')\n",
        "            plt.show()\n",
        "            print('\\n\\n')\n",
        "            \n",
        "    # Checkpointing\n",
        "    torch.save(net, 'model.pt')\n",
        "    return loss_arr"
      ],
      "execution_count": 44,
      "outputs": []
    },
    {
      "cell_type": "markdown",
      "metadata": {
        "id": "Xwdz--VVU7IY"
      },
      "source": [
        "Loss: Negative Log Likelihood  \n",
        "Strategy: Stochastic    \n",
        "Optimizer: Adam    \n",
        "(Adam = RMSProp + Stochastic, that's why you have the optim.sgd and optim.adam. Optimizers are part of the unit cell, and not the application.)     \n",
        "Activation function: Sigmoid   \n",
        "(RNN, LSTM, GRU use this as mentioned in nationality classification)   \n",
        "Regularisation: Not used here"
      ]
    },
    {
      "cell_type": "markdown",
      "metadata": {
        "id": "nKcK88GsR0vd"
      },
      "source": [
        "# Inference"
      ]
    },
    {
      "cell_type": "code",
      "metadata": {
        "id": "qaX7xjk_R35_"
      },
      "source": [
        "def test(net, word, device = 'cpu'):\n",
        "    net = net.eval().to(device)\n",
        "    outputs = infer(net, word, 30, device)\n",
        "    hindi_output = ''\n",
        "    for out in outputs:\n",
        "        val, indices = out.topk(1)\n",
        "        index = indices.tolist()[0][0]\n",
        "        if index == 0:\n",
        "            break\n",
        "        hindi_char = hindi_alphabets[index+1]\n",
        "        hindi_output += hindi_char\n",
        "    print(word + ' - ' + hindi_output)\n",
        "    return hindi_output"
      ],
      "execution_count": 49,
      "outputs": []
    },
    {
      "cell_type": "markdown",
      "metadata": {
        "id": "O9S7M9_cRjS9"
      },
      "source": [
        "# Training without Attention"
      ]
    },
    {
      "cell_type": "code",
      "metadata": {
        "id": "4E0DlJzZRhnA"
      },
      "source": [
        "net = Transliteration_EncoderDecoder(len(eng_alpha2index), 256, len(hindi_alpha2index))"
      ],
      "execution_count": 45,
      "outputs": []
    },
    {
      "cell_type": "code",
      "metadata": {
        "id": "OKxDlZuPRnXJ",
        "outputId": "c92ff652-ec18-40d0-8b4d-2d67d80deb7d",
        "colab": {
          "base_uri": "https://localhost:8080/",
          "height": 385
        }
      },
      "source": [
        "train_setup(net, lr=0.001, n_batches=2000, batch_size = 64, display_freq=10, device = device_gpu)"
      ],
      "execution_count": 46,
      "outputs": [
        {
          "output_type": "stream",
          "text": [
            "Iteration 1999 Loss 0.004850402474403381\n"
          ],
          "name": "stdout"
        },
        {
          "output_type": "display_data",
          "data": {
            "image/png": "[encoded data removed]",
            "text/plain": [
              "<Figure size 432x288 with 1 Axes>"
            ]
          },
          "metadata": {
            "tags": [],
            "needs_background": "light"
          }
        },
        {
          "output_type": "stream",
          "text": [
            "\n",
            "\n",
            "\n"
          ],
          "name": "stdout"
        },
        {
          "output_type": "execute_result",
          "data": {
            "text/plain": [
              "array([0.        , 0.01185805, 0.0100536 , ..., 0.00485027, 0.0048504 ,\n",
              "       0.00485171])"
            ]
          },
          "metadata": {
            "tags": []
          },
          "execution_count": 46
        }
      ]
    },
    {
      "cell_type": "code",
      "metadata": {
        "id": "WLvu-L9pZJzy"
      },
      "source": [
        "out = infer(net, \"INDIA\", 30)"
      ],
      "execution_count": 52,
      "outputs": []
    },
    {
      "cell_type": "code",
      "metadata": {
        "id": "kikfj1A8ZJmi",
        "outputId": "867800c4-0dd5-4556-82bb-37c3215646a3",
        "colab": {
          "base_uri": "https://localhost:8080/",
          "height": 562
        }
      },
      "source": [
        "print(len(out))\n",
        "for i in range(len(out)):\n",
        "  print(out[i].shape, list(hindi_alpha2index.keys())[list(hindi_alpha2index.values()).index(torch.argmax(out[i]))])"
      ],
      "execution_count": 53,
      "outputs": [
        {
          "output_type": "stream",
          "text": [
            "30\n",
            "torch.Size([1, 129]) क\n",
            "torch.Size([1, 129]) े\n",
            "torch.Size([1, 129]) न\n",
            "torch.Size([1, 129]) ा\n",
            "torch.Size([1, 129]) -PAD-\n",
            "torch.Size([1, 129]) -PAD-\n",
            "torch.Size([1, 129]) -PAD-\n",
            "torch.Size([1, 129]) -PAD-\n",
            "torch.Size([1, 129]) -PAD-\n",
            "torch.Size([1, 129]) -PAD-\n",
            "torch.Size([1, 129]) -PAD-\n",
            "torch.Size([1, 129]) -PAD-\n",
            "torch.Size([1, 129]) -PAD-\n",
            "torch.Size([1, 129]) -PAD-\n",
            "torch.Size([1, 129]) -PAD-\n",
            "torch.Size([1, 129]) -PAD-\n",
            "torch.Size([1, 129]) -PAD-\n",
            "torch.Size([1, 129]) -PAD-\n",
            "torch.Size([1, 129]) -PAD-\n",
            "torch.Size([1, 129]) -PAD-\n",
            "torch.Size([1, 129]) -PAD-\n",
            "torch.Size([1, 129]) -PAD-\n",
            "torch.Size([1, 129]) -PAD-\n",
            "torch.Size([1, 129]) -PAD-\n",
            "torch.Size([1, 129]) -PAD-\n",
            "torch.Size([1, 129]) -PAD-\n",
            "torch.Size([1, 129]) -PAD-\n",
            "torch.Size([1, 129]) -PAD-\n",
            "torch.Size([1, 129]) -PAD-\n",
            "torch.Size([1, 129]) -PAD-\n"
          ],
          "name": "stdout"
        }
      ]
    },
    {
      "cell_type": "code",
      "metadata": {
        "id": "ufZxa8YFboFr"
      },
      "source": [
        ""
      ],
      "execution_count": null,
      "outputs": []
    },
    {
      "cell_type": "markdown",
      "metadata": {
        "id": "VvO6QQ-CRrFC"
      },
      "source": [
        "# Training with Attention"
      ]
    },
    {
      "cell_type": "code",
      "metadata": {
        "id": "t_EZp7vORsyY"
      },
      "source": [
        "net_att = Transliteration_EncoderDecoder_Attention(len(eng_alpha2index), 256, len(hindi_alpha2index))"
      ],
      "execution_count": null,
      "outputs": []
    },
    {
      "cell_type": "code",
      "metadata": {
        "id": "SbhvI5aURunZ",
        "outputId": "6acfa618-05b7-44ff-e7fe-2e7a48e0a2d1",
        "colab": {
          "base_uri": "https://localhost:8080/",
          "height": 410
        }
      },
      "source": [
        "loss_history = train_setup(net_att, lr=0.005, n_batches=2000, batch_size = 64, display_freq=10, device = device_gpu)"
      ],
      "execution_count": null,
      "outputs": [
        {
          "output_type": "stream",
          "text": [
            "Iteration 1999 Loss 0.003630336606875062\n"
          ],
          "name": "stdout"
        },
        {
          "output_type": "display_data",
          "data": {
            "image/png": "[encoded data removed]",
            "text/plain": [
              "<Figure size 432x288 with 1 Axes>"
            ]
          },
          "metadata": {
            "tags": [],
            "needs_background": "light"
          }
        },
        {
          "output_type": "stream",
          "text": [
            "\n",
            "\n",
            "\n"
          ],
          "name": "stdout"
        },
        {
          "output_type": "stream",
          "text": [
            "/usr/local/lib/python3.6/dist-packages/torch/serialization.py:402: UserWarning: Couldn't retrieve source code for container of type Transliteration_EncoderDecoder_Attention. It won't be checked for correctness upon loading.\n",
            "  \"type \" + obj.__name__ + \". It won't be checked \"\n"
          ],
          "name": "stderr"
        }
      ]
    },
    {
      "cell_type": "markdown",
      "metadata": {
        "id": "KHJQtkwWTGoX"
      },
      "source": [
        "Parameters in Attention more, but better (lesser) loss than without attention, for same number of batches and epochs. Moreover, loss is still decreasing, so can continue to train."
      ]
    },
    {
      "cell_type": "code",
      "metadata": {
        "id": "vcl8yD68ZIBs"
      },
      "source": [
        ""
      ],
      "execution_count": null,
      "outputs": []
    },
    {
      "cell_type": "markdown",
      "metadata": {
        "id": "01Gf4XDTbfBX"
      },
      "source": [
        "# Accuracy"
      ]
    },
    {
      "cell_type": "code",
      "metadata": {
        "id": "VJc6jY2SR4dl"
      },
      "source": [
        "def calc_accuracy(net, device = 'cpu'):\n",
        "    net = net.eval().to(device)\n",
        "    predictions = []\n",
        "    accuracy = 0\n",
        "    for i in range(len(test_data)):\n",
        "        eng, hindi = test_data[i]\n",
        "        gt = gt_rep(hindi, hindi_alpha2index, device)\n",
        "        outputs = infer(net, eng, gt.shape[0], device)\n",
        "        correct = 0\n",
        "        for index, out in enumerate(outputs):\n",
        "            val, indices = out.topk(1)\n",
        "            hindi_pos = indices.tolist()[0]\n",
        "            if hindi_pos[0] == gt[index][0]:\n",
        "                correct += 1\n",
        "        \n",
        "        accuracy += correct/gt.shape[0]\n",
        "    accuracy /= len(test_data)\n",
        "    return accuracy"
      ],
      "execution_count": 50,
      "outputs": []
    },
    {
      "cell_type": "code",
      "metadata": {
        "id": "VaK0AWdNR6mJ",
        "outputId": "4a32c42b-7c3c-4791-b0db-83ba1fa40782",
        "colab": {
          "base_uri": "https://localhost:8080/",
          "height": 220
        }
      },
      "source": [
        "accuracy = calc_accuracy(net) * 100\n",
        "accuracy_attn = calc_accuracy(net_att) * 100\n",
        "print('Accuracy w/o attention ', accuracy)\n",
        "print('Acurracy with attention', accuracy_attn)"
      ],
      "execution_count": 51,
      "outputs": [
        {
          "output_type": "error",
          "ename": "NameError",
          "evalue": "ignored",
          "traceback": [
            "\u001b[0;31m---------------------------------------------------------------------------\u001b[0m",
            "\u001b[0;31mNameError\u001b[0m                                 Traceback (most recent call last)",
            "\u001b[0;32m<ipython-input-51-ec8a1d6c6bfc>\u001b[0m in \u001b[0;36m<module>\u001b[0;34m()\u001b[0m\n\u001b[1;32m      1\u001b[0m \u001b[0maccuracy\u001b[0m \u001b[0;34m=\u001b[0m \u001b[0mcalc_accuracy\u001b[0m\u001b[0;34m(\u001b[0m\u001b[0mnet\u001b[0m\u001b[0;34m)\u001b[0m \u001b[0;34m*\u001b[0m \u001b[0;36m100\u001b[0m\u001b[0;34m\u001b[0m\u001b[0;34m\u001b[0m\u001b[0m\n\u001b[0;32m----> 2\u001b[0;31m \u001b[0maccuracy_attn\u001b[0m \u001b[0;34m=\u001b[0m \u001b[0mcalc_accuracy\u001b[0m\u001b[0;34m(\u001b[0m\u001b[0mnet_att\u001b[0m\u001b[0;34m)\u001b[0m \u001b[0;34m*\u001b[0m \u001b[0;36m100\u001b[0m\u001b[0;34m\u001b[0m\u001b[0;34m\u001b[0m\u001b[0m\n\u001b[0m\u001b[1;32m      3\u001b[0m \u001b[0mprint\u001b[0m\u001b[0;34m(\u001b[0m\u001b[0;34m'Accuracy w/o attention '\u001b[0m\u001b[0;34m,\u001b[0m \u001b[0maccuracy\u001b[0m\u001b[0;34m)\u001b[0m\u001b[0;34m\u001b[0m\u001b[0;34m\u001b[0m\u001b[0m\n\u001b[1;32m      4\u001b[0m \u001b[0mprint\u001b[0m\u001b[0;34m(\u001b[0m\u001b[0;34m'Acurracy with attention'\u001b[0m\u001b[0;34m,\u001b[0m \u001b[0maccuracy_attn\u001b[0m\u001b[0;34m)\u001b[0m\u001b[0;34m\u001b[0m\u001b[0;34m\u001b[0m\u001b[0m\n",
            "\u001b[0;31mNameError\u001b[0m: name 'net_att' is not defined"
          ]
        }
      ]
    },
    {
      "cell_type": "markdown",
      "metadata": {
        "id": "UXy5-ZIesBTA"
      },
      "source": [
        "# Testing"
      ]
    },
    {
      "cell_type": "code",
      "metadata": {
        "id": "vpJ3jI6PR-Ls"
      },
      "source": [
        "out = infer(net_attn, \"INDIA\", 30)"
      ],
      "execution_count": null,
      "outputs": []
    },
    {
      "cell_type": "code",
      "metadata": {
        "id": "0ZZ5ADB2sOwR",
        "outputId": "831214ad-c6a4-4825-854d-1259a099fbc2",
        "colab": {
          "base_uri": "https://localhost:8080/",
          "height": 593
        }
      },
      "source": [
        "print(len(out))\n",
        "for i in range(len(out)):\n",
        "  print(out[i].shape, list(hindi_alpha2index.keys())[list(hindi_alpha2index.values()).index(torch.argmax(out[i]))])"
      ],
      "execution_count": null,
      "outputs": [
        {
          "output_type": "stream",
          "text": [
            "30\n",
            "torch.Size([1, 129]) ग़\n",
            "torch.Size([1, 129]) ऀ\n",
            "torch.Size([1, 129]) ऀ\n",
            "torch.Size([1, 129]) ऀ\n",
            "torch.Size([1, 129]) ऀ\n",
            "torch.Size([1, 129]) ऀ\n",
            "torch.Size([1, 129]) ऀ\n",
            "torch.Size([1, 129]) ष\n",
            "torch.Size([1, 129]) ऀ\n",
            "torch.Size([1, 129]) ऀ\n",
            "torch.Size([1, 129]) ष\n",
            "torch.Size([1, 129]) ऀ\n",
            "torch.Size([1, 129]) ऀ\n",
            "torch.Size([1, 129]) ष\n",
            "torch.Size([1, 129]) ऀ\n",
            "torch.Size([1, 129]) ऀ\n",
            "torch.Size([1, 129]) ष\n",
            "torch.Size([1, 129]) ऀ\n",
            "torch.Size([1, 129]) ऀ\n",
            "torch.Size([1, 129]) ष\n",
            "torch.Size([1, 129]) ऀ\n",
            "torch.Size([1, 129]) ऀ\n",
            "torch.Size([1, 129]) ष\n",
            "torch.Size([1, 129]) ऀ\n",
            "torch.Size([1, 129]) ऀ\n",
            "torch.Size([1, 129]) ष\n",
            "torch.Size([1, 129]) ऀ\n",
            "torch.Size([1, 129]) ऀ\n",
            "torch.Size([1, 129]) ष\n",
            "torch.Size([1, 129]) ऀ\n"
          ],
          "name": "stdout"
        }
      ]
    },
    {
      "cell_type": "markdown",
      "metadata": {
        "id": "0dvu3YP_Urov"
      },
      "source": [
        "# Accuracies before and after training"
      ]
    },
    {
      "cell_type": "markdown",
      "metadata": {
        "id": "-VAfO6sAUvtR"
      },
      "source": [
        "Before:  \n",
        "Accuracy w/o attention  16.79560800310799  \n",
        "Acurracy with attention 16.134576257076237  \n",
        "\n",
        "After: (epochs:2000, lr=0.001)   \n",
        "Accuracy w/o attention  30.107340159840156   \n",
        "Acurracy with attention 47.85592518592516\n"
      ]
    },
    {
      "cell_type": "markdown",
      "metadata": {
        "id": "yFL2pmJ3TnEs"
      },
      "source": [
        "## Todo"
      ]
    },
    {
      "cell_type": "markdown",
      "metadata": {
        "id": "09Oz8xc9TrZ9"
      },
      "source": [
        "1.  Visualise alpha i.e. which characters in input contribute to each character in the output. \n",
        "2. Try batching (using packing)  \n",
        "3. See result of training using inference for few words."
      ]
    },
    {
      "cell_type": "code",
      "metadata": {
        "id": "zcl2Qpe9ToHZ"
      },
      "source": [
        ""
      ],
      "execution_count": null,
      "outputs": []
    }
  ]
}