{
  "nbformat": 4,
  "nbformat_minor": 0,
  "metadata": {
    "colab": {
      "name": "EncoderDecoderArchitecture.ipynb",
      "provenance": [],
      "collapsed_sections": [],
      "authorship_tag": "ABX9TyNWPpfcF6CUuwQM4x0d51wp"
    },
    "kernelspec": {
      "name": "python3",
      "display_name": "Python 3"
    }
  },
  "cells": [
    {
      "cell_type": "markdown",
      "metadata": {
        "id": "_ewFbZLpa6Dm",
        "colab_type": "text"
      },
      "source": [
        "# Outline\n",
        "\n",
        "1. Data set and task\n",
        "2. Data processing XML files\n",
        "3. Why we need encoder decoder architecture\n",
        "4. Basic GRU based encoder decoder\n",
        "5. Adding attention\n",
        "6. Evaluation"
      ]
    },
    {
      "cell_type": "code",
      "metadata": {
        "id": "GLYVFJufavdk",
        "colab_type": "code",
        "colab": {}
      },
      "source": [
        "import torch\n",
        "import torch.nn as nn\n",
        "import torch.optim as optim\n",
        "from torch.autograd import Variable\n",
        "import torch.nn.functional as F\n",
        "import numpy as np\n",
        "\n",
        "# Instantiates the device to be used as GPU/CPU based on availability\n",
        "device_gpu = torch.device(\"cuda:0\" if torch.cuda.is_available() else \"cpu\")"
      ],
      "execution_count": 0,
      "outputs": []
    },
    {
      "cell_type": "code",
      "metadata": {
        "id": "-YpfrGmEbobB",
        "colab_type": "code",
        "outputId": "f5a1fba6-292e-4821-bc8e-be6dd3b7b7b1",
        "colab": {
          "base_uri": "https://localhost:8080/",
          "height": 74
        }
      },
      "source": [
        "# Visualisation tools\n",
        "import matplotlib.pyplot as plt\n",
        "import seaborn as sns\n",
        "from IPython.display import clear_output\n",
        "import random"
      ],
      "execution_count": 2,
      "outputs": [
        {
          "output_type": "stream",
          "text": [
            "/usr/local/lib/python3.6/dist-packages/statsmodels/tools/_testing.py:19: FutureWarning: pandas.util.testing is deprecated. Use the functions in the public API at pandas.testing instead.\n",
            "  import pandas.util.testing as tm\n"
          ],
          "name": "stderr"
        }
      ]
    },
    {
      "cell_type": "code",
      "metadata": {
        "id": "NlBBjyU8b324",
        "colab_type": "code",
        "colab": {}
      },
      "source": [
        ""
      ],
      "execution_count": 0,
      "outputs": []
    },
    {
      "cell_type": "markdown",
      "metadata": {
        "id": "K1YeJz5dcitT",
        "colab_type": "text"
      },
      "source": [
        "# Prepare Data"
      ]
    },
    {
      "cell_type": "markdown",
      "metadata": {
        "id": "476ASkj-clYp",
        "colab_type": "text"
      },
      "source": [
        "### Alphabets setup"
      ]
    },
    {
      "cell_type": "markdown",
      "metadata": {
        "id": "Ew944iDyeaxt",
        "colab_type": "text"
      },
      "source": [
        "As usual, convert first to numerical form so that model can process."
      ]
    },
    {
      "cell_type": "markdown",
      "metadata": {
        "id": "BoKmPaCce-7r",
        "colab_type": "text"
      },
      "source": [
        "### English"
      ]
    },
    {
      "cell_type": "code",
      "metadata": {
        "id": "Y9_wc9lAcjp7",
        "colab_type": "code",
        "outputId": "dce64b23-9b5b-40b4-c822-5536ed0796fb",
        "colab": {
          "base_uri": "https://localhost:8080/",
          "height": 56
        }
      },
      "source": [
        "eng_alphabets = 'ABCDEFGHIJKLMNOPQRSTUVWXYZ'\n",
        "pad_char = '-PAD-'\n",
        "\n",
        "eng_alpha2index = {pad_char:0}\n",
        "for index, alpha in enumerate(eng_alphabets):\n",
        "  eng_alpha2index[alpha] = index+1\n",
        "\n",
        "# Same as:\n",
        "# for index, alpha in enumerate(eng_alphabets, 1):\n",
        "#   eng_alpha2index[alpha] = index\n",
        "\n",
        "print(eng_alpha2index)"
      ],
      "execution_count": 3,
      "outputs": [
        {
          "output_type": "stream",
          "text": [
            "{'-PAD-': 0, 'A': 1, 'B': 2, 'C': 3, 'D': 4, 'E': 5, 'F': 6, 'G': 7, 'H': 8, 'I': 9, 'J': 10, 'K': 11, 'L': 12, 'M': 13, 'N': 14, 'O': 15, 'P': 16, 'Q': 17, 'R': 18, 'S': 19, 'T': 20, 'U': 21, 'V': 22, 'W': 23, 'X': 24, 'Y': 25, 'Z': 26}\n"
          ],
          "name": "stdout"
        }
      ]
    },
    {
      "cell_type": "markdown",
      "metadata": {
        "id": "f4BcT4Yzez35",
        "colab_type": "text"
      },
      "source": [
        "### Hindi"
      ]
    },
    {
      "cell_type": "code",
      "metadata": {
        "id": "uQ_ZADU-dHm0",
        "colab_type": "code",
        "outputId": "e98a3848-9a08-4d97-966a-a7ccdc4c17fc",
        "colab": {
          "base_uri": "https://localhost:8080/",
          "height": 56
        }
      },
      "source": [
        "# Hindi Unicode Hex Range is 2304:2432\n",
        "\n",
        "hindi_alphabets = [chr(alpha) for alpha in range(2304, 2432)]\n",
        "hindi_alphabet_size = len(hindi_alphabets)\n",
        "\n",
        "hindi_alpha2index = {pad_char : 0}\n",
        "for index, alpha in enumerate(hindi_alphabets):\n",
        "  hindi_alpha2index[alpha] = index + 1\n",
        "\n",
        "print(hindi_alpha2index)"
      ],
      "execution_count": 4,
      "outputs": [
        {
          "output_type": "stream",
          "text": [
            "{'-PAD-': 0, 'ऀ': 1, 'ँ': 2, 'ं': 3, 'ः': 4, 'ऄ': 5, 'अ': 6, 'आ': 7, 'इ': 8, 'ई': 9, 'उ': 10, 'ऊ': 11, 'ऋ': 12, 'ऌ': 13, 'ऍ': 14, 'ऎ': 15, 'ए': 16, 'ऐ': 17, 'ऑ': 18, 'ऒ': 19, 'ओ': 20, 'औ': 21, 'क': 22, 'ख': 23, 'ग': 24, 'घ': 25, 'ङ': 26, 'च': 27, 'छ': 28, 'ज': 29, 'झ': 30, 'ञ': 31, 'ट': 32, 'ठ': 33, 'ड': 34, 'ढ': 35, 'ण': 36, 'त': 37, 'थ': 38, 'द': 39, 'ध': 40, 'न': 41, 'ऩ': 42, 'प': 43, 'फ': 44, 'ब': 45, 'भ': 46, 'म': 47, 'य': 48, 'र': 49, 'ऱ': 50, 'ल': 51, 'ळ': 52, 'ऴ': 53, 'व': 54, 'श': 55, 'ष': 56, 'स': 57, 'ह': 58, 'ऺ': 59, 'ऻ': 60, '़': 61, 'ऽ': 62, 'ा': 63, 'ि': 64, 'ी': 65, 'ु': 66, 'ू': 67, 'ृ': 68, 'ॄ': 69, 'ॅ': 70, 'ॆ': 71, 'े': 72, 'ै': 73, 'ॉ': 74, 'ॊ': 75, 'ो': 76, 'ौ': 77, '्': 78, 'ॎ': 79, 'ॏ': 80, 'ॐ': 81, '॑': 82, '॒': 83, '॓': 84, '॔': 85, 'ॕ': 86, 'ॖ': 87, 'ॗ': 88, 'क़': 89, 'ख़': 90, 'ग़': 91, 'ज़': 92, 'ड़': 93, 'ढ़': 94, 'फ़': 95, 'य़': 96, 'ॠ': 97, 'ॡ': 98, 'ॢ': 99, 'ॣ': 100, '।': 101, '॥': 102, '०': 103, '१': 104, '२': 105, '३': 106, '४': 107, '५': 108, '६': 109, '७': 110, '८': 111, '९': 112, '॰': 113, 'ॱ': 114, 'ॲ': 115, 'ॳ': 116, 'ॴ': 117, 'ॵ': 118, 'ॶ': 119, 'ॷ': 120, 'ॸ': 121, 'ॹ': 122, 'ॺ': 123, 'ॻ': 124, 'ॼ': 125, 'ॽ': 126, 'ॾ': 127, 'ॿ': 128}\n"
          ],
          "name": "stdout"
        }
      ]
    },
    {
      "cell_type": "markdown",
      "metadata": {
        "id": "2QbBoHqqgWEy",
        "colab_type": "text"
      },
      "source": [
        "Note: de in devanagiri in Hindi, though looks like one character (in Hindi), is actually 2 unicode characters : da and e (in hindi)"
      ]
    },
    {
      "cell_type": "code",
      "metadata": {
        "id": "ssw7bkbcgElo",
        "colab_type": "code",
        "colab": {}
      },
      "source": [
        ""
      ],
      "execution_count": 0,
      "outputs": []
    },
    {
      "cell_type": "markdown",
      "metadata": {
        "id": "Zqgjb2HWgIR3",
        "colab_type": "text"
      },
      "source": [
        "# Data Pre-processing helper functions"
      ]
    },
    {
      "cell_type": "code",
      "metadata": {
        "id": "001Zhv85gLgE",
        "colab_type": "code",
        "colab": {}
      },
      "source": [
        "import re # regular expressions\n",
        "non_eng_letters_regex = re.compile('[^a-zA-Z ]')\n",
        "\n",
        "# Remove all English non-letters (alphabets and space)\n",
        "def cleanEnglishVocab(line):\n",
        "  line = line.replace('-',' ').replace(',',' ').upper() # '-' and ',' act as space\n",
        "  line = non_eng_letters_regex.sub('', line) # substitute all chars of non_eng_letters_regex present in line by nothing ('')\n",
        "  return line.split()\n",
        "\n",
        "# Remove all Hindi non-letters\n",
        "def cleanHindiVocab(line):\n",
        "  line = line.replace('-',' ').replace(',',' ')\n",
        "  cleaned_line = ''\n",
        "  for char in line:\n",
        "    if char in hindi_alpha2index or char == ' ':\n",
        "      cleaned_line += char\n",
        "    return cleaned_line.split()"
      ],
      "execution_count": 0,
      "outputs": []
    },
    {
      "cell_type": "markdown",
      "metadata": {
        "id": "DpMaU2DUiNS9",
        "colab_type": "text"
      },
      "source": [
        "# Dataset Loading"
      ]
    },
    {
      "cell_type": "code",
      "metadata": {
        "id": "8n3fovAdiI3S",
        "colab_type": "code",
        "colab": {}
      },
      "source": [
        "from torch.utils.data import Dataset\n",
        "import xml.etree.ElementTree as ET # available in Python"
      ],
      "execution_count": 0,
      "outputs": []
    },
    {
      "cell_type": "code",
      "metadata": {
        "id": "8EBkFmfbyUlU",
        "colab_type": "code",
        "colab": {}
      },
      "source": [
        "tree = ET.parse('NEWS2012-Ref-EnHi-1000.xml')"
      ],
      "execution_count": 0,
      "outputs": []
    },
    {
      "cell_type": "code",
      "metadata": {
        "id": "TNVUETo1z3kT",
        "colab_type": "code",
        "colab": {
          "base_uri": "https://localhost:8080/",
          "height": 36
        },
        "outputId": "54a2b7b1-d266-4934-94c5-1ab51fb86305"
      },
      "source": [
        "root = tree.getroot()\n",
        "print(root)"
      ],
      "execution_count": 14,
      "outputs": [
        {
          "output_type": "stream",
          "text": [
            "<Element 'TransliterationCorpus' at 0x7f1be7b2a318>\n"
          ],
          "name": "stdout"
        }
      ]
    },
    {
      "cell_type": "code",
      "metadata": {
        "id": "UVyqSEw_z4TG",
        "colab_type": "code",
        "colab": {
          "base_uri": "https://localhost:8080/",
          "height": 36
        },
        "outputId": "f13c168c-7292-4d74-8e91-439595aa606f"
      },
      "source": [
        "root.tag"
      ],
      "execution_count": 16,
      "outputs": [
        {
          "output_type": "execute_result",
          "data": {
            "text/plain": [
              "'TransliterationCorpus'"
            ]
          },
          "metadata": {
            "tags": []
          },
          "execution_count": 16
        }
      ]
    },
    {
      "cell_type": "markdown",
      "metadata": {
        "id": "jfnf6WMa0gz5",
        "colab_type": "text"
      },
      "source": [
        "The root tag is named TransliterationCorpus"
      ]
    },
    {
      "cell_type": "code",
      "metadata": {
        "id": "bCeLQPlb0a1j",
        "colab_type": "code",
        "colab": {
          "base_uri": "https://localhost:8080/",
          "height": 147
        },
        "outputId": "075f8603-a0cc-48be-ab1a-effb10411ceb"
      },
      "source": [
        "i = 0\n",
        "for child in root:\n",
        "    print(child.tag, child.attrib)\n",
        "    if i > 5:\n",
        "      break\n",
        "    i += 1"
      ],
      "execution_count": 18,
      "outputs": [
        {
          "output_type": "stream",
          "text": [
            "Name {'ID': '1'}\n",
            "Name {'ID': '2'}\n",
            "Name {'ID': '3'}\n",
            "Name {'ID': '4'}\n",
            "Name {'ID': '5'}\n",
            "Name {'ID': '6'}\n",
            "Name {'ID': '7'}\n"
          ],
          "name": "stdout"
        }
      ]
    },
    {
      "cell_type": "markdown",
      "metadata": {
        "id": "W0ieeJwn0_-Q",
        "colab_type": "text"
      },
      "source": [
        "The next sub level tags are \"Name\" tags with \"ID\" attribute.  \n",
        "Similar to how a HTML tag div, has an attribute \"class\" or \"id\""
      ]
    },
    {
      "cell_type": "code",
      "metadata": {
        "id": "o0j0GsW81Tpo",
        "colab_type": "code",
        "colab": {
          "base_uri": "https://localhost:8080/",
          "height": 258
        },
        "outputId": "888dd3ca-b07f-489f-f08f-32cb20f5a49b"
      },
      "source": [
        "i = 0\n",
        "for elem in root.iter():\n",
        "    print(elem.tag)\n",
        "    if i > 11:\n",
        "      break\n",
        "    i += 1"
      ],
      "execution_count": 23,
      "outputs": [
        {
          "output_type": "stream",
          "text": [
            "TransliterationCorpus\n",
            "Name\n",
            "SourceName\n",
            "TargetName\n",
            "Name\n",
            "SourceName\n",
            "TargetName\n",
            "Name\n",
            "SourceName\n",
            "TargetName\n",
            "Name\n",
            "SourceName\n",
            "TargetName\n"
          ],
          "name": "stdout"
        }
      ]
    },
    {
      "cell_type": "markdown",
      "metadata": {
        "id": "viobQC0t1xOa",
        "colab_type": "text"
      },
      "source": [
        "The above lists the inner elements.  \n",
        "The inner structure is :  \n",
        "TransliterationCorpus -> Name -> SourceName at same level as TargetName"
      ]
    },
    {
      "cell_type": "code",
      "metadata": {
        "id": "hSYQ8lzJ2SXV",
        "colab_type": "code",
        "colab": {
          "base_uri": "https://localhost:8080/",
          "height": 258
        },
        "outputId": "aa2055a2-8afb-4d9c-f6b2-a2c1bb89d259"
      },
      "source": [
        "# [(ele.tag, ele.attrib) for ele in root.iter(\"Name\")] : prints all attributes of Name tag\n",
        "# nextelem.tag or nextelem.attrib prints empty braces since this tag has no attributes\n",
        "\n",
        "i = 0\n",
        "for nextelem in root.iter(\"SourceName\"):\n",
        "  print(nextelem.text)\n",
        "  if i > 11:\n",
        "    break\n",
        "  i += 1"
      ],
      "execution_count": 29,
      "outputs": [
        {
          "output_type": "stream",
          "text": [
            "Aadhi\n",
            "Aakash\n",
            "Aap\n",
            "Aayasha\n",
            "Aayee\n",
            "Abduh\n",
            "Aberhart\n",
            "Abey\n",
            "Abou\n",
            "Abri\n",
            "Academy\n",
            "Accommodation\n",
            "Acorn\n"
          ],
          "name": "stdout"
        }
      ]
    },
    {
      "cell_type": "code",
      "metadata": {
        "id": "4E6o0BKE3kND",
        "colab_type": "code",
        "colab": {
          "base_uri": "https://localhost:8080/",
          "height": 258
        },
        "outputId": "312aeac3-a2ed-49e8-9ee4-936b5707d1ef"
      },
      "source": [
        "i = 0\n",
        "for nextelem in root.iter(\"TargetName\"):\n",
        "  print(nextelem.text)\n",
        "  if i > 11:\n",
        "    break\n",
        "  i += 1"
      ],
      "execution_count": 30,
      "outputs": [
        {
          "output_type": "stream",
          "text": [
            "आधी\n",
            "आकाश\n",
            "आप\n",
            "आयशा\n",
            "आई\n",
            "अब्दुस\n",
            "एबरहर्ट\n",
            "अबेय\n",
            "अबू\n",
            "एब्री\n",
            "अकेडमी\n",
            "एकेडमी\n",
            "एकोमडेशन\n"
          ],
          "name": "stdout"
        }
      ]
    },
    {
      "cell_type": "markdown",
      "metadata": {
        "id": "6M4hyLxz3sqD",
        "colab_type": "text"
      },
      "source": [
        "Thus extracted English and Hindi from XML."
      ]
    },
    {
      "cell_type": "code",
      "metadata": {
        "id": "7LPJlN53zvMR",
        "colab_type": "code",
        "colab": {}
      },
      "source": [
        "class TransliterationLoader(Dataset): # extends Dataset, adding features of our own to it\n",
        "  def __init__(self, filename):\n",
        "    self.eng_words, self.hindi_words = self.readXMLDataset(filename)\n",
        "    self.shuffle_indices = list(range(len(self.eng_words)))\n",
        "    random.shuffle(self.shuffle_indices)\n",
        "    self.shuffle_start_index = 0\n",
        "\n",
        "  def __len__(self):\n",
        "    return len(self.eng_words)\n",
        "\n",
        "  def __getitem__(self, idx):\n",
        "    return self.eng_words[idx], self.hindi_words[idx]\n",
        "\n",
        "  def readXMLDataset(self, filename):\n",
        "    transliterationCorpus = ET.parse(filename).getroot()\n",
        "    English_words = []\n",
        "    Hindi_words = []\n",
        "\n",
        "    for line in transliterationCorpus:\n",
        "      wordlist1 = cleanEnglishVocab(line[0].text)\n",
        "      wordlist2 = cleanHindiVocab(line[1].text)\n",
        "\n",
        "      # Skip noisy data\n",
        "      if len(word1list) != len(wordlist2):\n",
        "        print(\"Skipping: \", line[0].text, '-', line[1].text)\n",
        "        continue\n",
        "\n",
        "      for word in wordlist1: \n",
        "        English_words.append(word)\n",
        "\n",
        "      for word in wordlist2: \n",
        "        Hindi_words.append(word)\n",
        "\n",
        "    return English_words, Hindi_words\n",
        "\n",
        "  def get_random_sample(self):\n",
        "    return self.__getitem__(np.random.randint(__len__()))\n",
        "\n",
        "  def get_batch_from_array(self, batch_size, array):\n",
        "    end = self.shuffle_start_index + batch_size\n",
        "    batch = []\n",
        "    if end >= len(batch):\n",
        "      batch.append(get_random_sample())\n",
        "      end -= 1"
      ],
      "execution_count": 0,
      "outputs": []
    }
  ]
}