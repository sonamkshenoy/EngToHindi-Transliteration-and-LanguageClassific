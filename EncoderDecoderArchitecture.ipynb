{
  "nbformat": 4,
  "nbformat_minor": 0,
  "metadata": {
    "colab": {
      "name": "EncoderDecoderArchitecture.ipynb",
      "provenance": [],
      "collapsed_sections": [],
      "authorship_tag": "ABX9TyPWGReDv6T+pJI31/HyZwm6"
    },
    "kernelspec": {
      "name": "python3",
      "display_name": "Python 3"
    }
  },
  "cells": [
    {
      "cell_type": "markdown",
      "metadata": {
        "id": "_ewFbZLpa6Dm",
        "colab_type": "text"
      },
      "source": [
        "# Outline\n",
        "\n",
        "1. Data set and task\n",
        "2. Data processing XML files\n",
        "3. Why we need encoder decoder architecture\n",
        "4. Basic GRU based encoder decoder\n",
        "5. Adding attention\n",
        "6. Evaluation"
      ]
    },
    {
      "cell_type": "code",
      "metadata": {
        "id": "GLYVFJufavdk",
        "colab_type": "code",
        "colab": {}
      },
      "source": [
        "import torch\n",
        "import torch.nn as nn\n",
        "import torch.optim as optim\n",
        "from torch.autograd import Variable\n",
        "import torch.nn.functional as F\n",
        "import numpy as np\n",
        "\n",
        "# Instantiates the device to be used as GPU/CPU based on availability\n",
        "device_gpu = torch.device(\"cuda:0\" if torch.cuda.is_available() else \"cpu\")"
      ],
      "execution_count": 0,
      "outputs": []
    },
    {
      "cell_type": "code",
      "metadata": {
        "id": "-YpfrGmEbobB",
        "colab_type": "code",
        "colab": {}
      },
      "source": [
        "# Visualisation tools\n",
        "import matplotlib.pyplot as plt\n",
        "import seaborn as sns\n",
        "from IPython.display import clear_output\n",
        "import random"
      ],
      "execution_count": 0,
      "outputs": []
    },
    {
      "cell_type": "code",
      "metadata": {
        "id": "NlBBjyU8b324",
        "colab_type": "code",
        "colab": {}
      },
      "source": [
        ""
      ],
      "execution_count": 0,
      "outputs": []
    },
    {
      "cell_type": "markdown",
      "metadata": {
        "id": "K1YeJz5dcitT",
        "colab_type": "text"
      },
      "source": [
        "# Prepare Data"
      ]
    },
    {
      "cell_type": "markdown",
      "metadata": {
        "id": "476ASkj-clYp",
        "colab_type": "text"
      },
      "source": [
        "### Alphabets setup"
      ]
    },
    {
      "cell_type": "markdown",
      "metadata": {
        "id": "Ew944iDyeaxt",
        "colab_type": "text"
      },
      "source": [
        "As usual, convert first to numerical form so that model can process."
      ]
    },
    {
      "cell_type": "markdown",
      "metadata": {
        "id": "BoKmPaCce-7r",
        "colab_type": "text"
      },
      "source": [
        "### English"
      ]
    },
    {
      "cell_type": "code",
      "metadata": {
        "id": "Y9_wc9lAcjp7",
        "colab_type": "code",
        "outputId": "6c152c65-19b1-46cb-c288-10c75277daf3",
        "colab": {
          "base_uri": "https://localhost:8080/",
          "height": 56
        }
      },
      "source": [
        "eng_alphabets = 'ABCDEFGHIJKLMNOPQRSTUVWXYZ'\n",
        "pad_char = '-PAD-'\n",
        "\n",
        "eng_alpha2index = {pad_char:0}\n",
        "for index, alpha in enumerate(eng_alphabets):\n",
        "  eng_alpha2index[alpha] = index+1\n",
        "\n",
        "# Same as:\n",
        "# for index, alpha in enumerate(eng_alphabets, 1):\n",
        "#   eng_alpha2index[alpha] = index\n",
        "\n",
        "print(eng_alpha2index)"
      ],
      "execution_count": 25,
      "outputs": [
        {
          "output_type": "stream",
          "text": [
            "{'-PAD-': 0, 'A': 1, 'B': 2, 'C': 3, 'D': 4, 'E': 5, 'F': 6, 'G': 7, 'H': 8, 'I': 9, 'J': 10, 'K': 11, 'L': 12, 'M': 13, 'N': 14, 'O': 15, 'P': 16, 'Q': 17, 'R': 18, 'S': 19, 'T': 20, 'U': 21, 'V': 22, 'W': 23, 'X': 24, 'Y': 25, 'Z': 26}\n"
          ],
          "name": "stdout"
        }
      ]
    },
    {
      "cell_type": "markdown",
      "metadata": {
        "id": "f4BcT4Yzez35",
        "colab_type": "text"
      },
      "source": [
        "### Hindi"
      ]
    },
    {
      "cell_type": "code",
      "metadata": {
        "id": "uQ_ZADU-dHm0",
        "colab_type": "code",
        "outputId": "caccd18e-1500-4b57-e1e8-c6d03ce290c3",
        "colab": {
          "base_uri": "https://localhost:8080/",
          "height": 56
        }
      },
      "source": [
        "# Hindi Unicode Hex Range is 2304:2432\n",
        "\n",
        "hindi_alphabets = [chr(alpha) for alpha in range(2304, 2432)]\n",
        "hindi_alphabet_size = len(hindi_alphabets)\n",
        "\n",
        "hindi_alpha2index = {pad_char : 0}\n",
        "for index, alpha in enumerate(hindi_alphabets):\n",
        "  hindi_alpha2index[alpha] = index + 1\n",
        "\n",
        "print(hindi_alpha2index)"
      ],
      "execution_count": 26,
      "outputs": [
        {
          "output_type": "stream",
          "text": [
            "{'-PAD-': 0, 'ऀ': 1, 'ँ': 2, 'ं': 3, 'ः': 4, 'ऄ': 5, 'अ': 6, 'आ': 7, 'इ': 8, 'ई': 9, 'उ': 10, 'ऊ': 11, 'ऋ': 12, 'ऌ': 13, 'ऍ': 14, 'ऎ': 15, 'ए': 16, 'ऐ': 17, 'ऑ': 18, 'ऒ': 19, 'ओ': 20, 'औ': 21, 'क': 22, 'ख': 23, 'ग': 24, 'घ': 25, 'ङ': 26, 'च': 27, 'छ': 28, 'ज': 29, 'झ': 30, 'ञ': 31, 'ट': 32, 'ठ': 33, 'ड': 34, 'ढ': 35, 'ण': 36, 'त': 37, 'थ': 38, 'द': 39, 'ध': 40, 'न': 41, 'ऩ': 42, 'प': 43, 'फ': 44, 'ब': 45, 'भ': 46, 'म': 47, 'य': 48, 'र': 49, 'ऱ': 50, 'ल': 51, 'ळ': 52, 'ऴ': 53, 'व': 54, 'श': 55, 'ष': 56, 'स': 57, 'ह': 58, 'ऺ': 59, 'ऻ': 60, '़': 61, 'ऽ': 62, 'ा': 63, 'ि': 64, 'ी': 65, 'ु': 66, 'ू': 67, 'ृ': 68, 'ॄ': 69, 'ॅ': 70, 'ॆ': 71, 'े': 72, 'ै': 73, 'ॉ': 74, 'ॊ': 75, 'ो': 76, 'ौ': 77, '्': 78, 'ॎ': 79, 'ॏ': 80, 'ॐ': 81, '॑': 82, '॒': 83, '॓': 84, '॔': 85, 'ॕ': 86, 'ॖ': 87, 'ॗ': 88, 'क़': 89, 'ख़': 90, 'ग़': 91, 'ज़': 92, 'ड़': 93, 'ढ़': 94, 'फ़': 95, 'य़': 96, 'ॠ': 97, 'ॡ': 98, 'ॢ': 99, 'ॣ': 100, '।': 101, '॥': 102, '०': 103, '१': 104, '२': 105, '३': 106, '४': 107, '५': 108, '६': 109, '७': 110, '८': 111, '९': 112, '॰': 113, 'ॱ': 114, 'ॲ': 115, 'ॳ': 116, 'ॴ': 117, 'ॵ': 118, 'ॶ': 119, 'ॷ': 120, 'ॸ': 121, 'ॹ': 122, 'ॺ': 123, 'ॻ': 124, 'ॼ': 125, 'ॽ': 126, 'ॾ': 127, 'ॿ': 128}\n"
          ],
          "name": "stdout"
        }
      ]
    },
    {
      "cell_type": "markdown",
      "metadata": {
        "id": "2QbBoHqqgWEy",
        "colab_type": "text"
      },
      "source": [
        "Note: de in devanagiri in Hindi, though looks like one character (in Hindi), is actually 2 unicode characters : da and e (in hindi)"
      ]
    },
    {
      "cell_type": "code",
      "metadata": {
        "id": "ssw7bkbcgElo",
        "colab_type": "code",
        "colab": {}
      },
      "source": [
        ""
      ],
      "execution_count": 0,
      "outputs": []
    },
    {
      "cell_type": "markdown",
      "metadata": {
        "id": "Zqgjb2HWgIR3",
        "colab_type": "text"
      },
      "source": [
        "# Data Pre-processing helper functions"
      ]
    },
    {
      "cell_type": "code",
      "metadata": {
        "id": "001Zhv85gLgE",
        "colab_type": "code",
        "colab": {}
      },
      "source": [
        "import re # regular expressions\n",
        "non_eng_letters_regex = re.compile('[^a-zA-Z ]')\n",
        "\n",
        "# Remove all English non-letters (alphabets and space)\n",
        "def cleanEnglishVocab(line):\n",
        "  line = line.replace('-',' ').replace(',',' ').upper() # '-' and ',' act as space\n",
        "  line = non_eng_letters_regex.sub('', line) # substitute all chars of non_eng_letters_regex present in line by nothing ('')\n",
        "  return line.split()\n",
        "\n",
        "# Remove all Hindi non-letters\n",
        "def cleanHindiVocab(line):\n",
        "  # print(line)\n",
        "  line = line.replace('-',' ').replace(',',' ')\n",
        "  cleaned_line = ''\n",
        "  for char in line:\n",
        "    if char in hindi_alpha2index or char == ' ':\n",
        "      cleaned_line += char\n",
        "  return cleaned_line.split() # mistake : gave it one indent more so always returned length 1"
      ],
      "execution_count": 0,
      "outputs": []
    },
    {
      "cell_type": "markdown",
      "metadata": {
        "id": "DpMaU2DUiNS9",
        "colab_type": "text"
      },
      "source": [
        "# Dataset Loading"
      ]
    },
    {
      "cell_type": "code",
      "metadata": {
        "id": "8n3fovAdiI3S",
        "colab_type": "code",
        "colab": {}
      },
      "source": [
        "from torch.utils.data import Dataset\n",
        "import xml.etree.ElementTree as ET # available in Python"
      ],
      "execution_count": 0,
      "outputs": []
    },
    {
      "cell_type": "code",
      "metadata": {
        "id": "8EBkFmfbyUlU",
        "colab_type": "code",
        "colab": {}
      },
      "source": [
        "tree = ET.parse('NEWS2012-Ref-EnHi-1000.xml')"
      ],
      "execution_count": 0,
      "outputs": []
    },
    {
      "cell_type": "code",
      "metadata": {
        "id": "TNVUETo1z3kT",
        "colab_type": "code",
        "colab": {
          "base_uri": "https://localhost:8080/",
          "height": 36
        },
        "outputId": "8f5124b3-fdfe-4fe2-a09d-3c8433badef3"
      },
      "source": [
        "root = tree.getroot()\n",
        "print(root)"
      ],
      "execution_count": 31,
      "outputs": [
        {
          "output_type": "stream",
          "text": [
            "<Element 'TransliterationCorpus' at 0x7f31daa27e58>\n"
          ],
          "name": "stdout"
        }
      ]
    },
    {
      "cell_type": "code",
      "metadata": {
        "id": "UVyqSEw_z4TG",
        "colab_type": "code",
        "colab": {
          "base_uri": "https://localhost:8080/",
          "height": 36
        },
        "outputId": "68d06af0-d09b-48ea-b523-64842f4667ef"
      },
      "source": [
        "root.tag"
      ],
      "execution_count": 32,
      "outputs": [
        {
          "output_type": "execute_result",
          "data": {
            "text/plain": [
              "'TransliterationCorpus'"
            ]
          },
          "metadata": {
            "tags": []
          },
          "execution_count": 32
        }
      ]
    },
    {
      "cell_type": "markdown",
      "metadata": {
        "id": "jfnf6WMa0gz5",
        "colab_type": "text"
      },
      "source": [
        "The root tag is named TransliterationCorpus"
      ]
    },
    {
      "cell_type": "code",
      "metadata": {
        "id": "bCeLQPlb0a1j",
        "colab_type": "code",
        "colab": {
          "base_uri": "https://localhost:8080/",
          "height": 147
        },
        "outputId": "ca7b4481-976d-499c-d685-f55ac8c0d6c0"
      },
      "source": [
        "i = 0\n",
        "for child in root:\n",
        "    print(child.tag, child.attrib)\n",
        "    if i > 5:\n",
        "      break\n",
        "    i += 1"
      ],
      "execution_count": 33,
      "outputs": [
        {
          "output_type": "stream",
          "text": [
            "Name {'ID': '1'}\n",
            "Name {'ID': '2'}\n",
            "Name {'ID': '3'}\n",
            "Name {'ID': '4'}\n",
            "Name {'ID': '5'}\n",
            "Name {'ID': '6'}\n",
            "Name {'ID': '7'}\n"
          ],
          "name": "stdout"
        }
      ]
    },
    {
      "cell_type": "markdown",
      "metadata": {
        "id": "W0ieeJwn0_-Q",
        "colab_type": "text"
      },
      "source": [
        "The next sub level tags are \"Name\" tags with \"ID\" attribute.  \n",
        "Similar to how a HTML tag div, has an attribute \"class\" or \"id\""
      ]
    },
    {
      "cell_type": "code",
      "metadata": {
        "id": "o0j0GsW81Tpo",
        "colab_type": "code",
        "colab": {
          "base_uri": "https://localhost:8080/",
          "height": 258
        },
        "outputId": "aeda4fba-bcb5-457f-fa64-b416a9ce1ffe"
      },
      "source": [
        "i = 0\n",
        "for elem in root.iter():\n",
        "    print(elem.tag)\n",
        "    if i > 11:\n",
        "      break\n",
        "    i += 1"
      ],
      "execution_count": 34,
      "outputs": [
        {
          "output_type": "stream",
          "text": [
            "TransliterationCorpus\n",
            "Name\n",
            "SourceName\n",
            "TargetName\n",
            "Name\n",
            "SourceName\n",
            "TargetName\n",
            "Name\n",
            "SourceName\n",
            "TargetName\n",
            "Name\n",
            "SourceName\n",
            "TargetName\n"
          ],
          "name": "stdout"
        }
      ]
    },
    {
      "cell_type": "markdown",
      "metadata": {
        "id": "viobQC0t1xOa",
        "colab_type": "text"
      },
      "source": [
        "The above lists the inner elements.  \n",
        "The inner structure is :  \n",
        "TransliterationCorpus -> Name -> SourceName at same level as TargetName"
      ]
    },
    {
      "cell_type": "code",
      "metadata": {
        "id": "hSYQ8lzJ2SXV",
        "colab_type": "code",
        "colab": {
          "base_uri": "https://localhost:8080/",
          "height": 258
        },
        "outputId": "5cc4b8fa-435c-4d8a-e5ca-f1d62058c40d"
      },
      "source": [
        "# [(ele.tag, ele.attrib) for ele in root.iter(\"Name\")] : prints all attributes of Name tag\n",
        "# nextelem.tag or nextelem.attrib prints empty braces since this tag has no attributes\n",
        "\n",
        "i = 0\n",
        "for nextelem in root.iter(\"SourceName\"):\n",
        "  print(nextelem.text)\n",
        "  if i > 11:\n",
        "    break\n",
        "  i += 1"
      ],
      "execution_count": 35,
      "outputs": [
        {
          "output_type": "stream",
          "text": [
            "Aadhi\n",
            "Aakash\n",
            "Aap\n",
            "Aayasha\n",
            "Aayee\n",
            "Abduh\n",
            "Aberhart\n",
            "Abey\n",
            "Abou\n",
            "Abri\n",
            "Academy\n",
            "Accommodation\n",
            "Acorn\n"
          ],
          "name": "stdout"
        }
      ]
    },
    {
      "cell_type": "code",
      "metadata": {
        "id": "4E6o0BKE3kND",
        "colab_type": "code",
        "colab": {
          "base_uri": "https://localhost:8080/",
          "height": 258
        },
        "outputId": "963cc091-8417-4be2-a6cd-3be338898f84"
      },
      "source": [
        "i = 0\n",
        "for nextelem in root.iter(\"TargetName\"):\n",
        "  print(nextelem.text)\n",
        "  if i > 11:\n",
        "    break\n",
        "  i += 1"
      ],
      "execution_count": 36,
      "outputs": [
        {
          "output_type": "stream",
          "text": [
            "आधी\n",
            "आकाश\n",
            "आप\n",
            "आयशा\n",
            "आई\n",
            "अब्दुस\n",
            "एबरहर्ट\n",
            "अबेय\n",
            "अबू\n",
            "एब्री\n",
            "अकेडमी\n",
            "एकेडमी\n",
            "एकोमडेशन\n"
          ],
          "name": "stdout"
        }
      ]
    },
    {
      "cell_type": "markdown",
      "metadata": {
        "id": "6M4hyLxz3sqD",
        "colab_type": "text"
      },
      "source": [
        "Thus extracted English and corresponding Hindi from XML."
      ]
    },
    {
      "cell_type": "code",
      "metadata": {
        "id": "7LPJlN53zvMR",
        "colab_type": "code",
        "colab": {}
      },
      "source": [
        "class TransliterationLoader(Dataset): # extends Dataset, adding features of our own to it\n",
        "  def __init__(self, filename):\n",
        "    self.eng_words, self.hindi_words = self.readXMLDataset(filename)\n",
        "    self.shuffle_indices = list(range(len(self.eng_words)))\n",
        "    random.shuffle(self.shuffle_indices)\n",
        "    self.shuffle_start_index = 0\n",
        "\n",
        "  def __len__(self):\n",
        "    return len(self.eng_words)\n",
        "\n",
        "  def __getitem__(self, idx):\n",
        "    return self.eng_words[idx], self.hindi_words[idx]\n",
        "\n",
        "  def readXMLDataset(self, filename):\n",
        "    transliterationCorpus = ET.parse(filename).getroot()\n",
        "    English_words = []\n",
        "    Hindi_words = []\n",
        "\n",
        "    for line in transliterationCorpus:\n",
        "      wordlist1 = cleanEnglishVocab(line[0].text)\n",
        "      wordlist2 = cleanHindiVocab(line[1].text)\n",
        "      # print(wordlist1, '-', wordlist2)\n",
        "\n",
        "      # Skip noisy data i.e. where number of \"words\" (not \"characters\" in each word) is not the same in English and Hindi\n",
        "      # e.g. English: Stirling Smith Museum And Art Gallery, Hindi: स (4 words in English corresponding to one in Hindi)\n",
        "      if len(wordlist1) != len(wordlist2):\n",
        "        print(\"Skipping: \", line[0].text, '-', line[1].text)\n",
        "        continue\n",
        "\n",
        "      # Since each tag may contain more than one word such as : ['STIRLING', 'SMITH', 'MUSEUM', 'AND', 'ART', 'GALLERY'], ['DEOGAN', 'ROAD']\n",
        "      # ['देवगन', 'रोड']\n",
        "      for word in wordlist1: \n",
        "        English_words.append(word)\n",
        "\n",
        "      for word in wordlist2: \n",
        "        Hindi_words.append(word)\n",
        "\n",
        "    return English_words, Hindi_words\n",
        "\n",
        "  def get_random_sample(self):\n",
        "    return self.__getitem__(np.random.randint(self.__len__()))\n",
        "\n",
        "  # generalise for Hindi and English (array is the parameter that decides if Hindi or English)\n",
        "  def get_batch_from_array(self, batch_size, array):\n",
        "    end = self.shuffle_start_index + batch_size\n",
        "    batch = []\n",
        "    if end >= self.__len__():\n",
        "      batch = [array[i] for i in self.shuffle_indices[0:end%self.__len__()]] # mod if batch size (\"end\") > the length of eng_words in the corpus we got from the XML file\n",
        "      end = self.__len__()\n",
        "    return batch + [array[i] for i in self.shuffle_indices[self.shuffle_start_index:end]]\n",
        "\n",
        "  def get_batch(self, batch_size, postprocess = True):\n",
        "    eng_batch = self.get_batch_from_array(batch_size, self.eng_words)\n",
        "    hindi_batch = self.get_batch_from_array(batch_size, self.hindi_words)\n",
        "    self.shuffle_start_index += batch_size + 1\n",
        "  \n",
        "    # Reshuffle if 1 epoch is complete\n",
        "    if self.shuffle_start_index >= self.__len__():\n",
        "      random.shuffle(self.shuffle_indices)\n",
        "      self.shuffle_start_index = 0\n",
        "\n",
        "    return eng_batch, hindi_batch"
      ],
      "execution_count": 0,
      "outputs": []
    },
    {
      "cell_type": "code",
      "metadata": {
        "id": "zI6zsl05UQO8",
        "colab_type": "code",
        "colab": {
          "base_uri": "https://localhost:8080/",
          "height": 741
        },
        "outputId": "00661e1a-82be-48d1-bf90-36fadf2a4650"
      },
      "source": [
        "train_data = TransliterationLoader('NEWS2012-Training-EnHi-13937.xml')\n",
        "test_data = TransliterationLoader('NEWS2012-Ref-EnHi-1000.xml')"
      ],
      "execution_count": 38,
      "outputs": [
        {
          "output_type": "stream",
          "text": [
            "Skipping:  BARHARWA JUNCTION - बरहरवा\n",
            "Skipping:  STATE BNK TR - स्टेट बैंक ऑफ त्रावणकोर\n",
            "Skipping:  SOUTH ARLINGTON CHURCH OF CHRIST - साउथ अर्लिंग्टन\n",
            "Skipping:  KING EDWARD VII - किंग एडवर्ड\n",
            "Skipping:  DIBANG VALLEY - दिबंगवैली\n",
            "Skipping:  ORDER OF VASA - ऑडर ऑफ़ द वासा\n",
            "Skipping:  AZAMNAGAR ROAD - आज़मनगर\n",
            "Skipping:  CAPE TOWN - केपटाउन\n",
            "Skipping:  NEW ZEALAND - न्यूज़ीलैंड\n",
            "Skipping:  SEA OF THE HEBRIDES - सी ऑफ हरब्रिड्‍स\n",
            "Skipping:  RAMCOIND - राम्को इंड\n",
            "Skipping:  KELVINGROVE ART GALLERY AND MUSEUM - केल्व‍िनग्रोव आर्ट एण्ड म्युज़ियम\n",
            "Skipping:  AUSTRALIAN NATIONAL UNIVERSITY - ऑस्ट्रेलियननेशनल यूनिवर्सिटी\n",
            "Skipping:  JAHAN AARA - जहाँआरा\n",
            "Skipping:  NAVABHARAT FERRO ALLOYS - नव भारत फ़ैरो अलॉय\n",
            "Skipping:  RAMA LINGESHWARA - रामालिंगेश्वर\n",
            "Skipping:  FAKHRUN NISA - फखरुन्निसा\n",
            "Skipping:  REDIFF.COM INDIA LIMITED - रेडिफ़ डॉट कॉम इंडिया लिमिटेड\n",
            "Skipping:  OMKARNATH THAKUR - ओंकार नाथ ठाकुर\n",
            "Skipping:  OPENTV - ओपन टीवी\n",
            "Skipping:  ENVOY COMMUNICATIONS GROUP - एन्वॉय कम्युनिकेशंस\n",
            "Skipping:  WAR OF THE HOLY LEAGUE - वार ऑफ होली लीग\n",
            "Skipping:  VAPARAISO CHURCH OF CHRIST - व्हापरासिओ\n",
            "Skipping:  PARIS CHARLES DE GAULLE - पेरिस रॉसे चार्ल्स डे ग्यूले\n",
            "Skipping:  PARKWAY APOSTOLIC - पार्क वे अपोस्टोलिक\n",
            "Skipping:  MAUNA LOA - मौनालोआ\n",
            "Skipping:  MASS MUTUAL LIFE - मास म्युच्युअल लाइफ़ इंश्योरेंस\n",
            "Skipping:  STATS CHIPPAC - स्टेट्सचिपपैक\n",
            "Skipping:  NEWFOUNDLAND - न्यू फाउंडलैंड\n",
            "Skipping:  LONDONHEATHROW - लंदन हीथ्रो\n",
            "Skipping:  RETALIX - रेटालिक्स लि.\n",
            "Skipping:  SRISAILAM - श्री शैलम\n",
            "Skipping:  KARA-KUM - काराकुम\n",
            "Skipping:  WIND RIVER - विंडरिवर\n",
            "Skipping:  NETAJI SUBHASH CHANDRA BOSE - नेताजी सुभाषचंद्र बोस\n",
            "Skipping:  ROCKBROOK UNITED - रॉकब्रुक यूनाइटेड मेथोडिस्ट\n",
            "Skipping:  WALTER SCOTT - वॉल्टरस्कॉट\n",
            "Skipping:  COLOURPLUS FASHIONS - कलर प्लस फ़ैशन्स\n",
            "Skipping:  BAL KRISHNA - बालकृष्णा\n"
          ],
          "name": "stdout"
        }
      ]
    },
    {
      "cell_type": "code",
      "metadata": {
        "id": "yG5dpuiPUglk",
        "colab_type": "code",
        "colab": {}
      },
      "source": [
        ""
      ],
      "execution_count": 0,
      "outputs": []
    },
    {
      "cell_type": "markdown",
      "metadata": {
        "id": "VNIof8hFaWra",
        "colab_type": "text"
      },
      "source": [
        "# Data Visualisation"
      ]
    },
    {
      "cell_type": "code",
      "metadata": {
        "id": "656wQxzhaZ2C",
        "colab_type": "code",
        "colab": {
          "base_uri": "https://localhost:8080/",
          "height": 277
        },
        "outputId": "81ca260c-92c2-4938-f8bf-39b39e98e2cb"
      },
      "source": [
        "print(\"Train set size: \", len(train_data))\n",
        "print(\"Test set size: \", len(test_data))\n",
        "\n",
        "print(\"\\nSample data from train set:\")\n",
        "for i in range(10):\n",
        "  eng, hindi = train_data.get_random_sample()\n",
        "  print(eng + '-' + hindi)"
      ],
      "execution_count": 39,
      "outputs": [
        {
          "output_type": "stream",
          "text": [
            "Train set size:  20543\n",
            "Test set size:  1000\n",
            "\n",
            "Sample data from train set:\n",
            "SUGAR-शुगर\n",
            "ALEXANDRA-अलेक्सांद्रा\n",
            "BURA-बूरा\n",
            "KATICH-कैटिच\n",
            "GROUP-ग्रुप\n",
            "DIPHU-दिपु\n",
            "COLA-कोला\n",
            "PUSHKIN-पिश्किन\n",
            "BHAGAT-भगत\n",
            "SUMITOMO-सुमिटोमो\n"
          ],
          "name": "stdout"
        }
      ]
    },
    {
      "cell_type": "markdown",
      "metadata": {
        "id": "IscIrKxUgB2u",
        "colab_type": "text"
      },
      "source": [
        "(Note all english converted to upper case)"
      ]
    },
    {
      "cell_type": "code",
      "metadata": {
        "id": "MrVYdVTrauCF",
        "colab_type": "code",
        "colab": {}
      },
      "source": [
        ""
      ],
      "execution_count": 0,
      "outputs": []
    },
    {
      "cell_type": "markdown",
      "metadata": {
        "id": "wJA7cymMhIe8",
        "colab_type": "text"
      },
      "source": [
        "# Encoding single words"
      ]
    },
    {
      "cell_type": "code",
      "metadata": {
        "id": "QBYkNaM4hJ80",
        "colab_type": "code",
        "colab": {}
      },
      "source": [
        "# OHE for English words (input) - convert word to number (OHE main purpose to convert to number)\n",
        "def word_rep( word, letter2index, device = 'cpu'):\n",
        "  rep = torch.zeros(len(word)+1, 1, len(letter2index)).to(device)\n",
        "  # (number of characters in word, batch in sequence problems, OHE length of each character in vocabulary i.e. 27)\n",
        "  for letter_index, letter in enumerate(word):\n",
        "    pos = letter2index[letter]\n",
        "    rep[letter_index][0][pos] = 1\n",
        "  pad_pos = letter2index[pad_char]\n",
        "  # marking the last character in the word as PAD (remember we made word size = actual word size + 1)\n",
        "  rep[letter_index+1][0][pad_pos] = 1\n",
        "  return rep\n",
        "\n",
        "\n",
        "# Just label for Hindi words (output) sice just classification task\n",
        "def gt_rep(word, letter2index, device = 'cpu'): # ground truth\n",
        "  gt_rep = torch.zeros([len(word)+1, 1], dtype = torch.long).to(device)\n",
        "  for letter_index, letter in enumerate(word):\n",
        "    pos = letter2index[letter]\n",
        "    gt_rep[letter_index][0] =  pos\n",
        "  gt_rep[letter_index + 1][0] = letter2index[pad_char]\n",
        "  return gt_rep"
      ],
      "execution_count": 0,
      "outputs": []
    },
    {
      "cell_type": "markdown",
      "metadata": {
        "id": "B3MA0GlwjzUD",
        "colab_type": "text"
      },
      "source": [
        "Get one pair of (English word, corresponding Hindi word)"
      ]
    },
    {
      "cell_type": "code",
      "metadata": {
        "id": "JPHQTkvYjyOf",
        "colab_type": "code",
        "colab": {}
      },
      "source": [
        "eng, hindi = train_data.get_random_sample()"
      ],
      "execution_count": 0,
      "outputs": []
    },
    {
      "cell_type": "code",
      "metadata": {
        "id": "NLsaIG8ajiJs",
        "colab_type": "code",
        "colab": {
          "base_uri": "https://localhost:8080/",
          "height": 296
        },
        "outputId": "80725471-ff3c-4b7f-db5c-b7d1fa44d1af"
      },
      "source": [
        "eng_rep = word_rep(eng, eng_alpha2index)\n",
        "print(eng, \"\\n\", eng_rep)"
      ],
      "execution_count": 42,
      "outputs": [
        {
          "output_type": "stream",
          "text": [
            "CHOR \n",
            " tensor([[[0., 0., 0., 1., 0., 0., 0., 0., 0., 0., 0., 0., 0., 0., 0., 0., 0.,\n",
            "          0., 0., 0., 0., 0., 0., 0., 0., 0., 0.]],\n",
            "\n",
            "        [[0., 0., 0., 0., 0., 0., 0., 0., 1., 0., 0., 0., 0., 0., 0., 0., 0.,\n",
            "          0., 0., 0., 0., 0., 0., 0., 0., 0., 0.]],\n",
            "\n",
            "        [[0., 0., 0., 0., 0., 0., 0., 0., 0., 0., 0., 0., 0., 0., 0., 1., 0.,\n",
            "          0., 0., 0., 0., 0., 0., 0., 0., 0., 0.]],\n",
            "\n",
            "        [[0., 0., 0., 0., 0., 0., 0., 0., 0., 0., 0., 0., 0., 0., 0., 0., 0.,\n",
            "          0., 1., 0., 0., 0., 0., 0., 0., 0., 0.]],\n",
            "\n",
            "        [[1., 0., 0., 0., 0., 0., 0., 0., 0., 0., 0., 0., 0., 0., 0., 0., 0.,\n",
            "          0., 0., 0., 0., 0., 0., 0., 0., 0., 0.]]])\n"
          ],
          "name": "stdout"
        }
      ]
    },
    {
      "cell_type": "markdown",
      "metadata": {
        "id": "skF7lKe8kDJ_",
        "colab_type": "text"
      },
      "source": [
        "8 characters including PAD"
      ]
    },
    {
      "cell_type": "code",
      "metadata": {
        "id": "ci7RZZ40jtcJ",
        "colab_type": "code",
        "colab": {
          "base_uri": "https://localhost:8080/",
          "height": 110
        },
        "outputId": "30d7b469-e9a1-4881-ff17-ba4836372474"
      },
      "source": [
        "hindi_gt = gt_rep(hindi, hindi_alpha2index)\n",
        "print(hindi, \"\\n\", hindi_gt)"
      ],
      "execution_count": 43,
      "outputs": [
        {
          "output_type": "stream",
          "text": [
            "चोर \n",
            " tensor([[27],\n",
            "        [76],\n",
            "        [49],\n",
            "        [ 0]])\n"
          ],
          "name": "stdout"
        }
      ]
    },
    {
      "cell_type": "markdown",
      "metadata": {
        "id": "QTkPDB8wkQcA",
        "colab_type": "text"
      },
      "source": [
        "6 characters including PAD (kha, i, da, aa, sha, PAD)"
      ]
    },
    {
      "cell_type": "markdown",
      "metadata": {
        "id": "Y2vBNRtAkrIZ",
        "colab_type": "text"
      },
      "source": [
        "***NOTE: Number of characters in input need not correspond to number of characters in output. That's the reason we use encoder-decoder architecture***"
      ]
    },
    {
      "cell_type": "code",
      "metadata": {
        "id": "vOHZYI0Ij9K3",
        "colab_type": "code",
        "colab": {}
      },
      "source": [
        ""
      ],
      "execution_count": 0,
      "outputs": []
    },
    {
      "cell_type": "markdown",
      "metadata": {
        "id": "fPa5L0Z4lT0c",
        "colab_type": "text"
      },
      "source": [
        "# Network Architecture"
      ]
    },
    {
      "cell_type": "markdown",
      "metadata": {
        "id": "aoOOHrzPlTtC",
        "colab_type": "text"
      },
      "source": [
        "Note: 3 letters in input (KHI) correspond to two letters in output (kha, i)  \n",
        "Similarly 2 letters in input (SH) correspond to one in output (sha)"
      ]
    },
    {
      "cell_type": "markdown",
      "metadata": {
        "id": "gqHWzuDMlp-r",
        "colab_type": "text"
      },
      "source": [
        "In such tasks, where output size != input size, need to encode entire input using the encoder part.  \n",
        "And then process it further using the decoder."
      ]
    },
    {
      "cell_type": "markdown",
      "metadata": {
        "id": "Q4y6Yf-jo43L",
        "colab_type": "text"
      },
      "source": [
        "## Encoder-Decoder Using GRU"
      ]
    },
    {
      "cell_type": "code",
      "metadata": {
        "id": "eleXMZTYle75",
        "colab_type": "code",
        "colab": {}
      },
      "source": [
        "MAX_OUTPUT_CHARS = 30\n",
        "class Transliteration_EncoderDecoder(nn.Module):\n",
        "\n",
        "  def __init__(self, input_size, hidden_size, output_size, verbose = False):\n",
        "    # input size is the size of each input character of the word i.e. 27 (OHE)\n",
        "    # output size is the size of each output word character i.e. 129 Hindi characters (Label)\n",
        "    # hidden_size is the number of layers (hyperparameters) of both encoder and decoder RNN cell (needn't be the same, can take 2 parameters for encoder hidden size and decoder hidden size)\n",
        "\n",
        "    super(Transliteration_EncoderDecoder, self).__init__()\n",
        "\n",
        "    self.hidden_size = hidden_size\n",
        "    self.output_size = output_size\n",
        "\n",
        "    # size of input to encoder cell is input_size\n",
        "    self.encoder_rnn_cell = nn.GRU(input_size, hidden_size)\n",
        "    # size of input to decoder cell is output_size, since the output of the previous timestamp is itself fed to the decoder cell of the current timestamp\n",
        "    self.decoder_rnn_cell = nn.GRU(output_size, hidden_size)\n",
        "\n",
        "    # fully connected\n",
        "    self.h2o = nn.Linear(hidden_size, output_size)\n",
        "    # softmax since classification\n",
        "    self.softmax = nn.LogSoftmax(dim=2)\n",
        "\n",
        "    self.verbose = verbose\n",
        "\n",
        "  def forward(self, input, max_output_chars = MAX_OUTPUT_CHARS, device = 'cpu', ground_truth = None):\n",
        "\n",
        "    # encoder\n",
        "\n",
        "    \"\"\"\n",
        "    Very important:\n",
        "    Encoder is a single GRU/LSTM cell (here, GRU). Now feeding to it (encoding) can be done in 2 ways when sequence (string) problems.\n",
        "    i) Feeding one character (vector size : 27), one at a time. And call it as many times as there are alphabets in the word. Thus input to the GRU once is (1,1,27)\n",
        "    ii) Feeding all the characters at once. In that case, input to GRU is (number of alphabets in word, 1, 27). In one go, computes output of the 6 characters. Internally it happens step wise - i.e. first cell, then output to second cell and so on.\n",
        "    This is possible, since encoding is a simple computation.\n",
        "    The dimension of the \"out\" correspondingly changes.\n",
        "    \"\"\"\n",
        "    out, hidden = self.encoder_rnn_cell(input)\n",
        "\n",
        "    if self.verbose:\n",
        "      print('Encoder input', input.shape)\n",
        "      print('Encoder ouput', out.shape)\n",
        "      print('Encoder hidden', hidden.shape)\n",
        "\n",
        "    # decoder\n",
        "    decoder_state = hidden # the first time the decoder state is set to value of last hidden layer of the encoder\n",
        "    decoder_input = torch.zeros(1, 1, self.output_size).to(device)\n",
        "    outputs = []\n",
        "\n",
        "    if self.verbose:\n",
        "      print('Decoder state', decoder_state.shape)\n",
        "      print('Decoder input', decoder_input.shape)\n",
        "\n",
        "    # unlike encoder, not going to invoke decoder in a single call, but loop through\n",
        "    for i in range(max_output_chars):\n",
        "\n",
        "      # the next time the decoder state is the hidden layer's output. Note hidden layer has two outputs (diagram). One to right that goes to hidden layer of next cell (timestamp) and the other that is the output of the cell (current character)\n",
        "      out, decoder_state = self.decoder_rnn_cell(decoder_input, decoder_state) # (input i.e. the previous Hindi char, state i.e. the output of the final hidden layer)\n",
        "\n",
        "      if self.verbose:\n",
        "        print('Decoder intermediate output', out.shape)\n",
        "\n",
        "      # Calculate final output of cell (1,1,129) from hidden output (1,1,256). h2o is defined in the init. A fully connected layer that converts 129 to 256\n",
        "      out = self.h2o(decoder_state) # why?? decoder_state is the output to the right.\n",
        "      out = self.softmax(out) # softmax\n",
        "      outputs.append(out.view(1, -1)) # the prediction of the current Hindi character appended to whole output word\n",
        "\n",
        "\n",
        "      \"\"\"\n",
        "      From here, conversion of the output of this layer to a form suitable for next layer\n",
        "      Instead of passing the softmax directly (1,1,129), we create a one hot encoding of it [ also (1,1,129) since that's the decoder input size ], where the highest softmax value is set as the index. And the rest to zero\n",
        "      Why required? Since the initial few times, we'll be sending the ground truth directly (which is in OHE), instead of the predicted output of the previous decoder cell since that leads to better training during the first few epochs till it learns a bit. After that continue training with the actual predicted output of the previous cell.\n",
        "      Allows to switch between ground truth (initially, when previous cell gives wrong prediction, at least make learning of next cell proper, else learns wrong since previous one's was wrong) and output of previous cell\n",
        "      Concept called \"Teacher Forcing\" : Accelerates training\n",
        "      \"\"\"\n",
        "\n",
        "    \n",
        "      if self.verbose:\n",
        "        print('Decoder output', out.shape)\n",
        "        self.verbose = False\n",
        "      \n",
        "      # Finding the argmax, marking that as 1, and the rest as 0\n",
        "      max_idx = torch.argmax(out, 2, keepdim = True)\n",
        "      if not ground_truth is None:\n",
        "        max_idx = ground_truth[i].reshape(1, 1, 1)\n",
        "      one_hot = torch.FloatTensor(out.shape).to(device)\n",
        "      one_hot.zero_()\n",
        "      one_hot.scatter_(2, max_idx, 1)\n",
        "\n",
        "\n",
        "      \"\"\"\n",
        "      PyTorch locks (remembers) every single parameter to backpropagate through, during gradient descent. But sometimes we don't want it to backpropagate through certain chains. E.g. Here output of previous cell goes to input of next timestamp cell. We don't want backpropagation to happen here since becomes too complicated. Only want through hidden layers. Hence detach (don't make note)\n",
        "      Even in the diagram, you can see there's no connection between previous layer's ouptut and next layer's input. Only connection is between hidden states, the only place we want backpropagation to take place\n",
        "      \"\"\"\n",
        "\n",
        "      decoder_input = one_hot.detach()\n",
        "\n",
        "    return outputs"
      ],
      "execution_count": 0,
      "outputs": []
    },
    {
      "cell_type": "code",
      "metadata": {
        "id": "KHxGJbrzsMMX",
        "colab_type": "code",
        "colab": {}
      },
      "source": [
        "# Chosen number of hidden layers of both encoder and decoder to be 256\n",
        "net = Transliteration_EncoderDecoder(len(eng_alpha2index), 256, len(hindi_alpha2index), verbose = True)"
      ],
      "execution_count": 0,
      "outputs": []
    },
    {
      "cell_type": "code",
      "metadata": {
        "id": "OftZusrFxO92",
        "colab_type": "code",
        "colab": {}
      },
      "source": [
        "def infer(network, word, max_chars):\n",
        "  network.eval()\n",
        "  # network = network.__init__(len(eng_alphabets)+1, 256, len(hindi_alphabets)+1)\n",
        "  word = word_rep(word, eng_alpha2index)\n",
        "  print(word)\n",
        "\n",
        "  output = network(word, max_chars)\n",
        "  return output"
      ],
      "execution_count": 0,
      "outputs": []
    },
    {
      "cell_type": "code",
      "metadata": {
        "id": "RGA6QOhesWxK",
        "colab_type": "code",
        "colab": {
          "base_uri": "https://localhost:8080/",
          "height": 463
        },
        "outputId": "2562e6a1-7b34-4b73-a09b-81e4fbfed142"
      },
      "source": [
        "out = infer(net, \"INDIA\", 30)"
      ],
      "execution_count": 51,
      "outputs": [
        {
          "output_type": "stream",
          "text": [
            "tensor([[[0., 0., 0., 0., 0., 0., 0., 0., 0., 1., 0., 0., 0., 0., 0., 0., 0.,\n",
            "          0., 0., 0., 0., 0., 0., 0., 0., 0., 0.]],\n",
            "\n",
            "        [[0., 0., 0., 0., 0., 0., 0., 0., 0., 0., 0., 0., 0., 0., 1., 0., 0.,\n",
            "          0., 0., 0., 0., 0., 0., 0., 0., 0., 0.]],\n",
            "\n",
            "        [[0., 0., 0., 0., 1., 0., 0., 0., 0., 0., 0., 0., 0., 0., 0., 0., 0.,\n",
            "          0., 0., 0., 0., 0., 0., 0., 0., 0., 0.]],\n",
            "\n",
            "        [[0., 0., 0., 0., 0., 0., 0., 0., 0., 1., 0., 0., 0., 0., 0., 0., 0.,\n",
            "          0., 0., 0., 0., 0., 0., 0., 0., 0., 0.]],\n",
            "\n",
            "        [[0., 1., 0., 0., 0., 0., 0., 0., 0., 0., 0., 0., 0., 0., 0., 0., 0.,\n",
            "          0., 0., 0., 0., 0., 0., 0., 0., 0., 0.]],\n",
            "\n",
            "        [[1., 0., 0., 0., 0., 0., 0., 0., 0., 0., 0., 0., 0., 0., 0., 0., 0.,\n",
            "          0., 0., 0., 0., 0., 0., 0., 0., 0., 0.]]])\n",
            "Encoder input torch.Size([6, 1, 27])\n",
            "Encoder ouput torch.Size([6, 1, 256])\n",
            "Encoder hidden torch.Size([1, 1, 256])\n",
            "Decoder state torch.Size([1, 1, 256])\n",
            "Decoder input torch.Size([1, 1, 129])\n",
            "Decoder intermediate output torch.Size([1, 1, 256])\n",
            "Decoder output torch.Size([1, 1, 129])\n"
          ],
          "name": "stdout"
        }
      ]
    },
    {
      "cell_type": "markdown",
      "metadata": {
        "id": "dxQXbCPEiJDU",
        "colab_type": "text"
      },
      "source": [
        "Input to encoder is of size (6,1,27), since OHE of all alphabets of the word fed at once.  \n",
        "Output of encoder is finally of size (6,1,256) too (final output after processing each).  \n",
        "Size of hidden layer of a single encoder cell is of course (1, 1, 256) since actually a cell processes only one word at a time. (Though finally it's 6 words).  \n",
        "Note that hidden layer is overwritten each time, hence finally it contains the parameters of the last processing only.  \n",
        "  \n",
        "Note that input is of size 27, but output is of size 256. So where is all that extra info coming from? It's capturing info about its vicinity. Thus learning about what's before, after, etc.   \n",
        "\n",
        "Remember in encoder, the output is the output of the hidden layer directly. No additional output layer , like softmax etc.\n",
        "\n"
      ]
    },
    {
      "cell_type": "markdown",
      "metadata": {
        "id": "lB1FPN6ij47w",
        "colab_type": "text"
      },
      "source": [
        "Input to decoder (decoder state), is the output of the final hidden layer of the encoder (the last processing).  \n",
        "Input is the output of the previous decoder's timestamp i.e. (1,1,129). 129 chars in Hindi.  \n",
        "Output of hidden (intermediate) layer of decoder is same as that of encoder (1,1,256).  \n",
        "Again, output is just (1,1,129) i.e. a Hindi char produced at each timestamp."
      ]
    },
    {
      "cell_type": "code",
      "metadata": {
        "id": "gPZ78ZhxuQs2",
        "colab_type": "code",
        "colab": {
          "base_uri": "https://localhost:8080/",
          "height": 593
        },
        "outputId": "c91b9b17-ea2a-42f3-eda3-904a79fd227c"
      },
      "source": [
        "print(len(out))\n",
        "for i in range(len(out)):\n",
        "  print(torch.argmax(out[i]))"
      ],
      "execution_count": 59,
      "outputs": [
        {
          "output_type": "stream",
          "text": [
            "30\n",
            "tensor(44, grad_fn=<NotImplemented>)\n",
            "tensor(44, grad_fn=<NotImplemented>)\n",
            "tensor(44, grad_fn=<NotImplemented>)\n",
            "tensor(44, grad_fn=<NotImplemented>)\n",
            "tensor(44, grad_fn=<NotImplemented>)\n",
            "tensor(44, grad_fn=<NotImplemented>)\n",
            "tensor(44, grad_fn=<NotImplemented>)\n",
            "tensor(44, grad_fn=<NotImplemented>)\n",
            "tensor(44, grad_fn=<NotImplemented>)\n",
            "tensor(44, grad_fn=<NotImplemented>)\n",
            "tensor(44, grad_fn=<NotImplemented>)\n",
            "tensor(44, grad_fn=<NotImplemented>)\n",
            "tensor(44, grad_fn=<NotImplemented>)\n",
            "tensor(44, grad_fn=<NotImplemented>)\n",
            "tensor(44, grad_fn=<NotImplemented>)\n",
            "tensor(44, grad_fn=<NotImplemented>)\n",
            "tensor(44, grad_fn=<NotImplemented>)\n",
            "tensor(44, grad_fn=<NotImplemented>)\n",
            "tensor(44, grad_fn=<NotImplemented>)\n",
            "tensor(44, grad_fn=<NotImplemented>)\n",
            "tensor(44, grad_fn=<NotImplemented>)\n",
            "tensor(44, grad_fn=<NotImplemented>)\n",
            "tensor(44, grad_fn=<NotImplemented>)\n",
            "tensor(44, grad_fn=<NotImplemented>)\n",
            "tensor(44, grad_fn=<NotImplemented>)\n",
            "tensor(44, grad_fn=<NotImplemented>)\n",
            "tensor(44, grad_fn=<NotImplemented>)\n",
            "tensor(44, grad_fn=<NotImplemented>)\n",
            "tensor(44, grad_fn=<NotImplemented>)\n",
            "tensor(44, grad_fn=<NotImplemented>)\n"
          ],
          "name": "stdout"
        }
      ]
    },
    {
      "cell_type": "code",
      "metadata": {
        "id": "W9eVQhK4ulK4",
        "colab_type": "code",
        "colab": {}
      },
      "source": [
        "list(hindi_alpha2index.values())"
      ],
      "execution_count": 0,
      "outputs": []
    },
    {
      "cell_type": "code",
      "metadata": {
        "id": "pWujdA1fuNhK",
        "colab_type": "code",
        "colab": {
          "base_uri": "https://localhost:8080/",
          "height": 593
        },
        "outputId": "772e3933-ce0c-4ac0-e7f6-d608eddc5a56"
      },
      "source": [
        "print(len(out))\n",
        "for i in range(len(out)):\n",
        "  print([list(hindi_alpha2index.values()).index(torch.argmax(out[i]))])"
      ],
      "execution_count": 58,
      "outputs": [
        {
          "output_type": "stream",
          "text": [
            "30\n",
            "[44]\n",
            "[44]\n",
            "[44]\n",
            "[44]\n",
            "[44]\n",
            "[44]\n",
            "[44]\n",
            "[44]\n",
            "[44]\n",
            "[44]\n",
            "[44]\n",
            "[44]\n",
            "[44]\n",
            "[44]\n",
            "[44]\n",
            "[44]\n",
            "[44]\n",
            "[44]\n",
            "[44]\n",
            "[44]\n",
            "[44]\n",
            "[44]\n",
            "[44]\n",
            "[44]\n",
            "[44]\n",
            "[44]\n",
            "[44]\n",
            "[44]\n",
            "[44]\n",
            "[44]\n"
          ],
          "name": "stdout"
        }
      ]
    },
    {
      "cell_type": "code",
      "metadata": {
        "id": "APHsTSJP0qnh",
        "colab_type": "code",
        "colab": {
          "base_uri": "https://localhost:8080/",
          "height": 593
        },
        "outputId": "34899494-3655-4a6a-ecec-1f7a44f1746e"
      },
      "source": [
        "print(len(out))\n",
        "for i in range(len(out)):\n",
        "  # basically indexing a list . The first \"list\" is the list to be indexed. The second \"list\" contains the index inside []\n",
        "  print(list(hindi_alpha2index.keys())[list(hindi_alpha2index.values()).index(torch.argmax(out[i]))])"
      ],
      "execution_count": 57,
      "outputs": [
        {
          "output_type": "stream",
          "text": [
            "30\n",
            "फ\n",
            "फ\n",
            "फ\n",
            "फ\n",
            "फ\n",
            "फ\n",
            "फ\n",
            "फ\n",
            "फ\n",
            "फ\n",
            "फ\n",
            "फ\n",
            "फ\n",
            "फ\n",
            "फ\n",
            "फ\n",
            "फ\n",
            "फ\n",
            "फ\n",
            "फ\n",
            "फ\n",
            "फ\n",
            "फ\n",
            "फ\n",
            "फ\n",
            "फ\n",
            "फ\n",
            "फ\n",
            "फ\n",
            "फ\n"
          ],
          "name": "stdout"
        }
      ]
    },
    {
      "cell_type": "code",
      "metadata": {
        "id": "ZfQVzW9XshhB",
        "colab_type": "code",
        "colab": {
          "base_uri": "https://localhost:8080/",
          "height": 593
        },
        "outputId": "c395292c-4bea-4af2-a566-991875eb721e"
      },
      "source": [
        "print(len(out))\n",
        "for i in range(len(out)):\n",
        "  print(out[i].shape, list(hindi_alpha2index.keys())[list(hindi_alpha2index.values()).index(torch.argmax(out[i]))])"
      ],
      "execution_count": 61,
      "outputs": [
        {
          "output_type": "stream",
          "text": [
            "30\n",
            "torch.Size([1, 129]) फ\n",
            "torch.Size([1, 129]) फ\n",
            "torch.Size([1, 129]) फ\n",
            "torch.Size([1, 129]) फ\n",
            "torch.Size([1, 129]) फ\n",
            "torch.Size([1, 129]) फ\n",
            "torch.Size([1, 129]) फ\n",
            "torch.Size([1, 129]) फ\n",
            "torch.Size([1, 129]) फ\n",
            "torch.Size([1, 129]) फ\n",
            "torch.Size([1, 129]) फ\n",
            "torch.Size([1, 129]) फ\n",
            "torch.Size([1, 129]) फ\n",
            "torch.Size([1, 129]) फ\n",
            "torch.Size([1, 129]) फ\n",
            "torch.Size([1, 129]) फ\n",
            "torch.Size([1, 129]) फ\n",
            "torch.Size([1, 129]) फ\n",
            "torch.Size([1, 129]) फ\n",
            "torch.Size([1, 129]) फ\n",
            "torch.Size([1, 129]) फ\n",
            "torch.Size([1, 129]) फ\n",
            "torch.Size([1, 129]) फ\n",
            "torch.Size([1, 129]) फ\n",
            "torch.Size([1, 129]) फ\n",
            "torch.Size([1, 129]) फ\n",
            "torch.Size([1, 129]) फ\n",
            "torch.Size([1, 129]) फ\n",
            "torch.Size([1, 129]) फ\n",
            "torch.Size([1, 129]) फ\n"
          ],
          "name": "stdout"
        }
      ]
    },
    {
      "cell_type": "markdown",
      "metadata": {
        "id": "6OdgFCFKvACD",
        "colab_type": "text"
      },
      "source": [
        "Completely senseless."
      ]
    },
    {
      "cell_type": "code",
      "metadata": {
        "id": "w9s6y4gIu_Fc",
        "colab_type": "code",
        "colab": {}
      },
      "source": [
        ""
      ],
      "execution_count": 0,
      "outputs": []
    }
  ]
}