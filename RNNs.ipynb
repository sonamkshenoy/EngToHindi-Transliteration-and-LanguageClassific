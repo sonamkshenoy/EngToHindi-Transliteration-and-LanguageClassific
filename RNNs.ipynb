{
  "nbformat": 4,
  "nbformat_minor": 0,
  "metadata": {
    "colab": {
      "name": "RNNs.ipynb",
      "provenance": [],
      "collapsed_sections": [],
      "authorship_tag": "ABX9TyOtx6NFL+LkpoYXEocfq37g"
    },
    "kernelspec": {
      "name": "python3",
      "display_name": "Python 3"
    }
  },
  "cells": [
    {
      "cell_type": "code",
      "metadata": {
        "id": "JseoduTJFYcx",
        "colab_type": "code",
        "outputId": "d51f58f6-8e10-4b96-8eb3-255082c7890c",
        "colab": {
          "base_uri": "https://localhost:8080/",
          "height": 73
        }
      },
      "source": [
        "from io import open\n",
        "import os, string, random, time, math\n",
        "import matplotlib.pyplot as plt\n",
        "import seaborn as sns\n",
        "import numpy as np"
      ],
      "execution_count": 1,
      "outputs": [
        {
          "output_type": "stream",
          "text": [
            "/usr/local/lib/python3.6/dist-packages/statsmodels/tools/_testing.py:19: FutureWarning: pandas.util.testing is deprecated. Use the functions in the public API at pandas.testing instead.\n",
            "  import pandas.util.testing as tm\n"
          ],
          "name": "stderr"
        }
      ]
    },
    {
      "cell_type": "code",
      "metadata": {
        "id": "gX5B2pjlFzEf",
        "colab_type": "code",
        "colab": {}
      },
      "source": [
        "from sklearn.model_selection import train_test_split"
      ],
      "execution_count": 0,
      "outputs": []
    },
    {
      "cell_type": "code",
      "metadata": {
        "id": "xHysBclRF27-",
        "colab_type": "code",
        "colab": {}
      },
      "source": [
        "import torch\n",
        "import torch.nn as nn\n",
        "import torch.optim as optim"
      ],
      "execution_count": 0,
      "outputs": []
    },
    {
      "cell_type": "code",
      "metadata": {
        "id": "As0Y_XQPF9aV",
        "colab_type": "code",
        "colab": {}
      },
      "source": [
        "from IPython.display import clear_output # clears output of cell, say to show multiple plots but show only most recent one"
      ],
      "execution_count": 0,
      "outputs": []
    },
    {
      "cell_type": "markdown",
      "metadata": {
        "id": "MOJxIp9CGfPo",
        "colab_type": "text"
      },
      "source": [
        "# Dataset"
      ]
    },
    {
      "cell_type": "markdown",
      "metadata": {
        "id": "suHpYDj-Gl0s",
        "colab_type": "text"
      },
      "source": [
        "Task: To predict nationality a name (varying length) belongs to.  \n",
        "Therefore, sequence model since sequence of characters, have to encode each character and predict one class (usual softmax) \n",
        "\n",
        "  \n",
        "\n",
        "---\n",
        "\n",
        "  \n",
        "Sequence Tasks:  \n",
        "Sequence to Class (input is sequence, output is just one class) - what we are doing currently   \n",
        "Sequence to Sequence Type 1 (input is sequence, output is sequence where there is an output corresponding to each item in the input e.g. POS)  \n",
        "Sequence to Class (input is sequence, output is sequence, but there is not one output for each word, but be more or less e.g. transliteration - converting english word to hindi)"
      ]
    },
    {
      "cell_type": "code",
      "metadata": {
        "id": "rJYssHQlGf8H",
        "colab_type": "code",
        "colab": {}
      },
      "source": [
        ""
      ],
      "execution_count": 0,
      "outputs": []
    },
    {
      "cell_type": "code",
      "metadata": {
        "id": "Iwi82u7QICNW",
        "colab_type": "code",
        "colab": {}
      },
      "source": [
        "languages = []\n",
        "data = []\n",
        "X = []\n",
        "y = []\n",
        "\n",
        "with open('name2lang.txt','r') as f:\n",
        "  for line in f:\n",
        "    line = line.split(',')\n",
        "    name = line[0].strip()\n",
        "    lang = line[1].strip()\n",
        "    if not lang in languages:\n",
        "      languages.append(lang)\n",
        "    X.append(name)\n",
        "    y.append(lang)\n",
        "    data.append((name, lang))"
      ],
      "execution_count": 0,
      "outputs": []
    },
    {
      "cell_type": "code",
      "metadata": {
        "id": "QIyM_zA-JQuL",
        "colab_type": "code",
        "outputId": "96415088-160c-4020-bf7d-46582d539061",
        "colab": {
          "base_uri": "https://localhost:8080/",
          "height": 35
        }
      },
      "source": [
        "n_languages = len(languages)\n",
        "print(n_languages)"
      ],
      "execution_count": 7,
      "outputs": [
        {
          "output_type": "stream",
          "text": [
            "18\n"
          ],
          "name": "stdout"
        }
      ]
    },
    {
      "cell_type": "markdown",
      "metadata": {
        "id": "yZnqf841JYn_",
        "colab_type": "text"
      },
      "source": [
        "There are 18 languages in this dataset."
      ]
    },
    {
      "cell_type": "code",
      "metadata": {
        "id": "Ba1oJ1DQJwD7",
        "colab_type": "code",
        "outputId": "e7c893e7-5a3b-4626-c6da-74df997bc923",
        "colab": {
          "base_uri": "https://localhost:8080/",
          "height": 55
        }
      },
      "source": [
        "print(languages)"
      ],
      "execution_count": 8,
      "outputs": [
        {
          "output_type": "stream",
          "text": [
            "['Portuguese', 'Irish', 'Spanish', 'Vietnamese', 'Chinese', 'Greek', 'Czech', 'Dutch', 'Japanese', 'French', 'German', 'Scottish', 'English', 'Russian', 'Polish', 'Arabic', 'Korean', 'Italian']\n"
          ],
          "name": "stdout"
        }
      ]
    },
    {
      "cell_type": "code",
      "metadata": {
        "id": "hjRUUc78JW6Q",
        "colab_type": "code",
        "outputId": "64ecf15b-aac2-4500-d0ba-454549132e45",
        "colab": {
          "base_uri": "https://localhost:8080/",
          "height": 55
        }
      },
      "source": [
        "print(data[0:10])"
      ],
      "execution_count": 9,
      "outputs": [
        {
          "output_type": "stream",
          "text": [
            "[('Abreu', 'Portuguese'), ('Albuquerque', 'Portuguese'), ('Almeida', 'Portuguese'), ('Alves', 'Portuguese'), ('Araujo', 'Portuguese'), ('Araullo', 'Portuguese'), ('Barros', 'Portuguese'), ('Basurto', 'Portuguese'), ('Belo', 'Portuguese'), ('Cabral', 'Portuguese')]\n"
          ],
          "name": "stdout"
        }
      ]
    },
    {
      "cell_type": "code",
      "metadata": {
        "id": "moN5zPJ-JiSf",
        "colab_type": "code",
        "colab": {}
      },
      "source": [
        ""
      ],
      "execution_count": 0,
      "outputs": []
    },
    {
      "cell_type": "markdown",
      "metadata": {
        "id": "VIZZk9K3J30c",
        "colab_type": "text"
      },
      "source": [
        "# Train-test split"
      ]
    },
    {
      "cell_type": "code",
      "metadata": {
        "id": "HL7IevTbJ4Nt",
        "colab_type": "code",
        "colab": {}
      },
      "source": [
        "X_train, X_test, y_train, y_test = train_test_split(X, y, test_size = 0.2, random_state = 61, stratify = y)"
      ],
      "execution_count": 0,
      "outputs": []
    },
    {
      "cell_type": "markdown",
      "metadata": {
        "id": "S_PdNkrFK1ac",
        "colab_type": "text"
      },
      "source": [
        "(Both X and y should have the same dimensions)"
      ]
    },
    {
      "cell_type": "code",
      "metadata": {
        "id": "hNLNGqZnKSne",
        "colab_type": "code",
        "outputId": "2bae836f-fbd8-4356-bd44-adb27a19e386",
        "colab": {
          "base_uri": "https://localhost:8080/",
          "height": 55
        }
      },
      "source": [
        "print(X_train[:20])"
      ],
      "execution_count": 11,
      "outputs": [
        {
          "output_type": "stream",
          "text": [
            "['Kaufman', 'Chandler', 'Agar', 'Essa', 'Makhagonov', 'Prokudin', 'Porus', 'Lowry', 'Nezvigin', 'Cove', 'Peach', 'Newlands', 'Bajov', 'Chukhnovsky', 'Naser', 'Gaspirovich', 'Vykhodtsev', 'Chuvilkin', 'Maksimchuk', 'Dandy']\n"
          ],
          "name": "stdout"
        }
      ]
    },
    {
      "cell_type": "code",
      "metadata": {
        "id": "BaisbKIhLBXY",
        "colab_type": "code",
        "outputId": "24a30096-aade-43e8-9982-f2de15c2a1a5",
        "colab": {
          "base_uri": "https://localhost:8080/",
          "height": 35
        }
      },
      "source": [
        "print(len(X_train), len(X_test))"
      ],
      "execution_count": 12,
      "outputs": [
        {
          "output_type": "stream",
          "text": [
            "16040 4010\n"
          ],
          "name": "stdout"
        }
      ]
    },
    {
      "cell_type": "code",
      "metadata": {
        "id": "CXYqNsBxLFRn",
        "colab_type": "code",
        "colab": {}
      },
      "source": [
        ""
      ],
      "execution_count": 0,
      "outputs": []
    },
    {
      "cell_type": "markdown",
      "metadata": {
        "id": "tBn7lQ90LMiJ",
        "colab_type": "text"
      },
      "source": [
        "# Encoding names and languages"
      ]
    },
    {
      "cell_type": "markdown",
      "metadata": {
        "id": "jad2LUTILVh0",
        "colab_type": "text"
      },
      "source": [
        "Since output is a class, can use one hot encoding easily.  \n",
        "But input is a sequence, so have to encode each character."
      ]
    },
    {
      "cell_type": "code",
      "metadata": {
        "id": "xRYjpnk5LOnl",
        "colab_type": "code",
        "colab": {}
      },
      "source": [
        "# list of all characters possible in a name\n",
        "all_letters = string.ascii_letters + \" .,;\"\n",
        "n_letters = len(all_letters)"
      ],
      "execution_count": 0,
      "outputs": []
    },
    {
      "cell_type": "markdown",
      "metadata": {
        "id": "Bx61BiXULyBU",
        "colab_type": "text"
      },
      "source": [
        "Encode the name"
      ]
    },
    {
      "cell_type": "code",
      "metadata": {
        "id": "o3DE9m7GLrBu",
        "colab_type": "code",
        "colab": {}
      },
      "source": [
        "# Let encoding be one hot encoding for each character, where the hot bit is the index of the char in the above string of all letters\n",
        "def name_rep(name):\n",
        "  rep = torch.zeros(len(name), 1, n_letters)\n",
        "  for index, letter in enumerate(name):\n",
        "    pos = all_letters.find(letter)\n",
        "    rep[index][0][pos] = 1\n",
        "  return rep"
      ],
      "execution_count": 0,
      "outputs": []
    },
    {
      "cell_type": "markdown",
      "metadata": {
        "id": "XbUw7ngUMt_Z",
        "colab_type": "text"
      },
      "source": [
        "Encode the language"
      ]
    },
    {
      "cell_type": "code",
      "metadata": {
        "id": "IXRpPvQfMV1E",
        "colab_type": "code",
        "colab": {}
      },
      "source": [
        "# Don't require one hot encoding, just label sufficient\n",
        "def lang_rep(lang):\n",
        "  return torch.tensor([languages.index(lang)], dtype = torch.long)"
      ],
      "execution_count": 0,
      "outputs": []
    },
    {
      "cell_type": "code",
      "metadata": {
        "id": "uOnKrgj3M_cW",
        "colab_type": "code",
        "outputId": "9ec11bef-f699-477f-9424-9b51e9db2dca",
        "colab": {
          "base_uri": "https://localhost:8080/",
          "height": 655
        }
      },
      "source": [
        "name_rep('Almeida')"
      ],
      "execution_count": 16,
      "outputs": [
        {
          "output_type": "execute_result",
          "data": {
            "text/plain": [
              "tensor([[[0., 0., 0., 0., 0., 0., 0., 0., 0., 0., 0., 0., 0., 0., 0., 0., 0.,\n",
              "          0., 0., 0., 0., 0., 0., 0., 0., 0., 1., 0., 0., 0., 0., 0., 0., 0.,\n",
              "          0., 0., 0., 0., 0., 0., 0., 0., 0., 0., 0., 0., 0., 0., 0., 0., 0.,\n",
              "          0., 0., 0., 0., 0.]],\n",
              "\n",
              "        [[0., 0., 0., 0., 0., 0., 0., 0., 0., 0., 0., 1., 0., 0., 0., 0., 0.,\n",
              "          0., 0., 0., 0., 0., 0., 0., 0., 0., 0., 0., 0., 0., 0., 0., 0., 0.,\n",
              "          0., 0., 0., 0., 0., 0., 0., 0., 0., 0., 0., 0., 0., 0., 0., 0., 0.,\n",
              "          0., 0., 0., 0., 0.]],\n",
              "\n",
              "        [[0., 0., 0., 0., 0., 0., 0., 0., 0., 0., 0., 0., 1., 0., 0., 0., 0.,\n",
              "          0., 0., 0., 0., 0., 0., 0., 0., 0., 0., 0., 0., 0., 0., 0., 0., 0.,\n",
              "          0., 0., 0., 0., 0., 0., 0., 0., 0., 0., 0., 0., 0., 0., 0., 0., 0.,\n",
              "          0., 0., 0., 0., 0.]],\n",
              "\n",
              "        [[0., 0., 0., 0., 1., 0., 0., 0., 0., 0., 0., 0., 0., 0., 0., 0., 0.,\n",
              "          0., 0., 0., 0., 0., 0., 0., 0., 0., 0., 0., 0., 0., 0., 0., 0., 0.,\n",
              "          0., 0., 0., 0., 0., 0., 0., 0., 0., 0., 0., 0., 0., 0., 0., 0., 0.,\n",
              "          0., 0., 0., 0., 0.]],\n",
              "\n",
              "        [[0., 0., 0., 0., 0., 0., 0., 0., 1., 0., 0., 0., 0., 0., 0., 0., 0.,\n",
              "          0., 0., 0., 0., 0., 0., 0., 0., 0., 0., 0., 0., 0., 0., 0., 0., 0.,\n",
              "          0., 0., 0., 0., 0., 0., 0., 0., 0., 0., 0., 0., 0., 0., 0., 0., 0.,\n",
              "          0., 0., 0., 0., 0.]],\n",
              "\n",
              "        [[0., 0., 0., 1., 0., 0., 0., 0., 0., 0., 0., 0., 0., 0., 0., 0., 0.,\n",
              "          0., 0., 0., 0., 0., 0., 0., 0., 0., 0., 0., 0., 0., 0., 0., 0., 0.,\n",
              "          0., 0., 0., 0., 0., 0., 0., 0., 0., 0., 0., 0., 0., 0., 0., 0., 0.,\n",
              "          0., 0., 0., 0., 0.]],\n",
              "\n",
              "        [[1., 0., 0., 0., 0., 0., 0., 0., 0., 0., 0., 0., 0., 0., 0., 0., 0.,\n",
              "          0., 0., 0., 0., 0., 0., 0., 0., 0., 0., 0., 0., 0., 0., 0., 0., 0.,\n",
              "          0., 0., 0., 0., 0., 0., 0., 0., 0., 0., 0., 0., 0., 0., 0., 0., 0.,\n",
              "          0., 0., 0., 0., 0.]]])"
            ]
          },
          "metadata": {
            "tags": []
          },
          "execution_count": 16
        }
      ]
    },
    {
      "cell_type": "markdown",
      "metadata": {
        "id": "vaYe84s3NaHG",
        "colab_type": "text"
      },
      "source": [
        "7 letters in name, so 7 vectors"
      ]
    },
    {
      "cell_type": "code",
      "metadata": {
        "id": "lUMWrn8GNEtq",
        "colab_type": "code",
        "outputId": "f70946fb-ab73-4598-a45e-89dc57886d51",
        "colab": {
          "base_uri": "https://localhost:8080/",
          "height": 35
        }
      },
      "source": [
        "lang_rep('Dutch')"
      ],
      "execution_count": 17,
      "outputs": [
        {
          "output_type": "execute_result",
          "data": {
            "text/plain": [
              "tensor([7])"
            ]
          },
          "metadata": {
            "tags": []
          },
          "execution_count": 17
        }
      ]
    },
    {
      "cell_type": "markdown",
      "metadata": {
        "id": "RIVBLiX0Ni2Q",
        "colab_type": "text"
      },
      "source": [
        "Label of Dutch in languages array"
      ]
    },
    {
      "cell_type": "code",
      "metadata": {
        "id": "sLnwCHSSNRQ5",
        "colab_type": "code",
        "colab": {}
      },
      "source": [
        ""
      ],
      "execution_count": 0,
      "outputs": []
    },
    {
      "cell_type": "markdown",
      "metadata": {
        "id": "yCqYCaSdNrkg",
        "colab_type": "text"
      },
      "source": [
        "# Basic Visualisation"
      ]
    },
    {
      "cell_type": "markdown",
      "metadata": {
        "id": "jKEVu3G4Nzo9",
        "colab_type": "text"
      },
      "source": [
        "Distribution of languages in our dataset"
      ]
    },
    {
      "cell_type": "code",
      "metadata": {
        "id": "gVLJnDUrNs9b",
        "colab_type": "code",
        "colab": {}
      },
      "source": [
        "count = {}\n",
        "\n",
        "for l in languages:\n",
        "  count[l] = 0\n",
        "for d in data:\n",
        "  count[d[1]] += 1"
      ],
      "execution_count": 0,
      "outputs": []
    },
    {
      "cell_type": "code",
      "metadata": {
        "id": "VRJA48r3N_oo",
        "colab_type": "code",
        "outputId": "139e808b-978c-4fc9-a3f6-c8caad341284",
        "colab": {
          "base_uri": "https://localhost:8080/",
          "height": 55
        }
      },
      "source": [
        "print(count)"
      ],
      "execution_count": 19,
      "outputs": [
        {
          "output_type": "stream",
          "text": [
            "{'Portuguese': 74, 'Irish': 232, 'Spanish': 298, 'Vietnamese': 73, 'Chinese': 268, 'Greek': 203, 'Czech': 519, 'Dutch': 297, 'Japanese': 991, 'French': 277, 'German': 724, 'Scottish': 100, 'English': 3668, 'Russian': 9384, 'Polish': 139, 'Arabic': 2000, 'Korean': 94, 'Italian': 709}\n"
          ],
          "name": "stdout"
        }
      ]
    },
    {
      "cell_type": "markdown",
      "metadata": {
        "id": "NkSI0f0COErW",
        "colab_type": "text"
      },
      "source": [
        "Highly non-uniform"
      ]
    },
    {
      "cell_type": "code",
      "metadata": {
        "id": "p-uNbA3HOAfC",
        "colab_type": "code",
        "outputId": "34d06bf2-fdb0-4526-c66f-483187be3880",
        "colab": {
          "base_uri": "https://localhost:8080/",
          "height": 314
        }
      },
      "source": [
        "plt_ = sns.barplot(list(count.keys()), list(count.values()))\n",
        "plt_.set_xticklabels(plt_.get_xticklabels(), rotation = 90)\n",
        "plt.show()"
      ],
      "execution_count": 20,
      "outputs": [
        {
          "output_type": "display_data",
          "data": {
            "image/png": "[encoded data removed]",
            "text/plain": [
              "<Figure size 432x288 with 1 Axes>"
            ]
          },
          "metadata": {
            "tags": [],
            "needs_background": "light"
          }
        }
      ]
    },
    {
      "cell_type": "markdown",
      "metadata": {
        "id": "HDtdhBFxOxMx",
        "colab_type": "text"
      },
      "source": [
        "Model might learn Russian names too well and predict them well since lots of data, but less training on the rest.  \n",
        "Hence, have to see not the overall accuracy, but accuracy for each language."
      ]
    },
    {
      "cell_type": "markdown",
      "metadata": {
        "id": "PEvPNdeFPK6Q",
        "colab_type": "text"
      },
      "source": [
        "Therefore, baseline is not to pick names from each language equally, but pick according to the distribution, more for Russian."
      ]
    },
    {
      "cell_type": "markdown",
      "metadata": {
        "id": "n4wZ2VSPPZwb",
        "colab_type": "text"
      },
      "source": [
        "Thus, baseline testing is easy, but training isn't"
      ]
    },
    {
      "cell_type": "code",
      "metadata": {
        "id": "58IbURhoOa1z",
        "colab_type": "code",
        "colab": {}
      },
      "source": [
        ""
      ],
      "execution_count": 0,
      "outputs": []
    },
    {
      "cell_type": "markdown",
      "metadata": {
        "id": "IF2otzAwPVfh",
        "colab_type": "text"
      },
      "source": [
        "# Basic network and testing inference"
      ]
    },
    {
      "cell_type": "code",
      "metadata": {
        "id": "lJDvL-wkPYoy",
        "colab_type": "code",
        "colab": {}
      },
      "source": [
        "class RNN_net(nn.Module):\n",
        "  # just setting up layers, not computing anything\n",
        "  # input_size : size of encoding of one character in the input (i.e. number of letters, here)\n",
        "  # hidden_size : the hidden layer though looks like one (for a single unit of the RNN) can be any number of layers\n",
        "  # output_size : the number of labels (number of languages, here)\n",
        "  def __init__(self, input_size, hidden_size, output_size):\n",
        "    super(RNN_net, self).__init__() # parent's (NN's) init\n",
        "    self.hidden_size = hidden_size\n",
        "\n",
        "    # both below are Linear (fully connected)\n",
        "    # just mention input size and output size. Weights, biases etc taken care of by library (encapsulated)\n",
        "\n",
        "    # i2h is the intersection of the previous character's output and current input character, hence concatenation of hidden size (previous input size - coming out of hidden layer) and input size (current input size). Output should of course be hidden size again\n",
        "    self.i2h = nn.Linear(input_size + hidden_size, hidden_size) # \"concatenation (i.e. both preserved)\", not addition (corresponding elements added), of input and hidden of previous\n",
        "    \n",
        "    # i2o is the intersection of the h and the output o. (the final output layer part). Input is the computed h (hidden_size) and the current input (input_size)\n",
        "    self.i2o = nn.Linear(input_size + hidden_size, output_size)\n",
        "\n",
        "    # Note only 1 layer used for both above transformations, but can have more\n",
        "    \n",
        "    # Final output\n",
        "    self.softmax = nn.LogSoftmax(dim = 1)\n",
        "\n",
        "\n",
        "  # where layers are put to use\n",
        "  def forward(self, input_, hidden):\n",
        "    combined = torch.cat((input_, hidden), 1) # concatenate hidden and input in right direction (1, here. 1 means column always in a 2D vector, and usually \"along\". So concatenate - NOT ADDS - along row. Next to each other)\n",
        "    hidden = self.i2h(combined) # comput hidden value\n",
        "    output = self.i2o(combined) # compute output\n",
        "    output = self.softmax(output) # compute softmax\n",
        "    return output, hidden # return both output and hidden\n",
        "\n",
        "  # the first time (beginning of sequence) the hidden vector is not present, so call this function the first time\n",
        "  def init_hidden(self):\n",
        "    return torch.zeros(1, self.hidden_size) # Randomly initialised to 1, can use something else too"
      ],
      "execution_count": 0,
      "outputs": []
    },
    {
      "cell_type": "markdown",
      "metadata": {
        "id": "67vAe0Kblyty",
        "colab_type": "text"
      },
      "source": [
        "Now, instantiate model (hyperparameters)"
      ]
    },
    {
      "cell_type": "code",
      "metadata": {
        "id": "bkXTHyqYlyWy",
        "colab_type": "code",
        "colab": {}
      },
      "source": [
        "# number of hidden layers\n",
        "n_hidden = 128 # compromise between overfitting and having less data"
      ],
      "execution_count": 0,
      "outputs": []
    },
    {
      "cell_type": "code",
      "metadata": {
        "id": "K57M2vKNTrrx",
        "colab_type": "code",
        "colab": {}
      },
      "source": [
        "net = RNN_net(n_letters, n_hidden, n_languages)"
      ],
      "execution_count": 0,
      "outputs": []
    },
    {
      "cell_type": "markdown",
      "metadata": {
        "id": "vm_XnQfvnFQE",
        "colab_type": "text"
      },
      "source": [
        "Now, unlike CNNs, infer before testing."
      ]
    },
    {
      "cell_type": "code",
      "metadata": {
        "id": "5-Xp-lKKmiRI",
        "colab_type": "code",
        "colab": {}
      },
      "source": [
        "def infer(net, name):\n",
        "  net.eval() # put network in eval mode during inference (not train mode)\n",
        "  name_ohe = name_rep(name) # one hot encoding\n",
        "  hidden = net.init_hidden() # initialise hidden vector for first instance of RNN, using encapsulated function\n",
        "\n",
        "  # name_ohe size = (n_letters, 1, sizeofword)\n",
        "  # here, iterating through each character. For each character in OHE, invoking forward (\"net\")\n",
        "  for i in range(name_ohe.size()[0]):\n",
        "\n",
        "    # name_ohe[i] = a vector of first character of OHE of all letters in the word (since RNN always expects a vector - 1 dimension)\n",
        "    # note the instantiated hidden layer is used only once. Thereafter, the new computed hidden used each time\n",
        "    # \"output\" for each iteration is the output of FFNN of one RNN unit, for that iteration (thus, overwritten each time). Hence at end of word, \"output\" contains the output of the final unit of the RNN (answer)\n",
        "    \n",
        "    output, hidden = net(name_ohe[i], hidden)\n",
        "\n",
        "  return output"
      ],
      "execution_count": 0,
      "outputs": []
    },
    {
      "cell_type": "markdown",
      "metadata": {
        "id": "3K4ORDtlqp8_",
        "colab_type": "text"
      },
      "source": [
        "While inferring, an optimisation could be done, by removing softmax layer in the \"forward\" function of the model, since argmax will remain same before and after an argmax. It's only a computationally heavy operation."
      ]
    },
    {
      "cell_type": "code",
      "metadata": {
        "id": "uDUp1n1NpwRy",
        "colab_type": "code",
        "outputId": "5b4b5aec-1bb1-4206-d44c-76ee34a25479",
        "colab": {
          "base_uri": "https://localhost:8080/",
          "height": 128
        }
      },
      "source": [
        "output = infer(net, X_train[0])\n",
        "\n",
        "print(X_train[0])\n",
        "\n",
        "# Softmax returned so argmax\n",
        "index = torch.argmax(output)\n",
        "print(output)\n",
        "print(index)"
      ],
      "execution_count": 25,
      "outputs": [
        {
          "output_type": "stream",
          "text": [
            "Kaufman\n",
            "tensor([[-2.9999, -2.8400, -2.9612, -2.8802, -2.7719, -2.9317, -2.8997, -2.8149,\n",
            "         -2.9730, -2.9554, -2.8533, -2.9337, -2.9000, -2.7735, -2.9039, -2.8335,\n",
            "         -2.9503, -2.8889]], grad_fn=<LogSoftmaxBackward>)\n",
            "tensor(4, grad_fn=<NotImplemented>)\n"
          ],
          "name": "stdout"
        }
      ]
    },
    {
      "cell_type": "markdown",
      "metadata": {
        "id": "yjYbVE7PrAVX",
        "colab_type": "text"
      },
      "source": [
        "Says Kaufman belongs to nationality of index 4.  \n",
        "Note: without training, outputs if all classes are roughly same - doesn't know how to differentiate yet."
      ]
    },
    {
      "cell_type": "code",
      "metadata": {
        "id": "rPiNVfDJqGmW",
        "colab_type": "code",
        "colab": {}
      },
      "source": [
        ""
      ],
      "execution_count": 0,
      "outputs": []
    },
    {
      "cell_type": "markdown",
      "metadata": {
        "id": "P539BqXQrgPH",
        "colab_type": "text"
      },
      "source": [
        "# Evaluate model"
      ]
    },
    {
      "cell_type": "code",
      "metadata": {
        "id": "iLd5PlQhrhD8",
        "colab_type": "code",
        "colab": {}
      },
      "source": [
        "# just to generate random inputs from the dataset since in the data, languages are present in an ordered manner\n",
        "def dataloader(npoints, X_, y_):\n",
        "  to_ret = []\n",
        "  for i in range(npoints):\n",
        "    index_ = np.random.randint(len(X_))\n",
        "    name, lang = X_[index_], y_[index_]\n",
        "    to_ret.append((name, lang, name_rep(name), lang_rep(lang))) # append() takes exactly one argument so append as tuple\n",
        "  return to_ret"
      ],
      "execution_count": 0,
      "outputs": []
    },
    {
      "cell_type": "code",
      "metadata": {
        "id": "q6zWhSohuEAe",
        "colab_type": "code",
        "outputId": "27095de9-55f6-41eb-e147-98abd19fd765",
        "colab": {
          "base_uri": "https://localhost:8080/",
          "height": 1000
        }
      },
      "source": [
        "dataloader(2, X_train, y_train)"
      ],
      "execution_count": 27,
      "outputs": [
        {
          "output_type": "execute_result",
          "data": {
            "text/plain": [
              "[('Tchekhonin',\n",
              "  'Russian',\n",
              "  tensor([[[0., 0., 0., 0., 0., 0., 0., 0., 0., 0., 0., 0., 0., 0., 0., 0., 0.,\n",
              "            0., 0., 0., 0., 0., 0., 0., 0., 0., 0., 0., 0., 0., 0., 0., 0., 0.,\n",
              "            0., 0., 0., 0., 0., 0., 0., 0., 0., 0., 0., 1., 0., 0., 0., 0., 0.,\n",
              "            0., 0., 0., 0., 0.]],\n",
              "  \n",
              "          [[0., 0., 1., 0., 0., 0., 0., 0., 0., 0., 0., 0., 0., 0., 0., 0., 0.,\n",
              "            0., 0., 0., 0., 0., 0., 0., 0., 0., 0., 0., 0., 0., 0., 0., 0., 0.,\n",
              "            0., 0., 0., 0., 0., 0., 0., 0., 0., 0., 0., 0., 0., 0., 0., 0., 0.,\n",
              "            0., 0., 0., 0., 0.]],\n",
              "  \n",
              "          [[0., 0., 0., 0., 0., 0., 0., 1., 0., 0., 0., 0., 0., 0., 0., 0., 0.,\n",
              "            0., 0., 0., 0., 0., 0., 0., 0., 0., 0., 0., 0., 0., 0., 0., 0., 0.,\n",
              "            0., 0., 0., 0., 0., 0., 0., 0., 0., 0., 0., 0., 0., 0., 0., 0., 0.,\n",
              "            0., 0., 0., 0., 0.]],\n",
              "  \n",
              "          [[0., 0., 0., 0., 1., 0., 0., 0., 0., 0., 0., 0., 0., 0., 0., 0., 0.,\n",
              "            0., 0., 0., 0., 0., 0., 0., 0., 0., 0., 0., 0., 0., 0., 0., 0., 0.,\n",
              "            0., 0., 0., 0., 0., 0., 0., 0., 0., 0., 0., 0., 0., 0., 0., 0., 0.,\n",
              "            0., 0., 0., 0., 0.]],\n",
              "  \n",
              "          [[0., 0., 0., 0., 0., 0., 0., 0., 0., 0., 1., 0., 0., 0., 0., 0., 0.,\n",
              "            0., 0., 0., 0., 0., 0., 0., 0., 0., 0., 0., 0., 0., 0., 0., 0., 0.,\n",
              "            0., 0., 0., 0., 0., 0., 0., 0., 0., 0., 0., 0., 0., 0., 0., 0., 0.,\n",
              "            0., 0., 0., 0., 0.]],\n",
              "  \n",
              "          [[0., 0., 0., 0., 0., 0., 0., 1., 0., 0., 0., 0., 0., 0., 0., 0., 0.,\n",
              "            0., 0., 0., 0., 0., 0., 0., 0., 0., 0., 0., 0., 0., 0., 0., 0., 0.,\n",
              "            0., 0., 0., 0., 0., 0., 0., 0., 0., 0., 0., 0., 0., 0., 0., 0., 0.,\n",
              "            0., 0., 0., 0., 0.]],\n",
              "  \n",
              "          [[0., 0., 0., 0., 0., 0., 0., 0., 0., 0., 0., 0., 0., 0., 1., 0., 0.,\n",
              "            0., 0., 0., 0., 0., 0., 0., 0., 0., 0., 0., 0., 0., 0., 0., 0., 0.,\n",
              "            0., 0., 0., 0., 0., 0., 0., 0., 0., 0., 0., 0., 0., 0., 0., 0., 0.,\n",
              "            0., 0., 0., 0., 0.]],\n",
              "  \n",
              "          [[0., 0., 0., 0., 0., 0., 0., 0., 0., 0., 0., 0., 0., 1., 0., 0., 0.,\n",
              "            0., 0., 0., 0., 0., 0., 0., 0., 0., 0., 0., 0., 0., 0., 0., 0., 0.,\n",
              "            0., 0., 0., 0., 0., 0., 0., 0., 0., 0., 0., 0., 0., 0., 0., 0., 0.,\n",
              "            0., 0., 0., 0., 0.]],\n",
              "  \n",
              "          [[0., 0., 0., 0., 0., 0., 0., 0., 1., 0., 0., 0., 0., 0., 0., 0., 0.,\n",
              "            0., 0., 0., 0., 0., 0., 0., 0., 0., 0., 0., 0., 0., 0., 0., 0., 0.,\n",
              "            0., 0., 0., 0., 0., 0., 0., 0., 0., 0., 0., 0., 0., 0., 0., 0., 0.,\n",
              "            0., 0., 0., 0., 0.]],\n",
              "  \n",
              "          [[0., 0., 0., 0., 0., 0., 0., 0., 0., 0., 0., 0., 0., 1., 0., 0., 0.,\n",
              "            0., 0., 0., 0., 0., 0., 0., 0., 0., 0., 0., 0., 0., 0., 0., 0., 0.,\n",
              "            0., 0., 0., 0., 0., 0., 0., 0., 0., 0., 0., 0., 0., 0., 0., 0., 0.,\n",
              "            0., 0., 0., 0., 0.]]]),\n",
              "  tensor([13])),\n",
              " ('Baistryutchenko',\n",
              "  'Russian',\n",
              "  tensor([[[0., 0., 0., 0., 0., 0., 0., 0., 0., 0., 0., 0., 0., 0., 0., 0., 0.,\n",
              "            0., 0., 0., 0., 0., 0., 0., 0., 0., 0., 1., 0., 0., 0., 0., 0., 0.,\n",
              "            0., 0., 0., 0., 0., 0., 0., 0., 0., 0., 0., 0., 0., 0., 0., 0., 0.,\n",
              "            0., 0., 0., 0., 0.]],\n",
              "  \n",
              "          [[1., 0., 0., 0., 0., 0., 0., 0., 0., 0., 0., 0., 0., 0., 0., 0., 0.,\n",
              "            0., 0., 0., 0., 0., 0., 0., 0., 0., 0., 0., 0., 0., 0., 0., 0., 0.,\n",
              "            0., 0., 0., 0., 0., 0., 0., 0., 0., 0., 0., 0., 0., 0., 0., 0., 0.,\n",
              "            0., 0., 0., 0., 0.]],\n",
              "  \n",
              "          [[0., 0., 0., 0., 0., 0., 0., 0., 1., 0., 0., 0., 0., 0., 0., 0., 0.,\n",
              "            0., 0., 0., 0., 0., 0., 0., 0., 0., 0., 0., 0., 0., 0., 0., 0., 0.,\n",
              "            0., 0., 0., 0., 0., 0., 0., 0., 0., 0., 0., 0., 0., 0., 0., 0., 0.,\n",
              "            0., 0., 0., 0., 0.]],\n",
              "  \n",
              "          [[0., 0., 0., 0., 0., 0., 0., 0., 0., 0., 0., 0., 0., 0., 0., 0., 0.,\n",
              "            0., 1., 0., 0., 0., 0., 0., 0., 0., 0., 0., 0., 0., 0., 0., 0., 0.,\n",
              "            0., 0., 0., 0., 0., 0., 0., 0., 0., 0., 0., 0., 0., 0., 0., 0., 0.,\n",
              "            0., 0., 0., 0., 0.]],\n",
              "  \n",
              "          [[0., 0., 0., 0., 0., 0., 0., 0., 0., 0., 0., 0., 0., 0., 0., 0., 0.,\n",
              "            0., 0., 1., 0., 0., 0., 0., 0., 0., 0., 0., 0., 0., 0., 0., 0., 0.,\n",
              "            0., 0., 0., 0., 0., 0., 0., 0., 0., 0., 0., 0., 0., 0., 0., 0., 0.,\n",
              "            0., 0., 0., 0., 0.]],\n",
              "  \n",
              "          [[0., 0., 0., 0., 0., 0., 0., 0., 0., 0., 0., 0., 0., 0., 0., 0., 0.,\n",
              "            1., 0., 0., 0., 0., 0., 0., 0., 0., 0., 0., 0., 0., 0., 0., 0., 0.,\n",
              "            0., 0., 0., 0., 0., 0., 0., 0., 0., 0., 0., 0., 0., 0., 0., 0., 0.,\n",
              "            0., 0., 0., 0., 0.]],\n",
              "  \n",
              "          [[0., 0., 0., 0., 0., 0., 0., 0., 0., 0., 0., 0., 0., 0., 0., 0., 0.,\n",
              "            0., 0., 0., 0., 0., 0., 0., 1., 0., 0., 0., 0., 0., 0., 0., 0., 0.,\n",
              "            0., 0., 0., 0., 0., 0., 0., 0., 0., 0., 0., 0., 0., 0., 0., 0., 0.,\n",
              "            0., 0., 0., 0., 0.]],\n",
              "  \n",
              "          [[0., 0., 0., 0., 0., 0., 0., 0., 0., 0., 0., 0., 0., 0., 0., 0., 0.,\n",
              "            0., 0., 0., 1., 0., 0., 0., 0., 0., 0., 0., 0., 0., 0., 0., 0., 0.,\n",
              "            0., 0., 0., 0., 0., 0., 0., 0., 0., 0., 0., 0., 0., 0., 0., 0., 0.,\n",
              "            0., 0., 0., 0., 0.]],\n",
              "  \n",
              "          [[0., 0., 0., 0., 0., 0., 0., 0., 0., 0., 0., 0., 0., 0., 0., 0., 0.,\n",
              "            0., 0., 1., 0., 0., 0., 0., 0., 0., 0., 0., 0., 0., 0., 0., 0., 0.,\n",
              "            0., 0., 0., 0., 0., 0., 0., 0., 0., 0., 0., 0., 0., 0., 0., 0., 0.,\n",
              "            0., 0., 0., 0., 0.]],\n",
              "  \n",
              "          [[0., 0., 1., 0., 0., 0., 0., 0., 0., 0., 0., 0., 0., 0., 0., 0., 0.,\n",
              "            0., 0., 0., 0., 0., 0., 0., 0., 0., 0., 0., 0., 0., 0., 0., 0., 0.,\n",
              "            0., 0., 0., 0., 0., 0., 0., 0., 0., 0., 0., 0., 0., 0., 0., 0., 0.,\n",
              "            0., 0., 0., 0., 0.]],\n",
              "  \n",
              "          [[0., 0., 0., 0., 0., 0., 0., 1., 0., 0., 0., 0., 0., 0., 0., 0., 0.,\n",
              "            0., 0., 0., 0., 0., 0., 0., 0., 0., 0., 0., 0., 0., 0., 0., 0., 0.,\n",
              "            0., 0., 0., 0., 0., 0., 0., 0., 0., 0., 0., 0., 0., 0., 0., 0., 0.,\n",
              "            0., 0., 0., 0., 0.]],\n",
              "  \n",
              "          [[0., 0., 0., 0., 1., 0., 0., 0., 0., 0., 0., 0., 0., 0., 0., 0., 0.,\n",
              "            0., 0., 0., 0., 0., 0., 0., 0., 0., 0., 0., 0., 0., 0., 0., 0., 0.,\n",
              "            0., 0., 0., 0., 0., 0., 0., 0., 0., 0., 0., 0., 0., 0., 0., 0., 0.,\n",
              "            0., 0., 0., 0., 0.]],\n",
              "  \n",
              "          [[0., 0., 0., 0., 0., 0., 0., 0., 0., 0., 0., 0., 0., 1., 0., 0., 0.,\n",
              "            0., 0., 0., 0., 0., 0., 0., 0., 0., 0., 0., 0., 0., 0., 0., 0., 0.,\n",
              "            0., 0., 0., 0., 0., 0., 0., 0., 0., 0., 0., 0., 0., 0., 0., 0., 0.,\n",
              "            0., 0., 0., 0., 0.]],\n",
              "  \n",
              "          [[0., 0., 0., 0., 0., 0., 0., 0., 0., 0., 1., 0., 0., 0., 0., 0., 0.,\n",
              "            0., 0., 0., 0., 0., 0., 0., 0., 0., 0., 0., 0., 0., 0., 0., 0., 0.,\n",
              "            0., 0., 0., 0., 0., 0., 0., 0., 0., 0., 0., 0., 0., 0., 0., 0., 0.,\n",
              "            0., 0., 0., 0., 0.]],\n",
              "  \n",
              "          [[0., 0., 0., 0., 0., 0., 0., 0., 0., 0., 0., 0., 0., 0., 1., 0., 0.,\n",
              "            0., 0., 0., 0., 0., 0., 0., 0., 0., 0., 0., 0., 0., 0., 0., 0., 0.,\n",
              "            0., 0., 0., 0., 0., 0., 0., 0., 0., 0., 0., 0., 0., 0., 0., 0., 0.,\n",
              "            0., 0., 0., 0., 0.]]]),\n",
              "  tensor([13]))]"
            ]
          },
          "metadata": {
            "tags": []
          },
          "execution_count": 27
        }
      ]
    },
    {
      "cell_type": "markdown",
      "metadata": {
        "id": "3QHufzt9uOAl",
        "colab_type": "text"
      },
      "source": [
        "Output: Name, lang, name_enc, lang_enc"
      ]
    },
    {
      "cell_type": "code",
      "metadata": {
        "id": "BFPNrTg2sa0X",
        "colab_type": "code",
        "colab": {}
      },
      "source": [
        "# Generally classification eval done using top-k accuracy (ground truth in top-k predictions)\n",
        "def eval(net, n_points, k, X_, y_):\n",
        "\n",
        "  data_ = dataloader(n_points, X_, y)\n",
        "  correct = 0\n",
        "\n",
        "  for name, language, name_ohe, lang_rep in data_:\n",
        "\n",
        "    output = infer(net, name)\n",
        "    val, indices = output.topk(k) # topk - PyTorch function\n",
        "\n",
        "    if lang_rep in indices:\n",
        "      correct +=1\n",
        "\n",
        "  accuracy = correct/n_points\n",
        "  return accuracy"
      ],
      "execution_count": 0,
      "outputs": []
    },
    {
      "cell_type": "code",
      "metadata": {
        "id": "8_QNY5MKtSAW",
        "colab_type": "code",
        "outputId": "d6c5c762-b411-4da3-bec3-ffeab6cb2e8d",
        "colab": {
          "base_uri": "https://localhost:8080/",
          "height": 35
        }
      },
      "source": [
        "eval(net, 100, 1, X_test, y_test)"
      ],
      "execution_count": 29,
      "outputs": [
        {
          "output_type": "execute_result",
          "data": {
            "text/plain": [
              "0.01"
            ]
          },
          "metadata": {
            "tags": []
          },
          "execution_count": 29
        }
      ]
    },
    {
      "cell_type": "code",
      "metadata": {
        "id": "lJ41yysLtdMW",
        "colab_type": "code",
        "outputId": "c9d50303-4413-422b-a374-8451a35bd0a9",
        "colab": {
          "base_uri": "https://localhost:8080/",
          "height": 35
        }
      },
      "source": [
        "eval(net, 100, 10, X_test, y_test)"
      ],
      "execution_count": 30,
      "outputs": [
        {
          "output_type": "execute_result",
          "data": {
            "text/plain": [
              "0.56"
            ]
          },
          "metadata": {
            "tags": []
          },
          "execution_count": 30
        }
      ]
    },
    {
      "cell_type": "markdown",
      "metadata": {
        "id": "Qp7NVin7vCvJ",
        "colab_type": "text"
      },
      "source": [
        "Obviously greater for higher k since almost all languages predicted"
      ]
    },
    {
      "cell_type": "code",
      "metadata": {
        "id": "M5-A_qHfu-Kr",
        "colab_type": "code",
        "colab": {}
      },
      "source": [
        ""
      ],
      "execution_count": 0,
      "outputs": []
    },
    {
      "cell_type": "markdown",
      "metadata": {
        "id": "d_QJlZCjvdr_",
        "colab_type": "text"
      },
      "source": [
        "# Training"
      ]
    },
    {
      "cell_type": "markdown",
      "metadata": {
        "id": "AQGh8fh5viuQ",
        "colab_type": "text"
      },
      "source": [
        "### Basic setup\n",
        "(for just one batch)"
      ]
    },
    {
      "cell_type": "markdown",
      "metadata": {
        "id": "QE7phZSHvkrw",
        "colab_type": "text"
      },
      "source": [
        "Define loss function and backpropagation  \n"
      ]
    },
    {
      "cell_type": "markdown",
      "metadata": {
        "id": "LOSQ3zox1mYE",
        "colab_type": "text"
      },
      "source": [
        "Computing output several times and then backpropagating through them. Thus, going through same network many times. But all this book keeping (of all params) done for us by PyTorch."
      ]
    },
    {
      "cell_type": "code",
      "metadata": {
        "id": "ZO8qrxlbveUq",
        "colab_type": "code",
        "colab": {}
      },
      "source": [
        "def train(net, opt, criterion, n_points): # criterion = loss function\n",
        "\n",
        "  # set all params to 0, in case they were retained from an earlier training\n",
        "  opt.zero_grad()\n",
        "  total_loss = 0\n",
        "\n",
        "  # choose random points\n",
        "  data_ = dataloader(n_points, X_train, y_train)\n",
        "\n",
        "  for name, language, name_ohe, lang_rep in data_:\n",
        "\n",
        "    hidden = net.init_hidden()\n",
        "\n",
        "    # pass each character\n",
        "    # creating computational graph (i.e. the params, output for each individual unit of the RNN - all being stored by PyTorch). While backpropagating, we backpropagate through all of these\n",
        "    for i in range(name_ohe.size()[0]):\n",
        "      output, hidden = net(name_ohe[i], hidden)\n",
        "\n",
        "    loss = criterion(output, lang_rep)\n",
        "\n",
        "    # computing gradients (a LOT done in this step behind scenes)\n",
        "    loss.backward(retain_graph = True)\n",
        "\n",
        "    total_loss += loss\n",
        "\n",
        "  # update params using the grad computed using loss.backward \n",
        "  # Just one step here\n",
        "  opt.step()\n",
        "\n",
        "  # divide since we aggregated loss for all points\n",
        "  return total_loss/n_points"
      ],
      "execution_count": 0,
      "outputs": []
    },
    {
      "cell_type": "markdown",
      "metadata": {
        "id": "wiW7TjEXzFRy",
        "colab_type": "text"
      },
      "source": [
        "The above is for one batch of n_points. For all these points, computing one set of gradients and updating only once."
      ]
    },
    {
      "cell_type": "code",
      "metadata": {
        "id": "qifhCnx6w5BX",
        "colab_type": "code",
        "colab": {}
      },
      "source": [
        "criterion = nn.NLLLoss() # negative log likelihood loss because using softmax\n",
        "opt = optim.SGD(net.parameters(), lr = 0.01, momentum = 0.9)"
      ],
      "execution_count": 0,
      "outputs": []
    },
    {
      "cell_type": "code",
      "metadata": {
        "id": "2PkgkUnSxE7D",
        "colab_type": "code",
        "outputId": "95771473-12a7-4bc7-b43a-f23c4271ca52",
        "colab": {
          "base_uri": "https://localhost:8080/",
          "height": 72
        }
      },
      "source": [
        "%%time\n",
        "train(net, opt, criterion, 200)"
      ],
      "execution_count": 33,
      "outputs": [
        {
          "output_type": "stream",
          "text": [
            "CPU times: user 256 ms, sys: 31.1 ms, total: 287 ms\n",
            "Wall time: 388 ms\n"
          ],
          "name": "stdout"
        },
        {
          "output_type": "execute_result",
          "data": {
            "text/plain": [
              "tensor(2.8585, grad_fn=<DivBackward0>)"
            ]
          },
          "metadata": {
            "tags": []
          },
          "execution_count": 33
        }
      ]
    },
    {
      "cell_type": "code",
      "metadata": {
        "id": "sz8eD2Shz0So",
        "colab_type": "code",
        "outputId": "bf79e916-d447-4268-bc16-19edb1a016bd",
        "colab": {
          "base_uri": "https://localhost:8080/",
          "height": 35
        }
      },
      "source": [
        "# Top-1\n",
        "eval(net, 1000, 1, X_test, y_test)"
      ],
      "execution_count": 34,
      "outputs": [
        {
          "output_type": "execute_result",
          "data": {
            "text/plain": [
              "0.0"
            ]
          },
          "metadata": {
            "tags": []
          },
          "execution_count": 34
        }
      ]
    },
    {
      "cell_type": "code",
      "metadata": {
        "id": "6YDbTfrm0FDH",
        "colab_type": "code",
        "colab": {}
      },
      "source": [
        ""
      ],
      "execution_count": 0,
      "outputs": []
    },
    {
      "cell_type": "markdown",
      "metadata": {
        "id": "4guzIp-u2J2F",
        "colab_type": "text"
      },
      "source": [
        "### Full training setup"
      ]
    },
    {
      "cell_type": "markdown",
      "metadata": {
        "id": "UhcWxeOlAwbf",
        "colab_type": "text"
      },
      "source": [
        "1 function to train just a batch  \n",
        "1 cell to encapsulate all the hyperparameters (optimizer etc)  \n",
        "1 function for the training setup (which takes all hyperparameters as arguments) - this function doesn't contain all details - just ML flow with parameters."
      ]
    },
    {
      "cell_type": "code",
      "metadata": {
        "id": "gE39Kc3b2LiW",
        "colab_type": "code",
        "colab": {}
      },
      "source": [
        "def train_setup(net, lr = 0.01, n_batches = 100, batch_size = 10, momentum = 0.9, display_freq = 5):\n",
        "  # display every 5 iterations\n",
        "\n",
        "  criterion = nn.NLLLoss()\n",
        "  # Note: If last function is softmax in model, then HAVE to use NLLLoss, else if softmax not mentioned, can use Cross Entropy Loss Function\n",
        "  # As mentioned earlier, don't have to use softmax since it is computationally heavy, and all we need is the top-k. But required when inferring. So can use softmax.\n",
        "  \n",
        "  opt = optim.SGD(net.parameters(), lr = lr, momentum = momentum)\n",
        "\n",
        "  loss_arr = np.zeros(n_batches + 1)\n",
        "\n",
        "  for i in range(n_batches):\n",
        "    # call to 'train' for each batch\n",
        "    loss_arr[i+1] = (loss_arr[i]*i + train(net, opt, criterion, batch_size))/(i+1)\n",
        "\n",
        "    if i%display_freq == display_freq-1:\n",
        "      clear_output(wait=True)\n",
        "\n",
        "      print(\"Iteration\",i,\"Top-1\", eval(net, len(X_test), 1, X_test, y_test), \"Top-2\", eval(net, len(X_test), 1, X_test, y_test))\n",
        "\n",
        "      plt.figure()\n",
        "      plt.plot(loss_arr[1:i], '-*')\n",
        "      plt.xlabel('Iteration')\n",
        "      plt.ylabel('Loss')\n",
        "      plt.show()\n",
        "      print(\"\\n\\n\")\n",
        "      "
      ],
      "execution_count": 0,
      "outputs": []
    },
    {
      "cell_type": "code",
      "metadata": {
        "id": "TuBLOl9r3iiC",
        "colab_type": "code",
        "colab": {
          "base_uri": "https://localhost:8080/",
          "height": 355
        },
        "outputId": "9f77727e-8461-418f-c70d-fa1c3948254f"
      },
      "source": [
        "n_hidden = 128\n",
        "net = RNN_net(n_letters, n_hidden, n_languages)\n",
        "train_setup(net, lr = 0.0005, n_batches = 100, batch_size = 256)"
      ],
      "execution_count": 42,
      "outputs": [
        {
          "output_type": "stream",
          "text": [
            "Iteration 99 Top-1 0.010723192019950124 Top-2 0.010723192019950124\n"
          ],
          "name": "stdout"
        },
        {
          "output_type": "display_data",
          "data": {
            "image/png": "[encoded data removed]",
            "text/plain": [
              "<Figure size 432x288 with 1 Axes>"
            ]
          },
          "metadata": {
            "tags": [],
            "needs_background": "light"
          }
        },
        {
          "output_type": "stream",
          "text": [
            "\n",
            "\n",
            "\n"
          ],
          "name": "stdout"
        }
      ]
    },
    {
      "cell_type": "code",
      "metadata": {
        "id": "8lTqW4tsCQNk",
        "colab_type": "code",
        "colab": {}
      },
      "source": [
        ""
      ],
      "execution_count": 0,
      "outputs": []
    },
    {
      "cell_type": "markdown",
      "metadata": {
        "id": "SAx5IvXXDoYh",
        "colab_type": "text"
      },
      "source": [
        "# LSTM Cell"
      ]
    },
    {
      "cell_type": "markdown",
      "metadata": {
        "id": "IVY-d__-ELh4",
        "colab_type": "text"
      },
      "source": [
        "(In PyTorch docs, can see all the function definitions for SELECTIVE READ, SELECTIVE WRITE and SELECTIVE FORGET)   \n",
        "Should make function signatures same so that on changing LSTM_net to RNN_net, we don't have to change the arguments."
      ]
    },
    {
      "cell_type": "code",
      "metadata": {
        "id": "F_mXP-pzDnR2",
        "colab_type": "code",
        "colab": {}
      },
      "source": [
        "class LSTM_net(nn.Module):\n",
        "  def __init__(self, input_size, hidden_size, output_size):\n",
        "    super(LSTM_net, self).__init__()\n",
        "    self.hidden_size = hidden_size\n",
        "    self.lstm_cell = nn.LSTM(input_size, hidden_size)\n",
        "    self.h2o = nn.Linear(hidden_size, output_size) # one linear (fully connected) layer, that computes the output (number of languages) from the hidden layer\n",
        "    self.softmax = nn.LogSoftmax(dim=2)\n",
        "\n",
        "  def forward(self, input_, hidden):\n",
        "    # LSTM does computation of hidden state as well\n",
        "    # .view => reshape. -1 => flatten out whatever's remaining\n",
        "    # (can give several inputs simultanously (to benefit from vectorization, but not done here), number of batches, to flatten)\n",
        "    out, hidden = self.lstm_cell(input_.view(1, 1, -1), hidden)\n",
        "    output = self.h2o(hidden[0])\n",
        "    output = self.softmax(output)\n",
        "    return output.view(1, -1), hidden # flatten\n",
        "\n",
        "  # this time 2 tuples since - one for hidden state, and other for cell state\n",
        "  def init_hidden(self):\n",
        "    # (1, 1, self.hidden_size) -> (number of layers in LSTM cell, number of batches, size)\n",
        "    return (torch.zeros(1, 1, self.hidden_size), torch.zeros(1, 1, self.hidden_size))"
      ],
      "execution_count": 0,
      "outputs": []
    },
    {
      "cell_type": "markdown",
      "metadata": {
        "id": "WlM9UvX1IneP",
        "colab_type": "text"
      },
      "source": [
        "Note: Batching implies two things:  \n",
        "1. Updating weight and bias, once for an entire batch, instead of updating for every record.  \n",
        "2. To improve performance.  \n",
        "The first one is what was done in RNN and here too. 2nd one later."
      ]
    },
    {
      "cell_type": "code",
      "metadata": {
        "id": "gkj7f6kPHLeT",
        "colab_type": "code",
        "colab": {
          "base_uri": "https://localhost:8080/",
          "height": 352
        },
        "outputId": "d8b9f3c8-f391-45ba-ee97-c887836ebdbd"
      },
      "source": [
        "# note the same code for RNN - of course have to change lr, batch size etc to suit to new model\n",
        "n_hidden = 128\n",
        "net = LSTM_net(n_letters, n_hidden, n_languages)\n",
        "train_setup(net, lr = 0.0005, n_batches = 100, batch_size = 256)"
      ],
      "execution_count": 49,
      "outputs": [
        {
          "output_type": "stream",
          "text": [
            "Iteration 99 Top-1 0.0 Top-2 0.0\n"
          ],
          "name": "stdout"
        },
        {
          "output_type": "display_data",
          "data": {
            "image/png": "[encoded data removed]",
            "text/plain": [
              "<Figure size 432x288 with 1 Axes>"
            ]
          },
          "metadata": {
            "tags": [],
            "needs_background": "light"
          }
        },
        {
          "output_type": "stream",
          "text": [
            "\n",
            "\n",
            "\n"
          ],
          "name": "stdout"
        }
      ]
    },
    {
      "cell_type": "code",
      "metadata": {
        "id": "2jdlOKeHHbF5",
        "colab_type": "code",
        "colab": {}
      },
      "source": [
        ""
      ],
      "execution_count": 0,
      "outputs": []
    },
    {
      "cell_type": "markdown",
      "metadata": {
        "id": "gSoIMA8iMavc",
        "colab_type": "text"
      },
      "source": [
        "# GRU Cell"
      ]
    },
    {
      "cell_type": "markdown",
      "metadata": {
        "id": "Phi5BNP6MdED",
        "colab_type": "text"
      },
      "source": [
        "Fewer number of gates.  \n",
        "Everything (tanh, sigmoid, etc, etc) being done internally."
      ]
    },
    {
      "cell_type": "code",
      "metadata": {
        "id": "xXKgfl-yMcay",
        "colab_type": "code",
        "colab": {}
      },
      "source": [
        "class GRU_net(nn.Module):\n",
        "  def __init__(self, input_size, hidden_size, output_size):\n",
        "    super(GRU_net, self).__init__()\n",
        "    self.hidden_size = hidden_size\n",
        "    self.gru_cell = nn.GRU(input_size, hidden_size)\n",
        "    self.h2o = nn.Linear(hidden_size, output_size)\n",
        "    self.softmax = nn.LogSoftmax(dim=2)\n",
        "\n",
        "  def forward(self, input_, hidden):\n",
        "    out, hidden = self.gru_cell(input_.view(1, 1, -1), hidden)\n",
        "    output = self.h2o(hidden[0])\n",
        "    output = self.softmax(output)\n",
        "    return output.view(1, -1), hidden\n",
        "\n",
        "  def init_hidden(self):\n",
        "    return torch.zeros(1, 1, self.hidden_size)"
      ],
      "execution_count": 0,
      "outputs": []
    },
    {
      "cell_type": "code",
      "metadata": {
        "id": "FEMOM5XfOQ1h",
        "colab_type": "code",
        "colab": {}
      },
      "source": [
        "n_hidden = 128\n",
        "net = GRU_net(n_letters, n_hidden, n_languages)\n",
        "train_setup(net, lr = 0.0005, n_batches = 100, batch_size = 256)"
      ],
      "execution_count": 0,
      "outputs": []
    },
    {
      "cell_type": "markdown",
      "metadata": {
        "id": "Yc5SsBAYN02i",
        "colab_type": "text"
      },
      "source": [
        "Confusion matrix: (Square matrix, each side of size = number of languages). If ground truth was i, how many times we are classifying it as j. We want diagonal entries to be large for correct classification (will tell us more about top-k)"
      ]
    },
    {
      "cell_type": "code",
      "metadata": {
        "id": "HvyVv-VfPMY4",
        "colab_type": "code",
        "colab": {}
      },
      "source": [
        ""
      ],
      "execution_count": 0,
      "outputs": []
    }
  ]
}