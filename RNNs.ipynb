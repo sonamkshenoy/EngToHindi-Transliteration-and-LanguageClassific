{
  "nbformat": 4,
  "nbformat_minor": 0,
  "metadata": {
    "colab": {
      "name": "RNNs.ipynb",
      "provenance": [],
      "collapsed_sections": [],
      "authorship_tag": "ABX9TyOofzIprinS9Y2ErBFKi9ot"
    },
    "kernelspec": {
      "name": "python3",
      "display_name": "Python 3"
    }
  },
  "cells": [
    {
      "cell_type": "code",
      "metadata": {
        "id": "JseoduTJFYcx",
        "colab_type": "code",
        "outputId": "9142069b-5330-4639-9125-7b9955104354",
        "colab": {
          "base_uri": "https://localhost:8080/",
          "height": 73
        }
      },
      "source": [
        "from io import open\n",
        "import os, string, random, time, math\n",
        "import matplotlib.pyplot as plt\n",
        "import seaborn as sns\n",
        "import numpy as np"
      ],
      "execution_count": 1,
      "outputs": [
        {
          "output_type": "stream",
          "text": [
            "/usr/local/lib/python3.6/dist-packages/statsmodels/tools/_testing.py:19: FutureWarning: pandas.util.testing is deprecated. Use the functions in the public API at pandas.testing instead.\n",
            "  import pandas.util.testing as tm\n"
          ],
          "name": "stderr"
        }
      ]
    },
    {
      "cell_type": "code",
      "metadata": {
        "id": "gX5B2pjlFzEf",
        "colab_type": "code",
        "colab": {}
      },
      "source": [
        "from sklearn.model_selection import train_test_split"
      ],
      "execution_count": 0,
      "outputs": []
    },
    {
      "cell_type": "code",
      "metadata": {
        "id": "xHysBclRF27-",
        "colab_type": "code",
        "colab": {}
      },
      "source": [
        "import torch\n",
        "import torch.nn as nn\n",
        "import torch.optim as optim"
      ],
      "execution_count": 0,
      "outputs": []
    },
    {
      "cell_type": "code",
      "metadata": {
        "id": "As0Y_XQPF9aV",
        "colab_type": "code",
        "colab": {}
      },
      "source": [
        "from IPython.display import clear_output # clears output of cell, say to show multiple plots but show only most recent one"
      ],
      "execution_count": 0,
      "outputs": []
    },
    {
      "cell_type": "markdown",
      "metadata": {
        "id": "MOJxIp9CGfPo",
        "colab_type": "text"
      },
      "source": [
        "# Dataset"
      ]
    },
    {
      "cell_type": "markdown",
      "metadata": {
        "id": "suHpYDj-Gl0s",
        "colab_type": "text"
      },
      "source": [
        "Task: To predict nationality a name (varying length) belongs to.  \n",
        "Therefore, sequence model since sequence of characters, have to encode each character and predict one class (usual softmax) \n",
        "\n",
        "  \n",
        "\n",
        "---\n",
        "\n",
        "  \n",
        "Sequence Tasks:  \n",
        "Sequence to Class (input is sequence, output is just one class) - what we are doing currently   \n",
        "Sequence to Sequence Type 1 (input is sequence, output is sequence where there is an output corresponding to each item in the input e.g. POS)  \n",
        "Sequence to Class (input is sequence, output is sequence, but there is not one output for each word, but be more or less e.g. transliteration - converting english word to hindi)"
      ]
    },
    {
      "cell_type": "code",
      "metadata": {
        "id": "rJYssHQlGf8H",
        "colab_type": "code",
        "colab": {}
      },
      "source": [
        ""
      ],
      "execution_count": 0,
      "outputs": []
    },
    {
      "cell_type": "code",
      "metadata": {
        "id": "Iwi82u7QICNW",
        "colab_type": "code",
        "colab": {}
      },
      "source": [
        "languages = []\n",
        "data = []\n",
        "X = []\n",
        "y = []\n",
        "\n",
        "with open('name2lang.txt','r') as f:\n",
        "  for line in f:\n",
        "    line = line.split(',')\n",
        "    name = line[0].strip()\n",
        "    lang = line[1].strip()\n",
        "    if not lang in languages:\n",
        "      languages.append(lang)\n",
        "    X.append(name)\n",
        "    y.append(lang)\n",
        "    data.append((name, lang))"
      ],
      "execution_count": 0,
      "outputs": []
    },
    {
      "cell_type": "code",
      "metadata": {
        "id": "QIyM_zA-JQuL",
        "colab_type": "code",
        "outputId": "cbc2fa13-9f9d-4933-f4b7-b2053011d25d",
        "colab": {
          "base_uri": "https://localhost:8080/",
          "height": 35
        }
      },
      "source": [
        "n_languages = len(languages)\n",
        "print(n_languages)"
      ],
      "execution_count": 7,
      "outputs": [
        {
          "output_type": "stream",
          "text": [
            "18\n"
          ],
          "name": "stdout"
        }
      ]
    },
    {
      "cell_type": "markdown",
      "metadata": {
        "id": "yZnqf841JYn_",
        "colab_type": "text"
      },
      "source": [
        "There are 18 languages in this dataset."
      ]
    },
    {
      "cell_type": "code",
      "metadata": {
        "id": "Ba1oJ1DQJwD7",
        "colab_type": "code",
        "outputId": "c440c35c-2f7a-48db-dfa3-9d045a041567",
        "colab": {
          "base_uri": "https://localhost:8080/",
          "height": 55
        }
      },
      "source": [
        "print(languages)"
      ],
      "execution_count": 8,
      "outputs": [
        {
          "output_type": "stream",
          "text": [
            "['Portuguese', 'Irish', 'Spanish', 'Vietnamese', 'Chinese', 'Greek', 'Czech', 'Dutch', 'Japanese', 'French', 'German', 'Scottish', 'English', 'Russian', 'Polish', 'Arabic', 'Korean', 'Italian']\n"
          ],
          "name": "stdout"
        }
      ]
    },
    {
      "cell_type": "code",
      "metadata": {
        "id": "hjRUUc78JW6Q",
        "colab_type": "code",
        "outputId": "1289afff-5b95-4e7b-b6d1-f27a99f3fd93",
        "colab": {
          "base_uri": "https://localhost:8080/",
          "height": 55
        }
      },
      "source": [
        "print(data[0:10])"
      ],
      "execution_count": 9,
      "outputs": [
        {
          "output_type": "stream",
          "text": [
            "[('Abreu', 'Portuguese'), ('Albuquerque', 'Portuguese'), ('Almeida', 'Portuguese'), ('Alves', 'Portuguese'), ('Araujo', 'Portuguese'), ('Araullo', 'Portuguese'), ('Barros', 'Portuguese'), ('Basurto', 'Portuguese'), ('Belo', 'Portuguese'), ('Cabral', 'Portuguese')]\n"
          ],
          "name": "stdout"
        }
      ]
    },
    {
      "cell_type": "code",
      "metadata": {
        "id": "moN5zPJ-JiSf",
        "colab_type": "code",
        "colab": {}
      },
      "source": [
        ""
      ],
      "execution_count": 0,
      "outputs": []
    },
    {
      "cell_type": "markdown",
      "metadata": {
        "id": "VIZZk9K3J30c",
        "colab_type": "text"
      },
      "source": [
        "# Train-test split"
      ]
    },
    {
      "cell_type": "code",
      "metadata": {
        "id": "HL7IevTbJ4Nt",
        "colab_type": "code",
        "colab": {}
      },
      "source": [
        "X_train, X_test, y_train, y_test = train_test_split(X, y, test_size = 0.2, random_state = 61, stratify = y)"
      ],
      "execution_count": 0,
      "outputs": []
    },
    {
      "cell_type": "markdown",
      "metadata": {
        "id": "S_PdNkrFK1ac",
        "colab_type": "text"
      },
      "source": [
        "(Both X and y should have the same dimensions)"
      ]
    },
    {
      "cell_type": "code",
      "metadata": {
        "id": "hNLNGqZnKSne",
        "colab_type": "code",
        "outputId": "08d4022b-29c7-4ddb-8797-d02c6c199562",
        "colab": {
          "base_uri": "https://localhost:8080/",
          "height": 55
        }
      },
      "source": [
        "print(X_train[:20])"
      ],
      "execution_count": 11,
      "outputs": [
        {
          "output_type": "stream",
          "text": [
            "['Kaufman', 'Chandler', 'Agar', 'Essa', 'Makhagonov', 'Prokudin', 'Porus', 'Lowry', 'Nezvigin', 'Cove', 'Peach', 'Newlands', 'Bajov', 'Chukhnovsky', 'Naser', 'Gaspirovich', 'Vykhodtsev', 'Chuvilkin', 'Maksimchuk', 'Dandy']\n"
          ],
          "name": "stdout"
        }
      ]
    },
    {
      "cell_type": "code",
      "metadata": {
        "id": "BaisbKIhLBXY",
        "colab_type": "code",
        "outputId": "74f71448-8182-402d-9fc6-b25402c2af67",
        "colab": {
          "base_uri": "https://localhost:8080/",
          "height": 35
        }
      },
      "source": [
        "print(len(X_train), len(X_test))"
      ],
      "execution_count": 12,
      "outputs": [
        {
          "output_type": "stream",
          "text": [
            "16040 4010\n"
          ],
          "name": "stdout"
        }
      ]
    },
    {
      "cell_type": "code",
      "metadata": {
        "id": "CXYqNsBxLFRn",
        "colab_type": "code",
        "colab": {}
      },
      "source": [
        ""
      ],
      "execution_count": 0,
      "outputs": []
    },
    {
      "cell_type": "markdown",
      "metadata": {
        "id": "tBn7lQ90LMiJ",
        "colab_type": "text"
      },
      "source": [
        "# Encoding names and languages"
      ]
    },
    {
      "cell_type": "markdown",
      "metadata": {
        "id": "jad2LUTILVh0",
        "colab_type": "text"
      },
      "source": [
        "Since output is a class, can use one hot encoding easily.  \n",
        "But input is a sequence, so have to encode each character."
      ]
    },
    {
      "cell_type": "code",
      "metadata": {
        "id": "xRYjpnk5LOnl",
        "colab_type": "code",
        "colab": {}
      },
      "source": [
        "# list of all characters possible in a name\n",
        "all_letters = string.ascii_letters + \" .,;\"\n",
        "n_letters = len(all_letters)"
      ],
      "execution_count": 0,
      "outputs": []
    },
    {
      "cell_type": "markdown",
      "metadata": {
        "id": "Bx61BiXULyBU",
        "colab_type": "text"
      },
      "source": [
        "Encode the name"
      ]
    },
    {
      "cell_type": "code",
      "metadata": {
        "id": "o3DE9m7GLrBu",
        "colab_type": "code",
        "colab": {}
      },
      "source": [
        "# Let encoding be one hot encoding for each character, where the hot bit is the index of the char in the above string of all letters\n",
        "def name_rep(name):\n",
        "  rep = torch.zeros(len(name), 1, n_letters)\n",
        "  for index, letter in enumerate(name):\n",
        "    pos = all_letters.find(letter)\n",
        "    rep[index][0][pos] = 1\n",
        "  return rep"
      ],
      "execution_count": 0,
      "outputs": []
    },
    {
      "cell_type": "markdown",
      "metadata": {
        "id": "XbUw7ngUMt_Z",
        "colab_type": "text"
      },
      "source": [
        "Encode the language"
      ]
    },
    {
      "cell_type": "code",
      "metadata": {
        "id": "IXRpPvQfMV1E",
        "colab_type": "code",
        "colab": {}
      },
      "source": [
        "# Don't require one hot encoding, just label sufficient\n",
        "def lang_rep(lang):\n",
        "  return torch.tensor([languages.index(lang)], dtype = torch.long)"
      ],
      "execution_count": 0,
      "outputs": []
    },
    {
      "cell_type": "code",
      "metadata": {
        "id": "uOnKrgj3M_cW",
        "colab_type": "code",
        "outputId": "286c538c-236e-49fa-cbb0-b96b5cc9bb4a",
        "colab": {
          "base_uri": "https://localhost:8080/",
          "height": 635
        }
      },
      "source": [
        "name_rep('Almeida')"
      ],
      "execution_count": 16,
      "outputs": [
        {
          "output_type": "execute_result",
          "data": {
            "text/plain": [
              "tensor([[[0., 0., 0., 0., 0., 0., 0., 0., 0., 0., 0., 0., 0., 0., 0., 0., 0.,\n",
              "          0., 0., 0., 0., 0., 0., 0., 0., 0., 1., 0., 0., 0., 0., 0., 0., 0.,\n",
              "          0., 0., 0., 0., 0., 0., 0., 0., 0., 0., 0., 0., 0., 0., 0., 0., 0.,\n",
              "          0., 0., 0., 0., 0.]],\n",
              "\n",
              "        [[0., 0., 0., 0., 0., 0., 0., 0., 0., 0., 0., 1., 0., 0., 0., 0., 0.,\n",
              "          0., 0., 0., 0., 0., 0., 0., 0., 0., 0., 0., 0., 0., 0., 0., 0., 0.,\n",
              "          0., 0., 0., 0., 0., 0., 0., 0., 0., 0., 0., 0., 0., 0., 0., 0., 0.,\n",
              "          0., 0., 0., 0., 0.]],\n",
              "\n",
              "        [[0., 0., 0., 0., 0., 0., 0., 0., 0., 0., 0., 0., 1., 0., 0., 0., 0.,\n",
              "          0., 0., 0., 0., 0., 0., 0., 0., 0., 0., 0., 0., 0., 0., 0., 0., 0.,\n",
              "          0., 0., 0., 0., 0., 0., 0., 0., 0., 0., 0., 0., 0., 0., 0., 0., 0.,\n",
              "          0., 0., 0., 0., 0.]],\n",
              "\n",
              "        [[0., 0., 0., 0., 1., 0., 0., 0., 0., 0., 0., 0., 0., 0., 0., 0., 0.,\n",
              "          0., 0., 0., 0., 0., 0., 0., 0., 0., 0., 0., 0., 0., 0., 0., 0., 0.,\n",
              "          0., 0., 0., 0., 0., 0., 0., 0., 0., 0., 0., 0., 0., 0., 0., 0., 0.,\n",
              "          0., 0., 0., 0., 0.]],\n",
              "\n",
              "        [[0., 0., 0., 0., 0., 0., 0., 0., 1., 0., 0., 0., 0., 0., 0., 0., 0.,\n",
              "          0., 0., 0., 0., 0., 0., 0., 0., 0., 0., 0., 0., 0., 0., 0., 0., 0.,\n",
              "          0., 0., 0., 0., 0., 0., 0., 0., 0., 0., 0., 0., 0., 0., 0., 0., 0.,\n",
              "          0., 0., 0., 0., 0.]],\n",
              "\n",
              "        [[0., 0., 0., 1., 0., 0., 0., 0., 0., 0., 0., 0., 0., 0., 0., 0., 0.,\n",
              "          0., 0., 0., 0., 0., 0., 0., 0., 0., 0., 0., 0., 0., 0., 0., 0., 0.,\n",
              "          0., 0., 0., 0., 0., 0., 0., 0., 0., 0., 0., 0., 0., 0., 0., 0., 0.,\n",
              "          0., 0., 0., 0., 0.]],\n",
              "\n",
              "        [[1., 0., 0., 0., 0., 0., 0., 0., 0., 0., 0., 0., 0., 0., 0., 0., 0.,\n",
              "          0., 0., 0., 0., 0., 0., 0., 0., 0., 0., 0., 0., 0., 0., 0., 0., 0.,\n",
              "          0., 0., 0., 0., 0., 0., 0., 0., 0., 0., 0., 0., 0., 0., 0., 0., 0.,\n",
              "          0., 0., 0., 0., 0.]]])"
            ]
          },
          "metadata": {
            "tags": []
          },
          "execution_count": 16
        }
      ]
    },
    {
      "cell_type": "markdown",
      "metadata": {
        "id": "vaYe84s3NaHG",
        "colab_type": "text"
      },
      "source": [
        "7 letters in name, so 7 vectors"
      ]
    },
    {
      "cell_type": "code",
      "metadata": {
        "id": "lUMWrn8GNEtq",
        "colab_type": "code",
        "outputId": "e39e7c06-8048-4087-a9a4-74261ca14363",
        "colab": {
          "base_uri": "https://localhost:8080/",
          "height": 35
        }
      },
      "source": [
        "lang_rep('Dutch')"
      ],
      "execution_count": 17,
      "outputs": [
        {
          "output_type": "execute_result",
          "data": {
            "text/plain": [
              "tensor([7])"
            ]
          },
          "metadata": {
            "tags": []
          },
          "execution_count": 17
        }
      ]
    },
    {
      "cell_type": "markdown",
      "metadata": {
        "id": "RIVBLiX0Ni2Q",
        "colab_type": "text"
      },
      "source": [
        "Label of Dutch in languages array"
      ]
    },
    {
      "cell_type": "code",
      "metadata": {
        "id": "sLnwCHSSNRQ5",
        "colab_type": "code",
        "colab": {}
      },
      "source": [
        ""
      ],
      "execution_count": 0,
      "outputs": []
    },
    {
      "cell_type": "markdown",
      "metadata": {
        "id": "yCqYCaSdNrkg",
        "colab_type": "text"
      },
      "source": [
        "# Basic Visualisation"
      ]
    },
    {
      "cell_type": "markdown",
      "metadata": {
        "id": "jKEVu3G4Nzo9",
        "colab_type": "text"
      },
      "source": [
        "Distribution of languages in our dataset"
      ]
    },
    {
      "cell_type": "code",
      "metadata": {
        "id": "gVLJnDUrNs9b",
        "colab_type": "code",
        "colab": {}
      },
      "source": [
        "count = {}\n",
        "\n",
        "for l in languages:\n",
        "  count[l] = 0\n",
        "for d in data:\n",
        "  count[d[1]] += 1"
      ],
      "execution_count": 0,
      "outputs": []
    },
    {
      "cell_type": "code",
      "metadata": {
        "id": "VRJA48r3N_oo",
        "colab_type": "code",
        "outputId": "5ffaf256-1365-4cf4-ba79-1e0e829c871d",
        "colab": {
          "base_uri": "https://localhost:8080/",
          "height": 55
        }
      },
      "source": [
        "print(count)"
      ],
      "execution_count": 19,
      "outputs": [
        {
          "output_type": "stream",
          "text": [
            "{'Portuguese': 74, 'Irish': 232, 'Spanish': 298, 'Vietnamese': 73, 'Chinese': 268, 'Greek': 203, 'Czech': 519, 'Dutch': 297, 'Japanese': 991, 'French': 277, 'German': 724, 'Scottish': 100, 'English': 3668, 'Russian': 9384, 'Polish': 139, 'Arabic': 2000, 'Korean': 94, 'Italian': 709}\n"
          ],
          "name": "stdout"
        }
      ]
    },
    {
      "cell_type": "markdown",
      "metadata": {
        "id": "NkSI0f0COErW",
        "colab_type": "text"
      },
      "source": [
        "Highly non-uniform"
      ]
    },
    {
      "cell_type": "code",
      "metadata": {
        "id": "p-uNbA3HOAfC",
        "colab_type": "code",
        "outputId": "f9393c19-6b4e-42db-feae-3cb3f8eb1e46",
        "colab": {
          "base_uri": "https://localhost:8080/",
          "height": 314
        }
      },
      "source": [
        "plt_ = sns.barplot(list(count.keys()), list(count.values()))\n",
        "plt_.set_xticklabels(plt_.get_xticklabels(), rotation = 90)\n",
        "plt.show()"
      ],
      "execution_count": 20,
      "outputs": [
        {
          "output_type": "display_data",
          "data": {
            "image/png": "[encoded data removed]",
            "text/plain": [
              "<Figure size 432x288 with 1 Axes>"
            ]
          },
          "metadata": {
            "tags": [],
            "needs_background": "light"
          }
        }
      ]
    },
    {
      "cell_type": "markdown",
      "metadata": {
        "id": "HDtdhBFxOxMx",
        "colab_type": "text"
      },
      "source": [
        "Model might learn Russian names too well and predict them well since lots of data, but less training on the rest.  \n",
        "Hence, have to see not the overall accuracy, but accuracy for each language."
      ]
    },
    {
      "cell_type": "markdown",
      "metadata": {
        "id": "PEvPNdeFPK6Q",
        "colab_type": "text"
      },
      "source": [
        "Therefore, baseline is not to pick names from each language equally, but pick according to the distribution, more for Russian."
      ]
    },
    {
      "cell_type": "markdown",
      "metadata": {
        "id": "n4wZ2VSPPZwb",
        "colab_type": "text"
      },
      "source": [
        "Thus, baseline testing is easy, but training isn't"
      ]
    },
    {
      "cell_type": "code",
      "metadata": {
        "id": "58IbURhoOa1z",
        "colab_type": "code",
        "colab": {}
      },
      "source": [
        ""
      ],
      "execution_count": 0,
      "outputs": []
    },
    {
      "cell_type": "markdown",
      "metadata": {
        "id": "IF2otzAwPVfh",
        "colab_type": "text"
      },
      "source": [
        "# Basic network and testing inference"
      ]
    },
    {
      "cell_type": "code",
      "metadata": {
        "id": "lJDvL-wkPYoy",
        "colab_type": "code",
        "colab": {}
      },
      "source": [
        "class RNN_net(nn.Module):\n",
        "  # just setting up layers, not computing anything\n",
        "  # input_size : size of encoding of one character in the input (i.e. number of letters, here)\n",
        "  # hidden_size : the hidden layer though looks like one (for a single unit of the RNN) can be any number of layers\n",
        "  # output_size : the number of labels (number of languages, here)\n",
        "  def __init__(self, input_size, hidden_size, output_size):\n",
        "    super(RNN_net, self).__init__() # parent's (NN's) init\n",
        "    self.hidden_size = hidden_size\n",
        "\n",
        "    # both below are Linear (fully connected)\n",
        "    # just mention input size and output size. Weights, biases etc taken care of by library (encapsulated)\n",
        "\n",
        "    # i2h is the intersection of the previous character's output and current input character, hence concatenation of hidden size (previous input size - coming out of hidden layer) and input size (current input size). Output should of course be hidden size again\n",
        "    self.i2h = nn.Linear(input_size + hidden_size, hidden_size) # \"concatenation (i.e. both preserved)\", not addition (corresponding elements added), of input and hidden of previous\n",
        "    \n",
        "    # i2o is the intersection of the h and the output o. (the final output layer part). Input is the computed h (hidden_size) and the current input (input_size)\n",
        "    self.i2o = nn.Linear(input_size + hidden_size, output_size)\n",
        "\n",
        "    # Note only 1 layer used for both above transformations, but can have more\n",
        "    \n",
        "    # Final output\n",
        "    self.softmax = nn.LogSoftmax(dim = 1)\n",
        "\n",
        "\n",
        "  # where layers are put to use\n",
        "  def forward(self, input_, hidden):\n",
        "    combined = torch.cat((input_, hidden), 1) # concatenate hidden and input in right direction (1, here. 1 means column always in a 2D vector, and usually \"along\". So concatenate - NOT ADDS - along row. Next to each other)\n",
        "    hidden = self.i2h(combined) # comput hidden value\n",
        "    output = self.i2o(combined) # compute output\n",
        "    output = self.softmax(output) # compute softmax\n",
        "    return output, hidden # return both output and hidden\n",
        "\n",
        "  # the first time (beginning of sequence) the hidden vector is not present, so call this function the first time\n",
        "  def init_hidden(self):\n",
        "    return torch.zeros(1, self.hidden_size) # Randomly initialised to 1, can use something else too"
      ],
      "execution_count": 0,
      "outputs": []
    },
    {
      "cell_type": "markdown",
      "metadata": {
        "id": "67vAe0Kblyty",
        "colab_type": "text"
      },
      "source": [
        "Now, instantiate model (hyperparameters)"
      ]
    },
    {
      "cell_type": "code",
      "metadata": {
        "id": "bkXTHyqYlyWy",
        "colab_type": "code",
        "colab": {}
      },
      "source": [
        "# number of hidden layers\n",
        "n_hidden = 128 # compromise between overfitting and having less data"
      ],
      "execution_count": 0,
      "outputs": []
    },
    {
      "cell_type": "code",
      "metadata": {
        "id": "K57M2vKNTrrx",
        "colab_type": "code",
        "colab": {}
      },
      "source": [
        "net = RNN_net(n_letters, n_hidden, n_languages)"
      ],
      "execution_count": 0,
      "outputs": []
    },
    {
      "cell_type": "markdown",
      "metadata": {
        "id": "vm_XnQfvnFQE",
        "colab_type": "text"
      },
      "source": [
        "Now, unlike CNNs, infer before testing."
      ]
    },
    {
      "cell_type": "code",
      "metadata": {
        "id": "5-Xp-lKKmiRI",
        "colab_type": "code",
        "colab": {}
      },
      "source": [
        "def infer(net, name):\n",
        "  net.eval() # put network in eval mode during inference (not train mode)\n",
        "  name_ohe = name_rep(name) # one hot encoding\n",
        "  hidden = net.init_hidden() # initialise hidden vector for first instance of RNN, using encapsulated function\n",
        "\n",
        "  # name_ohe size = (n_letters, 1, sizeofword)\n",
        "  # here, iterating through each character. For each character in OHE, invoking forward (\"net\")\n",
        "  for i in range(name_ohe.size()[0]):\n",
        "\n",
        "    # name_ohe[i] = a vector of first character of OHE of all letters in the word (since RNN always expects a vector - 1 dimension)\n",
        "    # note the instantiated hidden layer is used only once. Thereafter, the new computed hidden used each time\n",
        "    # \"output\" for each iteration is the output of FFNN of one RNN unit, for that iteration (thus, overwritten each time). Hence at end of word, \"output\" contains the output of the final unit of the RNN (answer)\n",
        "    \n",
        "    output, hidden = net(name_ohe[i], hidden)\n",
        "\n",
        "  return output"
      ],
      "execution_count": 0,
      "outputs": []
    },
    {
      "cell_type": "markdown",
      "metadata": {
        "id": "3K4ORDtlqp8_",
        "colab_type": "text"
      },
      "source": [
        "While inferring, an optimisation could be done, by removing softmax layer in the \"forward\" function of the model, since argmax will remain same before and after an argmax. It's only a computationally heavy operation."
      ]
    },
    {
      "cell_type": "code",
      "metadata": {
        "id": "uDUp1n1NpwRy",
        "colab_type": "code",
        "colab": {
          "base_uri": "https://localhost:8080/",
          "height": 108
        },
        "outputId": "ec5653b8-c118-47f3-a626-d2dfb17e6666"
      },
      "source": [
        "output = infer(net, X_train[0])\n",
        "\n",
        "print(X_train[0])\n",
        "\n",
        "# Softmax returned so argmax\n",
        "index = torch.argmax(output)\n",
        "print(output)\n",
        "print(index)"
      ],
      "execution_count": 34,
      "outputs": [
        {
          "output_type": "stream",
          "text": [
            "Kaufman\n",
            "tensor([[-3.0253, -2.9496, -2.7226, -2.7676, -2.7876, -2.8880, -2.8898, -2.9612,\n",
            "         -2.9226, -2.9314, -2.9943, -2.8570, -2.9803, -2.8965, -2.8943, -2.9274,\n",
            "         -2.7563, -2.9384]], grad_fn=<LogSoftmaxBackward>)\n",
            "tensor(2, grad_fn=<NotImplemented>)\n"
          ],
          "name": "stdout"
        }
      ]
    },
    {
      "cell_type": "markdown",
      "metadata": {
        "id": "yjYbVE7PrAVX",
        "colab_type": "text"
      },
      "source": [
        "Says Kaufman belongs to nationality of index 3.  \n",
        "Note: without training, outputs if all classes are roughly same - doesn't know how to differentiate yet."
      ]
    },
    {
      "cell_type": "code",
      "metadata": {
        "id": "rPiNVfDJqGmW",
        "colab_type": "code",
        "colab": {}
      },
      "source": [
        ""
      ],
      "execution_count": 0,
      "outputs": []
    },
    {
      "cell_type": "markdown",
      "metadata": {
        "id": "P539BqXQrgPH",
        "colab_type": "text"
      },
      "source": [
        "# Evaluate model"
      ]
    },
    {
      "cell_type": "code",
      "metadata": {
        "id": "iLd5PlQhrhD8",
        "colab_type": "code",
        "colab": {}
      },
      "source": [
        "# just to generate random inputs from the dataset since in the data, languages are present in an ordered manner\n",
        "def dataloader(npoints, X_, y_):\n",
        "  to_ret = []\n",
        "  for i in range(npoints):\n",
        "    index_ = np.random.randint(len(X_))\n",
        "    name, lang = X_[index_], y_[index_]\n",
        "    to_ret.append((name, lang, name_rep(name), lang_rep(lang))) # append() takes exactly one argument so append as tuple\n",
        "  return to_ret"
      ],
      "execution_count": 0,
      "outputs": []
    },
    {
      "cell_type": "code",
      "metadata": {
        "id": "q6zWhSohuEAe",
        "colab_type": "code",
        "colab": {
          "base_uri": "https://localhost:8080/",
          "height": 1000
        },
        "outputId": "ccd73907-de65-4431-aa26-ed025014312e"
      },
      "source": [
        "dataloader(2, X_train, y_train)"
      ],
      "execution_count": 41,
      "outputs": [
        {
          "output_type": "execute_result",
          "data": {
            "text/plain": [
              "[('Kouri',\n",
              "  'Arabic',\n",
              "  tensor([[[0., 0., 0., 0., 0., 0., 0., 0., 0., 0., 0., 0., 0., 0., 0., 0., 0.,\n",
              "            0., 0., 0., 0., 0., 0., 0., 0., 0., 0., 0., 0., 0., 0., 0., 0., 0.,\n",
              "            0., 0., 1., 0., 0., 0., 0., 0., 0., 0., 0., 0., 0., 0., 0., 0., 0.,\n",
              "            0., 0., 0., 0., 0.]],\n",
              "  \n",
              "          [[0., 0., 0., 0., 0., 0., 0., 0., 0., 0., 0., 0., 0., 0., 1., 0., 0.,\n",
              "            0., 0., 0., 0., 0., 0., 0., 0., 0., 0., 0., 0., 0., 0., 0., 0., 0.,\n",
              "            0., 0., 0., 0., 0., 0., 0., 0., 0., 0., 0., 0., 0., 0., 0., 0., 0.,\n",
              "            0., 0., 0., 0., 0.]],\n",
              "  \n",
              "          [[0., 0., 0., 0., 0., 0., 0., 0., 0., 0., 0., 0., 0., 0., 0., 0., 0.,\n",
              "            0., 0., 0., 1., 0., 0., 0., 0., 0., 0., 0., 0., 0., 0., 0., 0., 0.,\n",
              "            0., 0., 0., 0., 0., 0., 0., 0., 0., 0., 0., 0., 0., 0., 0., 0., 0.,\n",
              "            0., 0., 0., 0., 0.]],\n",
              "  \n",
              "          [[0., 0., 0., 0., 0., 0., 0., 0., 0., 0., 0., 0., 0., 0., 0., 0., 0.,\n",
              "            1., 0., 0., 0., 0., 0., 0., 0., 0., 0., 0., 0., 0., 0., 0., 0., 0.,\n",
              "            0., 0., 0., 0., 0., 0., 0., 0., 0., 0., 0., 0., 0., 0., 0., 0., 0.,\n",
              "            0., 0., 0., 0., 0.]],\n",
              "  \n",
              "          [[0., 0., 0., 0., 0., 0., 0., 0., 1., 0., 0., 0., 0., 0., 0., 0., 0.,\n",
              "            0., 0., 0., 0., 0., 0., 0., 0., 0., 0., 0., 0., 0., 0., 0., 0., 0.,\n",
              "            0., 0., 0., 0., 0., 0., 0., 0., 0., 0., 0., 0., 0., 0., 0., 0., 0.,\n",
              "            0., 0., 0., 0., 0.]]]),\n",
              "  tensor([15])),\n",
              " ('Church',\n",
              "  'English',\n",
              "  tensor([[[0., 0., 0., 0., 0., 0., 0., 0., 0., 0., 0., 0., 0., 0., 0., 0., 0.,\n",
              "            0., 0., 0., 0., 0., 0., 0., 0., 0., 0., 0., 1., 0., 0., 0., 0., 0.,\n",
              "            0., 0., 0., 0., 0., 0., 0., 0., 0., 0., 0., 0., 0., 0., 0., 0., 0.,\n",
              "            0., 0., 0., 0., 0.]],\n",
              "  \n",
              "          [[0., 0., 0., 0., 0., 0., 0., 1., 0., 0., 0., 0., 0., 0., 0., 0., 0.,\n",
              "            0., 0., 0., 0., 0., 0., 0., 0., 0., 0., 0., 0., 0., 0., 0., 0., 0.,\n",
              "            0., 0., 0., 0., 0., 0., 0., 0., 0., 0., 0., 0., 0., 0., 0., 0., 0.,\n",
              "            0., 0., 0., 0., 0.]],\n",
              "  \n",
              "          [[0., 0., 0., 0., 0., 0., 0., 0., 0., 0., 0., 0., 0., 0., 0., 0., 0.,\n",
              "            0., 0., 0., 1., 0., 0., 0., 0., 0., 0., 0., 0., 0., 0., 0., 0., 0.,\n",
              "            0., 0., 0., 0., 0., 0., 0., 0., 0., 0., 0., 0., 0., 0., 0., 0., 0.,\n",
              "            0., 0., 0., 0., 0.]],\n",
              "  \n",
              "          [[0., 0., 0., 0., 0., 0., 0., 0., 0., 0., 0., 0., 0., 0., 0., 0., 0.,\n",
              "            1., 0., 0., 0., 0., 0., 0., 0., 0., 0., 0., 0., 0., 0., 0., 0., 0.,\n",
              "            0., 0., 0., 0., 0., 0., 0., 0., 0., 0., 0., 0., 0., 0., 0., 0., 0.,\n",
              "            0., 0., 0., 0., 0.]],\n",
              "  \n",
              "          [[0., 0., 1., 0., 0., 0., 0., 0., 0., 0., 0., 0., 0., 0., 0., 0., 0.,\n",
              "            0., 0., 0., 0., 0., 0., 0., 0., 0., 0., 0., 0., 0., 0., 0., 0., 0.,\n",
              "            0., 0., 0., 0., 0., 0., 0., 0., 0., 0., 0., 0., 0., 0., 0., 0., 0.,\n",
              "            0., 0., 0., 0., 0.]],\n",
              "  \n",
              "          [[0., 0., 0., 0., 0., 0., 0., 1., 0., 0., 0., 0., 0., 0., 0., 0., 0.,\n",
              "            0., 0., 0., 0., 0., 0., 0., 0., 0., 0., 0., 0., 0., 0., 0., 0., 0.,\n",
              "            0., 0., 0., 0., 0., 0., 0., 0., 0., 0., 0., 0., 0., 0., 0., 0., 0.,\n",
              "            0., 0., 0., 0., 0.]]]),\n",
              "  tensor([12]))]"
            ]
          },
          "metadata": {
            "tags": []
          },
          "execution_count": 41
        }
      ]
    },
    {
      "cell_type": "markdown",
      "metadata": {
        "id": "3QHufzt9uOAl",
        "colab_type": "text"
      },
      "source": [
        "Output: Name, lang, name_enc, lang_enc"
      ]
    },
    {
      "cell_type": "code",
      "metadata": {
        "id": "BFPNrTg2sa0X",
        "colab_type": "code",
        "colab": {}
      },
      "source": [
        "# Generally classification eval done using top-k accuracy (ground truth in top-k predictions)\n",
        "def eval(net, n_points, k, X_, y_):\n",
        "\n",
        "  data_ = dataloader(n_points, X_, y)\n",
        "  correct = 0\n",
        "\n",
        "  for name, language, name_ohe, lang_rep in data_:\n",
        "\n",
        "    output = infer(net, name)\n",
        "    val, indices = output.topk(k) # topk - PyTorch function\n",
        "\n",
        "    if lang_rep in indices:\n",
        "      correct +=1\n",
        "\n",
        "  accuracy = correct/n_points\n",
        "  return accuracy"
      ],
      "execution_count": 0,
      "outputs": []
    },
    {
      "cell_type": "code",
      "metadata": {
        "id": "8_QNY5MKtSAW",
        "colab_type": "code",
        "colab": {
          "base_uri": "https://localhost:8080/",
          "height": 35
        },
        "outputId": "3c87dc73-3397-4598-e65a-ca5389bfcf4e"
      },
      "source": [
        "eval(net, 100, 1, X_test, y_test)"
      ],
      "execution_count": 46,
      "outputs": [
        {
          "output_type": "execute_result",
          "data": {
            "text/plain": [
              "0.06"
            ]
          },
          "metadata": {
            "tags": []
          },
          "execution_count": 46
        }
      ]
    },
    {
      "cell_type": "code",
      "metadata": {
        "id": "lJ41yysLtdMW",
        "colab_type": "code",
        "colab": {
          "base_uri": "https://localhost:8080/",
          "height": 35
        },
        "outputId": "5907e014-910a-4925-e792-09c264918b18"
      },
      "source": [
        "eval(net, 100, 10, X_test, y_test)"
      ],
      "execution_count": 47,
      "outputs": [
        {
          "output_type": "execute_result",
          "data": {
            "text/plain": [
              "0.51"
            ]
          },
          "metadata": {
            "tags": []
          },
          "execution_count": 47
        }
      ]
    },
    {
      "cell_type": "markdown",
      "metadata": {
        "id": "Qp7NVin7vCvJ",
        "colab_type": "text"
      },
      "source": [
        "Obviously greater for higher k since almost all languages predicted"
      ]
    },
    {
      "cell_type": "code",
      "metadata": {
        "id": "M5-A_qHfu-Kr",
        "colab_type": "code",
        "colab": {}
      },
      "source": [
        ""
      ],
      "execution_count": 0,
      "outputs": []
    },
    {
      "cell_type": "markdown",
      "metadata": {
        "id": "d_QJlZCjvdr_",
        "colab_type": "text"
      },
      "source": [
        "# Training"
      ]
    },
    {
      "cell_type": "markdown",
      "metadata": {
        "id": "AQGh8fh5viuQ",
        "colab_type": "text"
      },
      "source": [
        "### Basic setup"
      ]
    },
    {
      "cell_type": "markdown",
      "metadata": {
        "id": "QE7phZSHvkrw",
        "colab_type": "text"
      },
      "source": [
        "Define loss function and backpropagation  \n"
      ]
    },
    {
      "cell_type": "markdown",
      "metadata": {
        "id": "LOSQ3zox1mYE",
        "colab_type": "text"
      },
      "source": [
        "Computing output several times and then backpropagating through them. Thus, going through same network many times. But all this book keeping (of all params) done for us by PyTorch."
      ]
    },
    {
      "cell_type": "code",
      "metadata": {
        "id": "ZO8qrxlbveUq",
        "colab_type": "code",
        "colab": {}
      },
      "source": [
        "def train(net, opt, criterion, n_points): # criterion = loss function\n",
        "\n",
        "  # set all params to 0, in case they were retained from an earlier training\n",
        "  opt.zero_grad()\n",
        "  total_loss = 0\n",
        "\n",
        "  # choose random points\n",
        "  data_ = dataloader(n_points, X_train, y_train)\n",
        "\n",
        "  for name, language, name_ohe, lang_rep in data_:\n",
        "\n",
        "    hidden = net.init_hidden()\n",
        "\n",
        "    # pass each character\n",
        "    # creating computational graph (i.e. the params, output for each individual unit of the RNN - all being stored by PyTorch). While backpropagating, we backpropagate through all of these\n",
        "    for i in range(name_ohe.size()[0]):\n",
        "      output, hidden = net(name_ohe[i], hidden)\n",
        "\n",
        "    loss = criterion(output, lang_rep)\n",
        "\n",
        "    # computing gradients (a LOT done in this step behind scenes)\n",
        "    loss.backward(retain_graph = True)\n",
        "\n",
        "    total_loss += loss\n",
        "\n",
        "  # update params using the grad computed using loss.backward \n",
        "  # Just one step here\n",
        "  opt.step()\n",
        "\n",
        "  # divide since we aggregated loss for all points\n",
        "  return total_loss/n_points"
      ],
      "execution_count": 0,
      "outputs": []
    },
    {
      "cell_type": "markdown",
      "metadata": {
        "id": "wiW7TjEXzFRy",
        "colab_type": "text"
      },
      "source": [
        "The above is for one batch of n_points. For all these points, computing one set of gradients and updating only once."
      ]
    },
    {
      "cell_type": "code",
      "metadata": {
        "id": "qifhCnx6w5BX",
        "colab_type": "code",
        "colab": {}
      },
      "source": [
        "criterion = nn.NLLLoss() # negative log likelihood loss because using softmax\n",
        "opt = optim.SGD(net.parameters(), lr = 0.01, momentum = 0.9)"
      ],
      "execution_count": 0,
      "outputs": []
    },
    {
      "cell_type": "code",
      "metadata": {
        "id": "2PkgkUnSxE7D",
        "colab_type": "code",
        "colab": {
          "base_uri": "https://localhost:8080/",
          "height": 72
        },
        "outputId": "8f0f967c-0551-45db-a459-ab2c7ed4e0cf"
      },
      "source": [
        "%%time\n",
        "train(net, opt, criterion, 200)"
      ],
      "execution_count": 59,
      "outputs": [
        {
          "output_type": "stream",
          "text": [
            "CPU times: user 269 ms, sys: 11.6 ms, total: 281 ms\n",
            "Wall time: 299 ms\n"
          ],
          "name": "stdout"
        },
        {
          "output_type": "execute_result",
          "data": {
            "text/plain": [
              "tensor(2.2162, grad_fn=<DivBackward0>)"
            ]
          },
          "metadata": {
            "tags": []
          },
          "execution_count": 59
        }
      ]
    },
    {
      "cell_type": "code",
      "metadata": {
        "id": "sz8eD2Shz0So",
        "colab_type": "code",
        "colab": {
          "base_uri": "https://localhost:8080/",
          "height": 35
        },
        "outputId": "8e669152-35e5-4c19-bb87-8d428f60c0c3"
      },
      "source": [
        "# Top-1\n",
        "eval(net, 1000, 1, X_test, y_test)"
      ],
      "execution_count": 62,
      "outputs": [
        {
          "output_type": "execute_result",
          "data": {
            "text/plain": [
              "0.0"
            ]
          },
          "metadata": {
            "tags": []
          },
          "execution_count": 62
        }
      ]
    },
    {
      "cell_type": "code",
      "metadata": {
        "id": "6YDbTfrm0FDH",
        "colab_type": "code",
        "colab": {}
      },
      "source": [
        ""
      ],
      "execution_count": 0,
      "outputs": []
    },
    {
      "cell_type": "markdown",
      "metadata": {
        "id": "4guzIp-u2J2F",
        "colab_type": "text"
      },
      "source": [
        "### Full training setup"
      ]
    },
    {
      "cell_type": "code",
      "metadata": {
        "id": "gE39Kc3b2LiW",
        "colab_type": "code",
        "colab": {}
      },
      "source": [
        "def train_setup(net, lr = 0.01, n_batches = 100, batch_size = 10, momentum = 0.9, display_freq = 5):\n",
        "\n",
        "  criterion = nn.NLLLoss()\n",
        "  opt = optim.SGD(net.parameters(), lr = lr, momentum = momentum)\n",
        "\n",
        "  loss_arr = np.zeros(n_batches + 1)\n",
        "\n",
        "  for i in range(n_batches):\n",
        "    loss_arr[i+1] = (loss_arr[i]*i + train(net, opt, criterion, batch_size))/(i+1)\n",
        "\n",
        "    if i%display_fre == display_freq-1:\n",
        "      clear_output(wait=True)\n",
        "\n",
        "      print(\"Iteration\",i,\"Top-1\", eval(net, len(X_test), 1, X_test, y_test), \"Top-2\", eval(net, len(X_test), 1, X_test, y_test))\n",
        "\n",
        "      plt.figure()\n",
        "      plt.plot(loss_arr[l:i], '=*')\n",
        "      plt.xlabel('Iteration')\n",
        "      plt.ylabel('Loss')\n",
        "      plt.show()\n",
        "      print(\"\\n\\n\")\n",
        "      "
      ],
      "execution_count": 0,
      "outputs": []
    },
    {
      "cell_type": "code",
      "metadata": {
        "id": "TuBLOl9r3iiC",
        "colab_type": "code",
        "colab": {}
      },
      "source": [
        "n_hidden = 128\n",
        "net = RNN_net(n_letters, n_hidden, n_languages)\n",
        "train_setup(net, lr = 0.0005, n_batches = 100, batch_size = 256)"
      ],
      "execution_count": 0,
      "outputs": []
    }
  ]
}