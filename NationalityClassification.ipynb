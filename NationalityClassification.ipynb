{
  "nbformat": 4,
  "nbformat_minor": 0,
  "metadata": {
    "colab": {
      "name": "NationalityClassification.ipynb",
      "provenance": [],
      "collapsed_sections": [],
      "toc_visible": true,
      "authorship_tag": "ABX9TyMBPvOA/U6PE2YosER7JtJK"
    },
    "kernelspec": {
      "name": "python3",
      "display_name": "Python 3"
    },
    "accelerator": "GPU"
  },
  "cells": [
    {
      "cell_type": "markdown",
      "metadata": {
        "id": "OV18TKQogbtd"
      },
      "source": [
        "# Predict the nationality a name belongs to"
      ]
    },
    {
      "cell_type": "code",
      "metadata": {
        "id": "JseoduTJFYcx"
      },
      "source": [
        "from io import open\n",
        "import os, string, random, time, math\n",
        "import matplotlib.pyplot as plt\n",
        "import seaborn as sns\n",
        "import numpy as np"
      ],
      "execution_count": 1,
      "outputs": []
    },
    {
      "cell_type": "code",
      "metadata": {
        "id": "gX5B2pjlFzEf"
      },
      "source": [
        "from sklearn.model_selection import train_test_split"
      ],
      "execution_count": 2,
      "outputs": []
    },
    {
      "cell_type": "code",
      "metadata": {
        "id": "xHysBclRF27-"
      },
      "source": [
        "import torch\n",
        "import torch.nn as nn\n",
        "import torch.optim as optim"
      ],
      "execution_count": 3,
      "outputs": []
    },
    {
      "cell_type": "code",
      "metadata": {
        "id": "As0Y_XQPF9aV"
      },
      "source": [
        "from IPython.display import clear_output # clears output of cell, say to show multiple plots but show only most recent one"
      ],
      "execution_count": 4,
      "outputs": []
    },
    {
      "cell_type": "markdown",
      "metadata": {
        "id": "MOJxIp9CGfPo"
      },
      "source": [
        "# Dataset"
      ]
    },
    {
      "cell_type": "markdown",
      "metadata": {
        "id": "suHpYDj-Gl0s"
      },
      "source": [
        "Task : Sequence Classification"
      ]
    },
    {
      "cell_type": "code",
      "metadata": {
        "id": "rJYssHQlGf8H"
      },
      "source": [
        ""
      ],
      "execution_count": 4,
      "outputs": []
    },
    {
      "cell_type": "code",
      "metadata": {
        "id": "Iwi82u7QICNW"
      },
      "source": [
        "languages = []\n",
        "data = []\n",
        "X = []\n",
        "y = []\n",
        "\n",
        "with open('name2lang.txt','r') as f:\n",
        "  for line in f:\n",
        "    line = line.split(',')\n",
        "    name = line[0].strip()\n",
        "    lang = line[1].strip()\n",
        "    if not lang in languages:\n",
        "      languages.append(lang)\n",
        "    X.append(name)\n",
        "    y.append(lang)\n",
        "    data.append((name, lang))"
      ],
      "execution_count": 6,
      "outputs": []
    },
    {
      "cell_type": "code",
      "metadata": {
        "id": "QIyM_zA-JQuL",
        "outputId": "be6eaf5c-1876-46fb-bb22-d0e58f7a1d3e",
        "colab": {
          "base_uri": "https://localhost:8080/",
          "height": 34
        }
      },
      "source": [
        "n_languages = len(languages)\n",
        "print(n_languages)"
      ],
      "execution_count": 7,
      "outputs": [
        {
          "output_type": "stream",
          "text": [
            "18\n"
          ],
          "name": "stdout"
        }
      ]
    },
    {
      "cell_type": "markdown",
      "metadata": {
        "id": "yZnqf841JYn_"
      },
      "source": [
        "There are 18 languages in this dataset."
      ]
    },
    {
      "cell_type": "code",
      "metadata": {
        "id": "Ba1oJ1DQJwD7",
        "outputId": "9328af52-40dd-4f2d-d365-9c8f667d41d6",
        "colab": {
          "base_uri": "https://localhost:8080/",
          "height": 54
        }
      },
      "source": [
        "print(languages)"
      ],
      "execution_count": 8,
      "outputs": [
        {
          "output_type": "stream",
          "text": [
            "['Portuguese', 'Irish', 'Spanish', 'Vietnamese', 'Chinese', 'Greek', 'Czech', 'Dutch', 'Japanese', 'French', 'German', 'Scottish', 'English', 'Russian', 'Polish', 'Arabic', 'Korean', 'Italian']\n"
          ],
          "name": "stdout"
        }
      ]
    },
    {
      "cell_type": "code",
      "metadata": {
        "id": "hjRUUc78JW6Q",
        "outputId": "8a8d7182-ff6f-4b23-ee76-a6f576627bf4",
        "colab": {
          "base_uri": "https://localhost:8080/",
          "height": 54
        }
      },
      "source": [
        "print(data[0:10])"
      ],
      "execution_count": 9,
      "outputs": [
        {
          "output_type": "stream",
          "text": [
            "[('Abreu', 'Portuguese'), ('Albuquerque', 'Portuguese'), ('Almeida', 'Portuguese'), ('Alves', 'Portuguese'), ('Araujo', 'Portuguese'), ('Araullo', 'Portuguese'), ('Barros', 'Portuguese'), ('Basurto', 'Portuguese'), ('Belo', 'Portuguese'), ('Cabral', 'Portuguese')]\n"
          ],
          "name": "stdout"
        }
      ]
    },
    {
      "cell_type": "code",
      "metadata": {
        "id": "moN5zPJ-JiSf"
      },
      "source": [
        ""
      ],
      "execution_count": 9,
      "outputs": []
    },
    {
      "cell_type": "markdown",
      "metadata": {
        "id": "VIZZk9K3J30c"
      },
      "source": [
        "# Train-test split"
      ]
    },
    {
      "cell_type": "code",
      "metadata": {
        "id": "HL7IevTbJ4Nt"
      },
      "source": [
        "X_train, X_test, y_train, y_test = train_test_split(X, y, test_size = 0.2, random_state = 61, stratify = y)"
      ],
      "execution_count": 10,
      "outputs": []
    },
    {
      "cell_type": "markdown",
      "metadata": {
        "id": "S_PdNkrFK1ac"
      },
      "source": [
        "(Both X and y should have the same dimensions)"
      ]
    },
    {
      "cell_type": "code",
      "metadata": {
        "id": "hNLNGqZnKSne",
        "outputId": "6f2d2334-6213-4530-c602-b69f66e41712",
        "colab": {
          "base_uri": "https://localhost:8080/",
          "height": 54
        }
      },
      "source": [
        "print(X_train[:20])"
      ],
      "execution_count": 11,
      "outputs": [
        {
          "output_type": "stream",
          "text": [
            "['Kaufman', 'Chandler', 'Agar', 'Essa', 'Makhagonov', 'Prokudin', 'Porus', 'Lowry', 'Nezvigin', 'Cove', 'Peach', 'Newlands', 'Bajov', 'Chukhnovsky', 'Naser', 'Gaspirovich', 'Vykhodtsev', 'Chuvilkin', 'Maksimchuk', 'Dandy']\n"
          ],
          "name": "stdout"
        }
      ]
    },
    {
      "cell_type": "code",
      "metadata": {
        "id": "BaisbKIhLBXY",
        "outputId": "089f4776-a179-4ed4-b543-af91341d17f6",
        "colab": {
          "base_uri": "https://localhost:8080/",
          "height": 34
        }
      },
      "source": [
        "print(len(X_train), len(X_test))"
      ],
      "execution_count": 12,
      "outputs": [
        {
          "output_type": "stream",
          "text": [
            "16040 4010\n"
          ],
          "name": "stdout"
        }
      ]
    },
    {
      "cell_type": "code",
      "metadata": {
        "id": "CXYqNsBxLFRn"
      },
      "source": [
        ""
      ],
      "execution_count": 12,
      "outputs": []
    },
    {
      "cell_type": "markdown",
      "metadata": {
        "id": "tBn7lQ90LMiJ"
      },
      "source": [
        "# Encoding names and languages"
      ]
    },
    {
      "cell_type": "markdown",
      "metadata": {
        "id": "jad2LUTILVh0"
      },
      "source": [
        "Since output is a class, can use just nationality number (label) for encoding.  \n",
        "But input is a sequence, so have to encode each character using one hot encoding."
      ]
    },
    {
      "cell_type": "code",
      "metadata": {
        "id": "xRYjpnk5LOnl"
      },
      "source": [
        "# list of all characters possible in a name\n",
        "all_letters = string.ascii_letters + \" .,;\"\n",
        "n_letters = len(all_letters)"
      ],
      "execution_count": 13,
      "outputs": []
    },
    {
      "cell_type": "markdown",
      "metadata": {
        "id": "Bx61BiXULyBU"
      },
      "source": [
        "Encode the name"
      ]
    },
    {
      "cell_type": "code",
      "metadata": {
        "id": "o3DE9m7GLrBu"
      },
      "source": [
        "# Let encoding be one hot encoding for each character, where the hot bit is the index of the char in the above string of all letters\n",
        "def name_rep(name):\n",
        "  rep = torch.zeros(len(name), 1, n_letters)\n",
        "  for index, letter in enumerate(name):\n",
        "    pos = all_letters.find(letter)\n",
        "    rep[index][0][pos] = 1\n",
        "  return rep"
      ],
      "execution_count": 14,
      "outputs": []
    },
    {
      "cell_type": "markdown",
      "metadata": {
        "id": "XbUw7ngUMt_Z"
      },
      "source": [
        "Encode the language"
      ]
    },
    {
      "cell_type": "code",
      "metadata": {
        "id": "IXRpPvQfMV1E"
      },
      "source": [
        "# Don't require one hot encoding, just label sufficient\n",
        "def lang_rep(lang):\n",
        "  return torch.tensor([languages.index(lang)], dtype = torch.long)"
      ],
      "execution_count": 15,
      "outputs": []
    },
    {
      "cell_type": "code",
      "metadata": {
        "id": "uOnKrgj3M_cW",
        "outputId": "551145f3-ec82-453c-a22f-c2d5c08d48c5",
        "colab": {
          "base_uri": "https://localhost:8080/",
          "height": 615
        }
      },
      "source": [
        "name_rep('Almeida')"
      ],
      "execution_count": 16,
      "outputs": [
        {
          "output_type": "execute_result",
          "data": {
            "text/plain": [
              "tensor([[[0., 0., 0., 0., 0., 0., 0., 0., 0., 0., 0., 0., 0., 0., 0., 0., 0.,\n",
              "          0., 0., 0., 0., 0., 0., 0., 0., 0., 1., 0., 0., 0., 0., 0., 0., 0.,\n",
              "          0., 0., 0., 0., 0., 0., 0., 0., 0., 0., 0., 0., 0., 0., 0., 0., 0.,\n",
              "          0., 0., 0., 0., 0.]],\n",
              "\n",
              "        [[0., 0., 0., 0., 0., 0., 0., 0., 0., 0., 0., 1., 0., 0., 0., 0., 0.,\n",
              "          0., 0., 0., 0., 0., 0., 0., 0., 0., 0., 0., 0., 0., 0., 0., 0., 0.,\n",
              "          0., 0., 0., 0., 0., 0., 0., 0., 0., 0., 0., 0., 0., 0., 0., 0., 0.,\n",
              "          0., 0., 0., 0., 0.]],\n",
              "\n",
              "        [[0., 0., 0., 0., 0., 0., 0., 0., 0., 0., 0., 0., 1., 0., 0., 0., 0.,\n",
              "          0., 0., 0., 0., 0., 0., 0., 0., 0., 0., 0., 0., 0., 0., 0., 0., 0.,\n",
              "          0., 0., 0., 0., 0., 0., 0., 0., 0., 0., 0., 0., 0., 0., 0., 0., 0.,\n",
              "          0., 0., 0., 0., 0.]],\n",
              "\n",
              "        [[0., 0., 0., 0., 1., 0., 0., 0., 0., 0., 0., 0., 0., 0., 0., 0., 0.,\n",
              "          0., 0., 0., 0., 0., 0., 0., 0., 0., 0., 0., 0., 0., 0., 0., 0., 0.,\n",
              "          0., 0., 0., 0., 0., 0., 0., 0., 0., 0., 0., 0., 0., 0., 0., 0., 0.,\n",
              "          0., 0., 0., 0., 0.]],\n",
              "\n",
              "        [[0., 0., 0., 0., 0., 0., 0., 0., 1., 0., 0., 0., 0., 0., 0., 0., 0.,\n",
              "          0., 0., 0., 0., 0., 0., 0., 0., 0., 0., 0., 0., 0., 0., 0., 0., 0.,\n",
              "          0., 0., 0., 0., 0., 0., 0., 0., 0., 0., 0., 0., 0., 0., 0., 0., 0.,\n",
              "          0., 0., 0., 0., 0.]],\n",
              "\n",
              "        [[0., 0., 0., 1., 0., 0., 0., 0., 0., 0., 0., 0., 0., 0., 0., 0., 0.,\n",
              "          0., 0., 0., 0., 0., 0., 0., 0., 0., 0., 0., 0., 0., 0., 0., 0., 0.,\n",
              "          0., 0., 0., 0., 0., 0., 0., 0., 0., 0., 0., 0., 0., 0., 0., 0., 0.,\n",
              "          0., 0., 0., 0., 0.]],\n",
              "\n",
              "        [[1., 0., 0., 0., 0., 0., 0., 0., 0., 0., 0., 0., 0., 0., 0., 0., 0.,\n",
              "          0., 0., 0., 0., 0., 0., 0., 0., 0., 0., 0., 0., 0., 0., 0., 0., 0.,\n",
              "          0., 0., 0., 0., 0., 0., 0., 0., 0., 0., 0., 0., 0., 0., 0., 0., 0.,\n",
              "          0., 0., 0., 0., 0.]]])"
            ]
          },
          "metadata": {
            "tags": []
          },
          "execution_count": 16
        }
      ]
    },
    {
      "cell_type": "markdown",
      "metadata": {
        "id": "vaYe84s3NaHG"
      },
      "source": [
        "7 letters in name, so 7 vectors"
      ]
    },
    {
      "cell_type": "code",
      "metadata": {
        "id": "lUMWrn8GNEtq",
        "outputId": "d432392b-7acc-4a25-c07c-0e5006820586",
        "colab": {
          "base_uri": "https://localhost:8080/",
          "height": 34
        }
      },
      "source": [
        "lang_rep('Dutch')"
      ],
      "execution_count": 17,
      "outputs": [
        {
          "output_type": "execute_result",
          "data": {
            "text/plain": [
              "tensor([7])"
            ]
          },
          "metadata": {
            "tags": []
          },
          "execution_count": 17
        }
      ]
    },
    {
      "cell_type": "markdown",
      "metadata": {
        "id": "RIVBLiX0Ni2Q"
      },
      "source": [
        "Label of Dutch in languages array"
      ]
    },
    {
      "cell_type": "code",
      "metadata": {
        "id": "sLnwCHSSNRQ5"
      },
      "source": [
        ""
      ],
      "execution_count": 17,
      "outputs": []
    },
    {
      "cell_type": "markdown",
      "metadata": {
        "id": "yCqYCaSdNrkg"
      },
      "source": [
        "# Basic Visualisation"
      ]
    },
    {
      "cell_type": "markdown",
      "metadata": {
        "id": "jKEVu3G4Nzo9"
      },
      "source": [
        "Distribution of languages in our dataset"
      ]
    },
    {
      "cell_type": "code",
      "metadata": {
        "id": "gVLJnDUrNs9b"
      },
      "source": [
        "count = {}\n",
        "\n",
        "for l in languages:\n",
        "  count[l] = 0\n",
        "for d in data:\n",
        "  count[d[1]] += 1"
      ],
      "execution_count": 18,
      "outputs": []
    },
    {
      "cell_type": "code",
      "metadata": {
        "id": "VRJA48r3N_oo",
        "outputId": "7413149e-111f-4f80-cbfb-85c049b0c76c",
        "colab": {
          "base_uri": "https://localhost:8080/",
          "height": 54
        }
      },
      "source": [
        "print(count)"
      ],
      "execution_count": 19,
      "outputs": [
        {
          "output_type": "stream",
          "text": [
            "{'Portuguese': 74, 'Irish': 232, 'Spanish': 298, 'Vietnamese': 73, 'Chinese': 268, 'Greek': 203, 'Czech': 519, 'Dutch': 297, 'Japanese': 991, 'French': 277, 'German': 724, 'Scottish': 100, 'English': 3668, 'Russian': 9384, 'Polish': 139, 'Arabic': 2000, 'Korean': 94, 'Italian': 709}\n"
          ],
          "name": "stdout"
        }
      ]
    },
    {
      "cell_type": "markdown",
      "metadata": {
        "id": "NkSI0f0COErW"
      },
      "source": [
        "Highly non-uniform"
      ]
    },
    {
      "cell_type": "code",
      "metadata": {
        "id": "p-uNbA3HOAfC",
        "outputId": "14f5798f-52b9-4707-dbe1-c7850a7da7bb",
        "colab": {
          "base_uri": "https://localhost:8080/",
          "height": 370
        }
      },
      "source": [
        "plt_ = sns.barplot(list(count.keys()), list(count.values()))\n",
        "plt_.set_xticklabels(plt_.get_xticklabels(), rotation = 90)\n",
        "plt.show()"
      ],
      "execution_count": 20,
      "outputs": [
        {
          "output_type": "stream",
          "text": [
            "/usr/local/lib/python3.6/dist-packages/seaborn/_decorators.py:43: FutureWarning: Pass the following variables as keyword args: x, y. From version 0.12, the only valid positional argument will be `data`, and passing other arguments without an explicit keyword will result in an error or misinterpretation.\n",
            "  FutureWarning\n"
          ],
          "name": "stderr"
        },
        {
          "output_type": "display_data",
          "data": {
            "image/png": "[encoded data removed]",
            "text/plain": [
              "<Figure size 432x288 with 1 Axes>"
            ]
          },
          "metadata": {
            "tags": [],
            "needs_background": "light"
          }
        }
      ]
    },
    {
      "cell_type": "markdown",
      "metadata": {
        "id": "HDtdhBFxOxMx"
      },
      "source": [
        "Model might learn Russian names too well and predict them well since lots of data, but less training on the rest (available data mostly has Russians).  \n",
        "Hence, have to see not the overall accuracy, but accuracy for each language."
      ]
    },
    {
      "cell_type": "markdown",
      "metadata": {
        "id": "PEvPNdeFPK6Q"
      },
      "source": [
        "Therefore, baseline is not to pick names from each language equally, but pick according to the distribution, more for Russian."
      ]
    },
    {
      "cell_type": "markdown",
      "metadata": {
        "id": "n4wZ2VSPPZwb"
      },
      "source": [
        "Thus, baseline testing is easy, but training isn't"
      ]
    },
    {
      "cell_type": "code",
      "metadata": {
        "id": "58IbURhoOa1z"
      },
      "source": [
        ""
      ],
      "execution_count": 20,
      "outputs": []
    },
    {
      "cell_type": "markdown",
      "metadata": {
        "id": "IF2otzAwPVfh"
      },
      "source": [
        "# Basic network and testing inference"
      ]
    },
    {
      "cell_type": "code",
      "metadata": {
        "id": "lJDvL-wkPYoy"
      },
      "source": [
        "class RNN_net(nn.Module):\n",
        "  # just setting up layers, not computing anything\n",
        "  # input_size : size of encoding of one character in the input (i.e. number of letters, here)\n",
        "  # hidden_size : the hidden layer though looks like one (for a single unit of the RNN) can be any number of layers\n",
        "  # output_size : the number of labels (number of languages, here)\n",
        "\n",
        "  # the entire below thing forms one unit of the RNN\n",
        "  def __init__(self, input_size, hidden_size, output_size):\n",
        "    super(RNN_net, self).__init__() # parent's (NN's) init\n",
        "    self.hidden_size = hidden_size\n",
        "\n",
        "    # both below are Linear (fully connected)\n",
        "    self.i2h = nn.Linear(input_size + hidden_size, hidden_size) \n",
        "    self.i2o = nn.Linear(input_size + hidden_size, output_size)\n",
        "\n",
        "    # Note only 1 layer used for both above transformations, but can have more\n",
        "    \n",
        "    # Output (for sequence classification, this softmax layer's output is ignored for all stages except the final one)\n",
        "    self.softmax = nn.LogSoftmax(dim = 1)\n",
        "\n",
        "\n",
        "  # where layers are put to use\n",
        "  def forward(self, input_, hidden):\n",
        "    combined = torch.cat((input_, hidden), 1)\n",
        "    hidden = self.i2h(combined) # compute hidden value (state)\n",
        "    output = self.i2o(combined) # compute output (not used anywhere except in final stage for this task)\n",
        "    output = self.softmax(output) # compute softmax\n",
        "    return output, hidden # return both output and hidden\n",
        "\n",
        "  # the first time (beginning of sequence) the hidden vector is not present, so call this function the first time\n",
        "  def init_hidden(self):\n",
        "    return torch.zeros(1, self.hidden_size) # Randomly initialised to 1, can use something else too"
      ],
      "execution_count": 21,
      "outputs": []
    },
    {
      "cell_type": "markdown",
      "metadata": {
        "id": "67vAe0Kblyty"
      },
      "source": [
        "Now, instantiate model (hyperparameters)"
      ]
    },
    {
      "cell_type": "code",
      "metadata": {
        "id": "bkXTHyqYlyWy"
      },
      "source": [
        "# number of hidden layers\n",
        "n_hidden = 128 # compromise between overfitting and having less data"
      ],
      "execution_count": 22,
      "outputs": []
    },
    {
      "cell_type": "code",
      "metadata": {
        "id": "K57M2vKNTrrx"
      },
      "source": [
        "net = RNN_net(n_letters, n_hidden, n_languages)"
      ],
      "execution_count": 23,
      "outputs": []
    },
    {
      "cell_type": "markdown",
      "metadata": {
        "id": "vm_XnQfvnFQE"
      },
      "source": [
        "Now, unlike CNNs, infer before testing."
      ]
    },
    {
      "cell_type": "code",
      "metadata": {
        "id": "5-Xp-lKKmiRI"
      },
      "source": [
        "def infer(net, name):\n",
        "  net.eval() # put network in eval mode during inference (not train mode - where training happens)\n",
        "  name_ohe = name_rep(name) # one hot encoding\n",
        "  hidden = net.init_hidden() # initialise hidden vector for first instance of RNN, using encapsulated function\n",
        "\n",
        "  # name_ohe dimensions = (n_letters, 1, sizeofword)\n",
        "  # here, iterating through each character. For each character in OHE, invoking forward (\"net\")\n",
        "  for i in range(name_ohe.size()[0]):\n",
        "    \n",
        "    output, hidden = net(name_ohe[i], hidden)\n",
        "\n",
        "  return output"
      ],
      "execution_count": 24,
      "outputs": []
    },
    {
      "cell_type": "markdown",
      "metadata": {
        "id": "3K4ORDtlqp8_"
      },
      "source": [
        "While inferring, an optimisation could be done, by removing softmax layer in the \"forward\" function of the model, since argmax will remain same before and after an argmax. It's only a computationally heavy operation."
      ]
    },
    {
      "cell_type": "code",
      "metadata": {
        "id": "uDUp1n1NpwRy",
        "outputId": "83354fb8-8f46-4557-f159-bd9510e480fa",
        "colab": {
          "base_uri": "https://localhost:8080/",
          "height": 105
        }
      },
      "source": [
        "output = infer(net, X_train[0]) # distribution over all classes (nationalities)\n",
        "\n",
        "print(X_train[0])\n",
        "\n",
        "# Softmax returned so argmax\n",
        "index = torch.argmax(output)\n",
        "print(output)\n",
        "print(index)"
      ],
      "execution_count": 25,
      "outputs": [
        {
          "output_type": "stream",
          "text": [
            "Kaufman\n",
            "tensor([[-2.7809, -2.8248, -2.9207, -2.8739, -2.9530, -2.9320, -2.9066, -2.9185,\n",
            "         -2.8253, -2.8201, -2.8141, -2.8730, -2.9641, -2.8456, -2.9336, -2.9093,\n",
            "         -3.0372, -2.9299]], grad_fn=<LogSoftmaxBackward>)\n",
            "tensor(0)\n"
          ],
          "name": "stdout"
        }
      ]
    },
    {
      "cell_type": "markdown",
      "metadata": {
        "id": "yjYbVE7PrAVX"
      },
      "source": [
        "Says Kaufman belongs to nationality of index 0 i.e. Portuguese.  \n",
        "Note: without training, probabilities of all classes are roughly same."
      ]
    },
    {
      "cell_type": "code",
      "metadata": {
        "id": "rPiNVfDJqGmW"
      },
      "source": [
        ""
      ],
      "execution_count": 25,
      "outputs": []
    },
    {
      "cell_type": "markdown",
      "metadata": {
        "id": "P539BqXQrgPH"
      },
      "source": [
        "# Evaluate model"
      ]
    },
    {
      "cell_type": "code",
      "metadata": {
        "id": "iLd5PlQhrhD8"
      },
      "source": [
        "# just to generate random inputs from the dataset since in the data, languages are present in an ordered manner\n",
        "def dataloader(npoints, X_, y_):\n",
        "  to_ret = []\n",
        "  for i in range(npoints):\n",
        "    index_ = np.random.randint(len(X_))\n",
        "    name, lang = X_[index_], y_[index_]\n",
        "    to_ret.append((name, lang, name_rep(name), lang_rep(lang))) # append() takes exactly one argument so append as tuple\n",
        "  return to_ret"
      ],
      "execution_count": 26,
      "outputs": []
    },
    {
      "cell_type": "code",
      "metadata": {
        "id": "q6zWhSohuEAe",
        "outputId": "1b42a853-0ad6-41bd-80b1-77fe19ebb3e6",
        "colab": {
          "base_uri": "https://localhost:8080/",
          "height": 1000
        }
      },
      "source": [
        "dataloader(2, X_train, y_train)"
      ],
      "execution_count": 27,
      "outputs": [
        {
          "output_type": "execute_result",
          "data": {
            "text/plain": [
              "[('Nurov',\n",
              "  'Russian',\n",
              "  tensor([[[0., 0., 0., 0., 0., 0., 0., 0., 0., 0., 0., 0., 0., 0., 0., 0., 0.,\n",
              "            0., 0., 0., 0., 0., 0., 0., 0., 0., 0., 0., 0., 0., 0., 0., 0., 0.,\n",
              "            0., 0., 0., 0., 0., 1., 0., 0., 0., 0., 0., 0., 0., 0., 0., 0., 0.,\n",
              "            0., 0., 0., 0., 0.]],\n",
              "  \n",
              "          [[0., 0., 0., 0., 0., 0., 0., 0., 0., 0., 0., 0., 0., 0., 0., 0., 0.,\n",
              "            0., 0., 0., 1., 0., 0., 0., 0., 0., 0., 0., 0., 0., 0., 0., 0., 0.,\n",
              "            0., 0., 0., 0., 0., 0., 0., 0., 0., 0., 0., 0., 0., 0., 0., 0., 0.,\n",
              "            0., 0., 0., 0., 0.]],\n",
              "  \n",
              "          [[0., 0., 0., 0., 0., 0., 0., 0., 0., 0., 0., 0., 0., 0., 0., 0., 0.,\n",
              "            1., 0., 0., 0., 0., 0., 0., 0., 0., 0., 0., 0., 0., 0., 0., 0., 0.,\n",
              "            0., 0., 0., 0., 0., 0., 0., 0., 0., 0., 0., 0., 0., 0., 0., 0., 0.,\n",
              "            0., 0., 0., 0., 0.]],\n",
              "  \n",
              "          [[0., 0., 0., 0., 0., 0., 0., 0., 0., 0., 0., 0., 0., 0., 1., 0., 0.,\n",
              "            0., 0., 0., 0., 0., 0., 0., 0., 0., 0., 0., 0., 0., 0., 0., 0., 0.,\n",
              "            0., 0., 0., 0., 0., 0., 0., 0., 0., 0., 0., 0., 0., 0., 0., 0., 0.,\n",
              "            0., 0., 0., 0., 0.]],\n",
              "  \n",
              "          [[0., 0., 0., 0., 0., 0., 0., 0., 0., 0., 0., 0., 0., 0., 0., 0., 0.,\n",
              "            0., 0., 0., 0., 1., 0., 0., 0., 0., 0., 0., 0., 0., 0., 0., 0., 0.,\n",
              "            0., 0., 0., 0., 0., 0., 0., 0., 0., 0., 0., 0., 0., 0., 0., 0., 0.,\n",
              "            0., 0., 0., 0., 0.]]]),\n",
              "  tensor([13])),\n",
              " ('Hanakhu',\n",
              "  'Russian',\n",
              "  tensor([[[0., 0., 0., 0., 0., 0., 0., 0., 0., 0., 0., 0., 0., 0., 0., 0., 0.,\n",
              "            0., 0., 0., 0., 0., 0., 0., 0., 0., 0., 0., 0., 0., 0., 0., 0., 1.,\n",
              "            0., 0., 0., 0., 0., 0., 0., 0., 0., 0., 0., 0., 0., 0., 0., 0., 0.,\n",
              "            0., 0., 0., 0., 0.]],\n",
              "  \n",
              "          [[1., 0., 0., 0., 0., 0., 0., 0., 0., 0., 0., 0., 0., 0., 0., 0., 0.,\n",
              "            0., 0., 0., 0., 0., 0., 0., 0., 0., 0., 0., 0., 0., 0., 0., 0., 0.,\n",
              "            0., 0., 0., 0., 0., 0., 0., 0., 0., 0., 0., 0., 0., 0., 0., 0., 0.,\n",
              "            0., 0., 0., 0., 0.]],\n",
              "  \n",
              "          [[0., 0., 0., 0., 0., 0., 0., 0., 0., 0., 0., 0., 0., 1., 0., 0., 0.,\n",
              "            0., 0., 0., 0., 0., 0., 0., 0., 0., 0., 0., 0., 0., 0., 0., 0., 0.,\n",
              "            0., 0., 0., 0., 0., 0., 0., 0., 0., 0., 0., 0., 0., 0., 0., 0., 0.,\n",
              "            0., 0., 0., 0., 0.]],\n",
              "  \n",
              "          [[1., 0., 0., 0., 0., 0., 0., 0., 0., 0., 0., 0., 0., 0., 0., 0., 0.,\n",
              "            0., 0., 0., 0., 0., 0., 0., 0., 0., 0., 0., 0., 0., 0., 0., 0., 0.,\n",
              "            0., 0., 0., 0., 0., 0., 0., 0., 0., 0., 0., 0., 0., 0., 0., 0., 0.,\n",
              "            0., 0., 0., 0., 0.]],\n",
              "  \n",
              "          [[0., 0., 0., 0., 0., 0., 0., 0., 0., 0., 1., 0., 0., 0., 0., 0., 0.,\n",
              "            0., 0., 0., 0., 0., 0., 0., 0., 0., 0., 0., 0., 0., 0., 0., 0., 0.,\n",
              "            0., 0., 0., 0., 0., 0., 0., 0., 0., 0., 0., 0., 0., 0., 0., 0., 0.,\n",
              "            0., 0., 0., 0., 0.]],\n",
              "  \n",
              "          [[0., 0., 0., 0., 0., 0., 0., 1., 0., 0., 0., 0., 0., 0., 0., 0., 0.,\n",
              "            0., 0., 0., 0., 0., 0., 0., 0., 0., 0., 0., 0., 0., 0., 0., 0., 0.,\n",
              "            0., 0., 0., 0., 0., 0., 0., 0., 0., 0., 0., 0., 0., 0., 0., 0., 0.,\n",
              "            0., 0., 0., 0., 0.]],\n",
              "  \n",
              "          [[0., 0., 0., 0., 0., 0., 0., 0., 0., 0., 0., 0., 0., 0., 0., 0., 0.,\n",
              "            0., 0., 0., 1., 0., 0., 0., 0., 0., 0., 0., 0., 0., 0., 0., 0., 0.,\n",
              "            0., 0., 0., 0., 0., 0., 0., 0., 0., 0., 0., 0., 0., 0., 0., 0., 0.,\n",
              "            0., 0., 0., 0., 0.]]]),\n",
              "  tensor([13]))]"
            ]
          },
          "metadata": {
            "tags": []
          },
          "execution_count": 27
        }
      ]
    },
    {
      "cell_type": "markdown",
      "metadata": {
        "id": "3QHufzt9uOAl"
      },
      "source": [
        "Output: Name, lang, name_enc, lang_enc"
      ]
    },
    {
      "cell_type": "code",
      "metadata": {
        "id": "BFPNrTg2sa0X"
      },
      "source": [
        "# Generally classification eval done using top-k accuracy (ground truth in top-k predictions)\n",
        "def eval(net, n_points, k, X_, y_):\n",
        "\n",
        "  data_ = dataloader(n_points, X_, y)\n",
        "  correct = 0\n",
        "\n",
        "  for name, language, name_ohe, lang_rep in data_:\n",
        "\n",
        "    output = infer(net, name)\n",
        "    val, indices = output.topk(k) # topk - PyTorch function\n",
        "\n",
        "    if lang_rep in indices:\n",
        "      correct +=1\n",
        "\n",
        "  accuracy = correct/n_points\n",
        "  return accuracy"
      ],
      "execution_count": 28,
      "outputs": []
    },
    {
      "cell_type": "code",
      "metadata": {
        "id": "8_QNY5MKtSAW",
        "outputId": "a182c82e-9301-40ec-df68-b9c995b4a826",
        "colab": {
          "base_uri": "https://localhost:8080/",
          "height": 34
        }
      },
      "source": [
        "eval(net, 100, 1, X_test, y_test)"
      ],
      "execution_count": 29,
      "outputs": [
        {
          "output_type": "execute_result",
          "data": {
            "text/plain": [
              "0.09"
            ]
          },
          "metadata": {
            "tags": []
          },
          "execution_count": 29
        }
      ]
    },
    {
      "cell_type": "code",
      "metadata": {
        "id": "lJ41yysLtdMW",
        "outputId": "099881a9-45b5-4aa6-f0a1-c2735da6b470",
        "colab": {
          "base_uri": "https://localhost:8080/",
          "height": 34
        }
      },
      "source": [
        "eval(net, 100, 10, X_test, y_test)"
      ],
      "execution_count": 30,
      "outputs": [
        {
          "output_type": "execute_result",
          "data": {
            "text/plain": [
              "0.58"
            ]
          },
          "metadata": {
            "tags": []
          },
          "execution_count": 30
        }
      ]
    },
    {
      "cell_type": "markdown",
      "metadata": {
        "id": "Qp7NVin7vCvJ"
      },
      "source": [
        "Obviously greater for higher k since almost all languages predicted"
      ]
    },
    {
      "cell_type": "code",
      "metadata": {
        "id": "M5-A_qHfu-Kr"
      },
      "source": [
        ""
      ],
      "execution_count": 30,
      "outputs": []
    },
    {
      "cell_type": "markdown",
      "metadata": {
        "id": "d_QJlZCjvdr_"
      },
      "source": [
        "# Training"
      ]
    },
    {
      "cell_type": "markdown",
      "metadata": {
        "id": "AQGh8fh5viuQ"
      },
      "source": [
        "### Basic setup\n",
        "(for just one batch)"
      ]
    },
    {
      "cell_type": "markdown",
      "metadata": {
        "id": "QE7phZSHvkrw"
      },
      "source": [
        "Define loss function and backpropagation  \n"
      ]
    },
    {
      "cell_type": "code",
      "metadata": {
        "id": "ZO8qrxlbveUq"
      },
      "source": [
        "def train(net, opt, criterion, n_points): # criterion = loss function\n",
        "\n",
        "  # set all params to 0, in case they were retained from an earlier training\n",
        "  opt.zero_grad()\n",
        "  total_loss = 0\n",
        "\n",
        "  # choose random points\n",
        "  data_ = dataloader(n_points, X_train, y_train)\n",
        "\n",
        "  for name, language, name_ohe, lang_rep in data_:\n",
        "\n",
        "    hidden = net.init_hidden()\n",
        "\n",
        "    # pass each character\n",
        "    # creating computational graph (i.e. the params, output for each individual unit of the RNN - all being stored by PyTorch). While backpropagating, we backpropagate through all of these\n",
        "    for i in range(name_ohe.size()[0]):\n",
        "      output, hidden = net(name_ohe[i], hidden)\n",
        "\n",
        "    loss = criterion(output, lang_rep)\n",
        "\n",
        "    # computing gradients\n",
        "    loss.backward(retain_graph = True)\n",
        "\n",
        "    total_loss += loss\n",
        "\n",
        "  # update params using the grad computed using loss.backward \n",
        "  # Just one step here\n",
        "  opt.step()\n",
        "\n",
        "  # divide since we aggregated loss for all points\n",
        "  return total_loss/n_points"
      ],
      "execution_count": 31,
      "outputs": []
    },
    {
      "cell_type": "markdown",
      "metadata": {
        "id": "wiW7TjEXzFRy"
      },
      "source": [
        "The above is for one batch of n_points. For all these points, computing one set of gradients and updating only once."
      ]
    },
    {
      "cell_type": "code",
      "metadata": {
        "id": "qifhCnx6w5BX"
      },
      "source": [
        "criterion = nn.NLLLoss() # negative log likelihood loss because using softmax\n",
        "opt = optim.SGD(net.parameters(), lr = 0.01, momentum = 0.9)"
      ],
      "execution_count": 32,
      "outputs": []
    },
    {
      "cell_type": "markdown",
      "metadata": {
        "id": "e2ROtLb9AdBz"
      },
      "source": [
        "Loss: Negative Log Likelihood    \n",
        "Strategy: Stochastic Gradient Descent\n",
        "Optimizer: Vanilla (Optionally if you mention nesterov=True, it'll use NAG)   \n",
        "Activation function: tanh (RNN uses sigmoid(mostly)/tanh(mostly)/relu)   \n",
        "https://pytorch.org/docs/stable/generated/torch.nn.RNN.html   \n",
        "Regularisation: Not used here (can pass L2 to optim.SGD)"
      ]
    },
    {
      "cell_type": "code",
      "metadata": {
        "id": "2PkgkUnSxE7D",
        "outputId": "645030e0-98ce-4677-998f-b5eff6777f22",
        "colab": {
          "base_uri": "https://localhost:8080/",
          "height": 70
        }
      },
      "source": [
        "%%time\n",
        "train(net, opt, criterion, 200)"
      ],
      "execution_count": 33,
      "outputs": [
        {
          "output_type": "stream",
          "text": [
            "CPU times: user 327 ms, sys: 30.1 ms, total: 357 ms\n",
            "Wall time: 399 ms\n"
          ],
          "name": "stdout"
        },
        {
          "output_type": "execute_result",
          "data": {
            "text/plain": [
              "tensor(2.8942, grad_fn=<DivBackward0>)"
            ]
          },
          "metadata": {
            "tags": []
          },
          "execution_count": 33
        }
      ]
    },
    {
      "cell_type": "code",
      "metadata": {
        "id": "sz8eD2Shz0So",
        "outputId": "3c1fadf6-58d9-4bd9-df43-2c9c642bb2e0",
        "colab": {
          "base_uri": "https://localhost:8080/",
          "height": 34
        }
      },
      "source": [
        "# Top-1\n",
        "eval(net, 1000, 1, X_test, y_test)"
      ],
      "execution_count": 34,
      "outputs": [
        {
          "output_type": "execute_result",
          "data": {
            "text/plain": [
              "0.0"
            ]
          },
          "metadata": {
            "tags": []
          },
          "execution_count": 34
        }
      ]
    },
    {
      "cell_type": "code",
      "metadata": {
        "id": "6YDbTfrm0FDH"
      },
      "source": [
        ""
      ],
      "execution_count": 34,
      "outputs": []
    },
    {
      "cell_type": "markdown",
      "metadata": {
        "id": "4guzIp-u2J2F"
      },
      "source": [
        "### Full training setup"
      ]
    },
    {
      "cell_type": "markdown",
      "metadata": {
        "id": "UhcWxeOlAwbf"
      },
      "source": [
        "1 function to train just a batch  \n",
        "1 cell to encapsulate all the hyperparameters (optimizer etc)  \n",
        "1 function for the training setup (which takes all hyperparameters as arguments) - this function doesn't contain all details - just ML flow with parameters."
      ]
    },
    {
      "cell_type": "code",
      "metadata": {
        "id": "gE39Kc3b2LiW"
      },
      "source": [
        "def train_setup(net, lr = 0.01, n_batches = 100, batch_size = 10, momentum = 0.9, display_freq = 5):\n",
        "  # display every 5 iterations\n",
        "\n",
        "  criterion = nn.NLLLoss()\n",
        "  # Note: If last function is softmax in model, then HAVE to use NLLLoss, else if softmax not mentioned, can use Cross Entropy Loss Function\n",
        "  # As mentioned earlier, don't have to use softmax since it is computationally heavy, and all we need is the top-k. But required when inferring. So can use softmax.\n",
        "  \n",
        "  opt = optim.SGD(net.parameters(), lr = lr, momentum = momentum)\n",
        "\n",
        "  loss_arr = np.zeros(n_batches + 1)\n",
        "\n",
        "  for i in range(n_batches):\n",
        "    # call to 'train' for each batch\n",
        "    loss_arr[i+1] = (loss_arr[i]*i + train(net, opt, criterion, batch_size))/(i+1)\n",
        "\n",
        "    if i%display_freq == display_freq-1:\n",
        "      clear_output(wait=True)\n",
        "\n",
        "      print(\"Iteration\",i,\"Top-1\", eval(net, len(X_test), 1, X_test, y_test), \"Top-2\", eval(net, len(X_test), 1, X_test, y_test))\n",
        "\n",
        "      plt.figure()\n",
        "      plt.plot(loss_arr[1:i], '-*')\n",
        "      plt.xlabel('Iteration')\n",
        "      plt.ylabel('Loss')\n",
        "      plt.show()\n",
        "      print(\"\\n\\n\")\n",
        "      "
      ],
      "execution_count": 35,
      "outputs": []
    },
    {
      "cell_type": "code",
      "metadata": {
        "id": "TuBLOl9r3iiC",
        "outputId": "1473c023-84fa-45e6-9753-a85dd134783c",
        "colab": {
          "base_uri": "https://localhost:8080/",
          "height": 350
        }
      },
      "source": [
        "n_hidden = 128\n",
        "net = RNN_net(n_letters, n_hidden, n_languages)\n",
        "train_setup(net, lr = 0.0005, n_batches = 100, batch_size = 256)"
      ],
      "execution_count": 36,
      "outputs": [
        {
          "output_type": "stream",
          "text": [
            "Iteration 99 Top-1 0.014214463840399002 Top-2 0.013466334164588529\n"
          ],
          "name": "stdout"
        },
        {
          "output_type": "display_data",
          "data": {
            "image/png": "[encoded data removed]",
            "text/plain": [
              "<Figure size 432x288 with 1 Axes>"
            ]
          },
          "metadata": {
            "tags": [],
            "needs_background": "light"
          }
        },
        {
          "output_type": "stream",
          "text": [
            "\n",
            "\n",
            "\n"
          ],
          "name": "stdout"
        }
      ]
    },
    {
      "cell_type": "code",
      "metadata": {
        "id": "8lTqW4tsCQNk",
        "outputId": "9adea8c0-22d2-4a17-e76f-1efe825b69a9",
        "colab": {
          "base_uri": "https://localhost:8080/",
          "height": 34
        }
      },
      "source": [
        "eval(net, 100, 10, X_test, y_test)"
      ],
      "execution_count": 38,
      "outputs": [
        {
          "output_type": "execute_result",
          "data": {
            "text/plain": [
              "0.67"
            ]
          },
          "metadata": {
            "tags": []
          },
          "execution_count": 38
        }
      ]
    },
    {
      "cell_type": "markdown",
      "metadata": {
        "id": "nB_RtSKkBoOh"
      },
      "source": [
        "Higher accuracy"
      ]
    },
    {
      "cell_type": "code",
      "metadata": {
        "id": "cEyiXzj2Bum0",
        "outputId": "85fc195b-3e99-4235-a303-485589f05905",
        "colab": {
          "base_uri": "https://localhost:8080/",
          "height": 105
        }
      },
      "source": [
        "output = infer(net, X_train[0]) # distribution over all classes (nationalities)\n",
        "\n",
        "print(X_train[0])\n",
        "\n",
        "# Softmax returned so argmax\n",
        "index = torch.argmax(output)\n",
        "print(output)\n",
        "print(index)"
      ],
      "execution_count": 39,
      "outputs": [
        {
          "output_type": "stream",
          "text": [
            "Kaufman\n",
            "tensor([[-5.1452, -3.7648, -4.1480, -5.2327, -3.9522, -4.6297, -3.3372, -4.4717,\n",
            "         -3.3902, -3.9819, -3.9470, -4.8835, -1.6475, -0.9819, -4.6259, -1.6100,\n",
            "         -5.0749, -4.4541]], grad_fn=<LogSoftmaxBackward>)\n",
            "tensor(13)\n"
          ],
          "name": "stdout"
        }
      ]
    },
    {
      "cell_type": "markdown",
      "metadata": {
        "id": "oBJEDVJACGhR"
      },
      "source": [
        "This time predicts that Kaufman belongs to nationality with index 13 i.e. Russian. (Previously, before training had predicted as English).  "
      ]
    },
    {
      "cell_type": "markdown",
      "metadata": {
        "id": "NEWC86SFD2SA"
      },
      "source": [
        "Also note that this time the probabilities of all classes are not similar (as it was before the training)."
      ]
    },
    {
      "cell_type": "code",
      "metadata": {
        "id": "mtKp-5ocCb4B",
        "outputId": "a6eb7145-47c6-4f3d-cb6d-a733db903dac",
        "colab": {
          "base_uri": "https://localhost:8080/",
          "height": 70
        }
      },
      "source": [
        "for x in data:\n",
        "  if(x[0]==\"Kaufman\"):\n",
        "    print(x[0], \"actually belongs to\", x[1])"
      ],
      "execution_count": 42,
      "outputs": [
        {
          "output_type": "stream",
          "text": [
            "Kaufman actually belongs to German\n",
            "Kaufman actually belongs to English\n",
            "Kaufman actually belongs to Russian\n"
          ],
          "name": "stdout"
        }
      ]
    },
    {
      "cell_type": "markdown",
      "metadata": {
        "id": "bn59KmWjDX9q"
      },
      "source": [
        "Thus, our prediction is right!"
      ]
    },
    {
      "cell_type": "markdown",
      "metadata": {
        "id": "HTd_HhkUFlrv"
      },
      "source": [
        "Try another name:"
      ]
    },
    {
      "cell_type": "code",
      "metadata": {
        "id": "5xfqFB0WCcEx",
        "outputId": "68e8e1ad-b286-498b-883a-41488eb76373",
        "colab": {
          "base_uri": "https://localhost:8080/",
          "height": 105
        }
      },
      "source": [
        "output = infer(net, \"Almeida\") \n",
        "\n",
        "print(\"Almeida\")\n",
        "\n",
        "index = torch.argmax(output)\n",
        "print(output)\n",
        "print(index)"
      ],
      "execution_count": 49,
      "outputs": [
        {
          "output_type": "stream",
          "text": [
            "Almeida\n",
            "tensor([[-4.6645, -3.7132, -3.2017, -5.1106, -4.9557, -4.4624, -2.3904, -3.8962,\n",
            "         -1.0801, -3.1977, -3.0970, -4.7261, -2.3989, -2.6710, -3.9286, -3.7728,\n",
            "         -5.2605, -1.9196]], grad_fn=<LogSoftmaxBackward>)\n",
            "tensor(8)\n"
          ],
          "name": "stdout"
        }
      ]
    },
    {
      "cell_type": "code",
      "metadata": {
        "id": "K4w12BMkCbne",
        "outputId": "561f36b4-aaca-49d8-ca60-6a57dbf12ca9",
        "colab": {
          "base_uri": "https://localhost:8080/",
          "height": 34
        }
      },
      "source": [
        "for x in data:\n",
        "  if(x[0]==\"Almeida\"):\n",
        "    print(x[0], \"actually belongs to\", x[1])"
      ],
      "execution_count": 50,
      "outputs": [
        {
          "output_type": "stream",
          "text": [
            "Almeida actually belongs to Portuguese\n"
          ],
          "name": "stdout"
        }
      ]
    },
    {
      "cell_type": "markdown",
      "metadata": {
        "id": "h-_foWIlEQDZ"
      },
      "source": [
        "The prediction was that the name Almeida belongs to \"Japanese\". However, the name actually belongs to \"Portuguese\" nationality. The wrong prediction makes sense, since the data present for all nationalities except Russian and English is way too less than those present for the 2 classes."
      ]
    },
    {
      "cell_type": "code",
      "metadata": {
        "id": "eRO3aU6bE7Xb"
      },
      "source": [
        ""
      ],
      "execution_count": null,
      "outputs": []
    },
    {
      "cell_type": "markdown",
      "metadata": {
        "id": "SAx5IvXXDoYh"
      },
      "source": [
        "# LSTM Cell"
      ]
    },
    {
      "cell_type": "code",
      "metadata": {
        "id": "F_mXP-pzDnR2"
      },
      "source": [
        "class LSTM_net(nn.Module):\n",
        "  def __init__(self, input_size, hidden_size, output_size):\n",
        "    super(LSTM_net, self).__init__()\n",
        "    self.hidden_size = hidden_size\n",
        "    self.lstm_cell = nn.LSTM(input_size, hidden_size)\n",
        "    self.h2o = nn.Linear(hidden_size, output_size) # one linear (fully connected) layer, that computes the output (number of languages) from the hidden layer\n",
        "    self.softmax = nn.LogSoftmax(dim=2)\n",
        "\n",
        "  def forward(self, input_, hidden):\n",
        "    # .view => reshape. -1 => flatten out whatever's remaining\n",
        "    # (can give several inputs simultanously (to benefit from vectorization, but not done here), number of batches, to flatten)\n",
        "    out, hidden = self.lstm_cell(input_.view(1, 1, -1), hidden)\n",
        "    output = self.h2o(hidden[0])\n",
        "    output = self.softmax(output)\n",
        "    return output.view(1, -1), hidden # flatten\n",
        "\n",
        "  # this time 2 tuples since - one for hidden state, and other for cell state\n",
        "  def init_hidden(self):\n",
        "    # (1, 1, self.hidden_size) -> (number of layers in LSTM cell, number of batches, size)\n",
        "    return (torch.zeros(1, 1, self.hidden_size), torch.zeros(1, 1, self.hidden_size))"
      ],
      "execution_count": 51,
      "outputs": []
    },
    {
      "cell_type": "code",
      "metadata": {
        "id": "gkj7f6kPHLeT",
        "outputId": "32d1b087-9574-4eeb-aaf1-d5c0a208ecd9",
        "colab": {
          "base_uri": "https://localhost:8080/",
          "height": 350
        }
      },
      "source": [
        "n_hidden = 128\n",
        "net = LSTM_net(n_letters, n_hidden, n_languages)\n",
        "train_setup(net, lr = 0.0005, n_batches = 100, batch_size = 256)"
      ],
      "execution_count": 52,
      "outputs": [
        {
          "output_type": "stream",
          "text": [
            "Iteration 99 Top-1 0.0 Top-2 0.0\n"
          ],
          "name": "stdout"
        },
        {
          "output_type": "display_data",
          "data": {
            "image/png": "[encoded data removed]",
            "text/plain": [
              "<Figure size 432x288 with 1 Axes>"
            ]
          },
          "metadata": {
            "tags": [],
            "needs_background": "light"
          }
        },
        {
          "output_type": "stream",
          "text": [
            "\n",
            "\n",
            "\n"
          ],
          "name": "stdout"
        }
      ]
    },
    {
      "cell_type": "code",
      "metadata": {
        "id": "vN4wSMlRFWoR",
        "outputId": "bc5cdfff-ddf9-47ef-d3af-89adf9f450f5",
        "colab": {
          "base_uri": "https://localhost:8080/",
          "height": 34
        }
      },
      "source": [
        "eval(net, 100, 10, X_test, y_test)"
      ],
      "execution_count": 53,
      "outputs": [
        {
          "output_type": "execute_result",
          "data": {
            "text/plain": [
              "0.7"
            ]
          },
          "metadata": {
            "tags": []
          },
          "execution_count": 53
        }
      ]
    },
    {
      "cell_type": "code",
      "metadata": {
        "id": "aCLQJBG8Fb6u",
        "outputId": "97a77c9a-a32a-4c95-9d76-5a282875511e",
        "colab": {
          "base_uri": "https://localhost:8080/",
          "height": 105
        }
      },
      "source": [
        "output = infer(net, X_train[0]) \n",
        "\n",
        "print(X_train[0])\n",
        "\n",
        "index = torch.argmax(output)\n",
        "print(output)\n",
        "print(index)"
      ],
      "execution_count": 54,
      "outputs": [
        {
          "output_type": "stream",
          "text": [
            "Kaufman\n",
            "tensor([[-5.2038, -4.3055, -4.3255, -5.4446, -4.2765, -4.4077, -3.5965, -4.0659,\n",
            "         -2.8488, -4.0753, -3.1009, -5.0598, -1.4983, -0.9289, -4.8432, -2.4323,\n",
            "         -5.1774, -3.0641]], grad_fn=<ViewBackward>)\n",
            "tensor(13)\n"
          ],
          "name": "stdout"
        }
      ]
    },
    {
      "cell_type": "markdown",
      "metadata": {
        "id": "FKtWpTEuHnbN"
      },
      "source": [
        "Predicts correctly that the name Kaufman belongs to \"Russian\" nationality."
      ]
    },
    {
      "cell_type": "code",
      "metadata": {
        "id": "2jdlOKeHHbF5",
        "outputId": "1ce0aabe-f9e7-44eb-aff2-f7df3b8cac2c",
        "colab": {
          "base_uri": "https://localhost:8080/",
          "height": 105
        }
      },
      "source": [
        "output = infer(net, \"Almeida\")\n",
        "\n",
        "print(\"Almeida\")\n",
        "\n",
        "index = torch.argmax(output)\n",
        "print(output)\n",
        "print(index)"
      ],
      "execution_count": 55,
      "outputs": [
        {
          "output_type": "stream",
          "text": [
            "Almeida\n",
            "tensor([[-4.8258, -3.9908, -4.0081, -5.0777, -3.9239, -4.0200, -3.2581, -3.7622,\n",
            "         -2.3309, -3.7414, -2.7473, -4.6841, -1.3054, -2.0082, -4.4767, -1.8039,\n",
            "         -4.8561, -2.7136]], grad_fn=<ViewBackward>)\n",
            "tensor(12)\n"
          ],
          "name": "stdout"
        }
      ]
    },
    {
      "cell_type": "markdown",
      "metadata": {
        "id": "dmgafBC-Hv7y"
      },
      "source": [
        "Like RNN, gives the wrong prediction. The name Almeida belongs to Portuguese, but is classified as English. \n",
        "\n",
        "Again this makes sense since most of the data available for Russian and English nationality."
      ]
    },
    {
      "cell_type": "code",
      "metadata": {
        "id": "Ufr4k4R2Ff3H"
      },
      "source": [
        ""
      ],
      "execution_count": null,
      "outputs": []
    },
    {
      "cell_type": "code",
      "metadata": {
        "id": "vXhfVcoYGETn"
      },
      "source": [
        ""
      ],
      "execution_count": null,
      "outputs": []
    },
    {
      "cell_type": "markdown",
      "metadata": {
        "id": "gSoIMA8iMavc"
      },
      "source": [
        "# GRU Cell"
      ]
    },
    {
      "cell_type": "markdown",
      "metadata": {
        "id": "Phi5BNP6MdED"
      },
      "source": [
        "Fewer number of gates.  "
      ]
    },
    {
      "cell_type": "code",
      "metadata": {
        "id": "xXKgfl-yMcay"
      },
      "source": [
        "class GRU_net(nn.Module):\n",
        "  def __init__(self, input_size, hidden_size, output_size):\n",
        "    super(GRU_net, self).__init__()\n",
        "    self.hidden_size = hidden_size\n",
        "    self.gru_cell = nn.GRU(input_size, hidden_size)\n",
        "    self.h2o = nn.Linear(hidden_size, output_size)\n",
        "    self.softmax = nn.LogSoftmax(dim=2)\n",
        "\n",
        "  def forward(self, input_, hidden):\n",
        "    out, hidden = self.gru_cell(input_.view(1, 1, -1), hidden)\n",
        "    output = self.h2o(hidden[0])\n",
        "    output = self.softmax(output)\n",
        "    return output.view(1, -1), hidden\n",
        "\n",
        "  def init_hidden(self):\n",
        "    return torch.zeros(1, 1, self.hidden_size)"
      ],
      "execution_count": 66,
      "outputs": []
    },
    {
      "cell_type": "code",
      "metadata": {
        "id": "FEMOM5XfOQ1h"
      },
      "source": [
        "n_hidden = 128\n",
        "net = GRU_net(n_letters, n_hidden, n_languages)\n",
        "train_setup(net, lr = 0.0005, n_batches = 100, batch_size = 128)"
      ],
      "execution_count": null,
      "outputs": []
    }
  ]
}